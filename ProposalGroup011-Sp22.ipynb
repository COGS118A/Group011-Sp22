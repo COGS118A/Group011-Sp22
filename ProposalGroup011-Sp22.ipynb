{
 "cells": [
  {
   "cell_type": "markdown",
   "metadata": {},
   "source": [
    "# COGS 118A- Project Proposal"
   ]
  },
  {
   "cell_type": "markdown",
   "metadata": {},
   "source": [
    "# Project Description\n",
    "\n",
    "You will design and execute a machine learning project. There are a few constraints on the nature of the allowed project. \n",
    "- The problem addressed will not be a \"toy problem\" or \"common training students problem\" like mtcars, iris, palmer penguins etc.\n",
    "- The dataset will have >1k observations and >5 variables. I'd prefer more like >10k observations and >10 variables. A general rule is that if you have >100x more observations than variables, your solution will likely generalize a lot better. The goal of training a supervised machine learning model is to learn the underlying pattern in a dataset in order to generalize well to unseen data, so choosing a large dataset is very important.\n",
    "\n",
    "- The project will include a model selection and/or feature selection component where you will be looking for the best setup to maximize the performance of your ML system.\n",
    "- You will evaluate the performance of your ML system using more than one appropriate metric\n",
    "- You will be writing a report describing and discussing these accomplishments\n",
    "\n",
    "\n",
    "Feel free to delete this description section when you hand in your proposal."
   ]
  },
  {
   "cell_type": "markdown",
   "metadata": {},
   "source": [
    "### Peer Review\n",
    "\n",
    "You will all have an opportunity to look at the Project Proposals of other groups to fuel your creativity and get more ideas for how you can improve your own projects. \n",
    "\n",
    "Both the project proposal and project checkpoint will have peer review."
   ]
  },
  {
   "cell_type": "markdown",
   "metadata": {},
   "source": [
    "# Names\n",
    "\n",
    "Hopefully your team is at least this good. Obviously you should replace these with your names.\n",
    "\n",
    "- Dongze Li\n",
    "- Feifan Li\n",
    "- Rosy Xu\n",
    "- Shaolong Li\n",
    "- Zikang Chen"
   ]
  },
  {
   "cell_type": "markdown",
   "metadata": {},
   "source": [
    "# Abstract \n",
    "This section should be short and clearly stated. It should be a single paragraph <200 words.  It should summarize: \n",
    "- what your goal/problem is\n",
    "- what the data used represents and how they are measured\n",
    "- what you will be doing with the data\n",
    "- how performance/success will be measured"
   ]
  },
  {
   "cell_type": "markdown",
   "metadata": {},
   "source": [
    "# Background\n",
    "\n",
    "Heart disease is one of the leading causes of death for all people from all racial and ethnic groups in the United States. According to the data from CDC, “one person dies every 36 seconds in the United States from cardiovascular disease<a name=\"CDC\"></a>[<sup>[1]</sup>](#CDC) and about 659,000 people in the United States die from heart disease each year<a name=\"CDC\"></a>[<sup>[1]</sup>](#CDC), which is 1 in every 4 deaths<a name=\"CDC\"></a>[<sup>[1]</sup>](#CDC)”. Besides, heart disease placed huge fiscal stress on the Federal government, “costing about 363 billion dollars each year from 2016 to 2017\"<a name=\"CDC\"></a>[<sup>[1]</sup>](#CDC).\n",
    "\n",
    "Many prior works have been done in this area. One prior work done by Davide Chicco & Giuseppe Jurman<a name=\"BMC\"></a>[<sup>[2]</sup>](#BMC) analyzed a dataset of 299 patients with heart failure and performed an alternative feature ranking analysis using traditional biostatistics tests. \n",
    "\n",
    "Another work done by Rohit Bharti, Aditya Khamparia and et al.<a name=\"Hindawi\"></a>[<sup>[3]</sup>](#Hindawi) tried to predict Heart Disease using a combination of Machine Learning and Deep Learning. They used a Public Health Dataset containing 76 attributes and employed various methods including KNN, PCA and SVM to do the analysis. \n",
    "\n",
    "Using ML algorithms to do the Heart Disease Prediction can be really important because good prediction can help lower the risk of the disease and further prevent life threat. Even an inaccurate prediction can indirectly provide us with some meaningful data that shows relationship between the factors that contribute most to heart disease. Therefore, answering the question such as which factors contribute most to heart disease can be really necessary.\n"
   ]
  },
  {
   "cell_type": "markdown",
   "metadata": {},
   "source": [
    "# Problem Statement\n",
    "\n",
    "Clearly describe the problem that you are solving. Avoid ambiguous words. The problem described should be well defined and should have at least one ML-relevant potential solution. Additionally, describe the problem thoroughly such that it is clear that the problem is quantifiable (the problem can be expressed in mathematical or logical terms), measurable (the problem can be measured by some metric and clearly observed), and replicable (the problem can be reproduced and occurs more than once)."
   ]
  },
  {
   "cell_type": "markdown",
   "metadata": {},
   "source": [
    "# Data\n",
    "\n",
    "You should have a strong idea of what dataset(s) will be used to accomplish this project. \n",
    "\n",
    "If you know what (some) of the data you will use are please give the following infomration for each dataset\n",
    "- link/reference to obtain it\n",
    "- description of the size of the dataset (# of variables, # of observations)\n",
    "- what an observation consists of\n",
    "- what some critical variables are, how they are represented\n",
    "- any special handling, transformations, cleaning, etc will be needed\n",
    "\n",
    "If you don't yet know what your dataset(s) will be, you should be able to describe what you desire in terms of the above bullets"
   ]
  },
  {
   "cell_type": "markdown",
   "metadata": {},
   "source": [
    "# Proposed Solution\n",
    "\n",
    "In this section, clearly describe a solution to the problem. The solution should be applicable to the project domain and appropriate for the dataset(s) or input(s) given. Provide enough detail (e.g., algorithmic description and/or theoretical properties) to convince us that your solution is applicable. Make sure to describe how the solution will be tested.  \n",
    "\n",
    "If you know details already, describe how (e.g., library used, function calls) you plan to implement the solution in a way that is reproducible.\n",
    "\n",
    "If it is appropriate to the problem statement, describe a benchmark model<a name=\"sota\"></a>[<sup>[3]</sup>](#sotanote) against which your solution will be compared. "
   ]
  },
  {
   "cell_type": "markdown",
   "metadata": {},
   "source": [
    "# Evaluation Metrics\n",
    "\n",
    "Propose at least one evaluation metric that can be used to quantify the performance of both the benchmark model and the solution model. The evaluation metric(s) you propose should be appropriate given the context of the data, the problem statement, and the intended solution. Describe how the evaluation metric(s) are derived and provide an example of their mathematical representations (if applicable). Complex evaluation metrics should be clearly defined and quantifiable (can be expressed in mathematical or logical terms)."
   ]
  },
  {
   "cell_type": "markdown",
   "metadata": {},
   "source": [
    "# Ethics & Privacy"
   ]
  },
  {
   "cell_type": "markdown",
   "metadata": {},
   "source": [
    "If your project has obvious potential concerns with ethics or data privacy discuss that here.  Almost every ML project put into production can have ethical implications if you use your imagination. Use your imagination.\n",
    "\n",
    "Even if you can't come up with an obvious ethical concern that should be addressed, you should know that a large number of ML projects that go into producation have unintended consequences and ethical problems once in production. How will your team address these issues?\n",
    "\n",
    "Consider a tool to help you address the potential issues such as https://deon.drivendata.org"
   ]
  },
  {
   "cell_type": "markdown",
   "metadata": {},
   "source": [
    "# Team Expectations "
   ]
  },
  {
   "cell_type": "markdown",
   "metadata": {},
   "source": [
    "Put things here that cement how you will interact/communicate as a team, how you will handle conflict and difficulty, how you will handle making decisions and setting goals/schedule, how much work you expect from each other, how you will handle deadlines, etc...\n",
    "* *1) We are expected to attend weekly meeting and be prepared for meeting.*\n",
    "* *2) Everyone is expected to contribute evenly to this project.*\n",
    "* *3) Everyone's idea will be respected by others.*\n",
    "* *4) Finish one's work one day before deadline so that others could proofread everything.*"
   ]
  },
  {
   "cell_type": "markdown",
   "metadata": {},
   "source": [
    "# Project Timeline Proposal"
   ]
  },
  {
   "cell_type": "markdown",
   "metadata": {},
   "source": [
    "Replace this with something meaningful that is appropriate for your needs. It doesn't have to be something that fits this format.  It doesn't have to be set in stone... \"no battle plan survives contact with the enemy\". But you need a battle plan nonetheless, and you need to keep it updated so you understand what you are trying to accomplish, who's responsible for what, and what the expected due dates are for each item.\n",
    "\n",
    "| Meeting Date  | Meeting Time| Completed Before Meeting  | Discuss at Meeting |\n",
    "|---|---|---|---|\n",
    "| 4/17  |  10 PM |  Brainstorm topics/datasets (all)  | Determine best form of communication; Discuss and decide on final project topic; discuss hypothesis; begin background research; draft project proposal; Edit, finalize and submit proposal | \n",
    "| 4/24  |  10 AM |  Do background research on topic | Discuss ideal dataset(s) and ethics; Discuss possible models to implement | \n",
    "| 5/1  | 10 AM  | Search for datasets (Beckenbaur)  | Discuss Wrangling and possible analytical approaches; Assign group members to lead each specific part   |\n",
    "| 5/8  | 6 PM  | Import & Wrangle Data ,do some EDA (all) | Review/Edit wrangling/EDA; Discuss Analysis Plan; Finish checkpoint   |\n",
    "| 5/15  | 12 PM  | Finalize wrangling/EDA; Begin programming for project (all) | Discuss/edit project code; Complete project |\n",
    "| 5/22  | 12 PM  | Keep programming for projects and add analysis | Discuss/edit full project |\n",
    "| 5/29  | 8 PM  | Finalize analysis; Draft results/conclusion/discussion (all) | Finalize full project  |\n",
    "| 6/8  | Before 11:59 PM  | NA | Turn in Final Project  |"
   ]
  },
  {
   "cell_type": "markdown",
   "metadata": {},
   "source": [
    "# Footnotes\n",
    "<a name=\"CDC\"></a>1.[^](#admonish): CDC Heart Disease Facts.https://www.cdc.gov/heartdisease/facts.htm<br>\n",
    "<a name=\"BMC\"></a>2.[^](#admonish): BMC Medical Informatics and Decision Makinghttps://bmcmedinformdecismak.biomedcentral.com/articles/10.1186/s12911-020-1023-5<br>\n",
    "<a name=\"Hindawi\"></a>3.[^](#admonish): Prediction of Heart Disease Using a Combination of Machine Learning and Deep Learning https://www.hindawi.com/journals/cin/2021/8387680/<br>"
   ]
  },
  {
   "cell_type": "code",
   "execution_count": null,
   "metadata": {},
   "outputs": [],
   "source": []
  }
 ],
 "metadata": {
  "kernelspec": {
   "display_name": "Python 3",
   "language": "python",
   "name": "python3"
  },
  "language_info": {
   "codemirror_mode": {
    "name": "ipython",
    "version": 3
   },
   "file_extension": ".py",
   "mimetype": "text/x-python",
   "name": "python",
   "nbconvert_exporter": "python",
   "pygments_lexer": "ipython3",
   "version": "3.8.8"
  }
 },
 "nbformat": 4,
 "nbformat_minor": 2
}
