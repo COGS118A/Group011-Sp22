{
 "cells": [
  {
   "cell_type": "markdown",
   "id": "e979c01d-a5ce-4035-bdc4-7be24654cd0b",
   "metadata": {},
   "source": [
    "# Clean"
   ]
  },
  {
   "cell_type": "code",
   "execution_count": 1,
   "id": "47a4e948-6fd1-4387-912d-e15af0e421f3",
   "metadata": {},
   "outputs": [],
   "source": [
    "import pandas as pd\n",
    "import numpy as np\n",
    "from numpy import asarray\n",
    "from sklearn.preprocessing import LabelEncoder\n",
    "from sklearn.preprocessing import OneHotEncoder\n",
    "import matplotlib.pyplot as plt\n",
    "import seaborn as sns"
   ]
  },
  {
   "cell_type": "code",
   "execution_count": 2,
   "id": "005935dd-66c7-4c2e-bb29-9cd205ee327c",
   "metadata": {},
   "outputs": [],
   "source": [
    "df = pd.read_csv('heart_2020_cleaned.csv')\n",
    "original_df = df"
   ]
  },
  {
   "cell_type": "code",
   "execution_count": 3,
   "id": "9750fba4-a8b0-4241-9ae0-bfae9db5b757",
   "metadata": {},
   "outputs": [],
   "source": [
    "encoder = OneHotEncoder(handle_unknown='ignore')"
   ]
  },
  {
   "cell_type": "code",
   "execution_count": 4,
   "id": "eec9d792-03f4-466f-9829-ada9fe32e6a0",
   "metadata": {},
   "outputs": [],
   "source": [
    "def one_hot_encode(x:np.ndarray):\n",
    "    uni = np.unique(x)\n",
    "    print(uni)\n",
    "    result = np.zeros((len(x), len(uni)))\n",
    "    for i in range(len(x)):\n",
    "        for j in range(len(uni)):\n",
    "            if x[i] == uni[j]:\n",
    "                result[i][j] = 1;\n",
    "                \n",
    "    return result"
   ]
  },
  {
   "cell_type": "code",
   "execution_count": 5,
   "id": "819c8c3f-b371-45c6-92f3-f224cfa3a4a3",
   "metadata": {},
   "outputs": [],
   "source": [
    "sex_df = pd.DataFrame(encoder.fit_transform(df[['Sex']]).toarray())\n",
    "sex_name = [\"Female\", \"Male\"]\n",
    "sex_df.columns = sex_name"
   ]
  },
  {
   "cell_type": "code",
   "execution_count": 6,
   "id": "3988b5e1-7e8b-4ed9-812b-99e22686b463",
   "metadata": {},
   "outputs": [
    {
     "name": "stdout",
     "output_type": "stream",
     "text": [
      "['American Indian/Alaskan Native' 'Asian' 'Black' 'Hispanic' 'Other'\n",
      " 'White']\n"
     ]
    }
   ],
   "source": [
    "race_arr = pd.DataFrame(df['Race']).to_numpy()\n",
    "one_hot_race = one_hot_encode(race_arr)\n",
    "race_df = pd.DataFrame(one_hot_race, columns = ['American Indian/Alaskan Native', 'Asian', 'Black', 'Hispanic', 'Other', 'White'])"
   ]
  },
  {
   "cell_type": "code",
   "execution_count": 7,
   "id": "a6096eb0-d700-463f-a92b-27d45e5fe5f9",
   "metadata": {},
   "outputs": [
    {
     "name": "stdout",
     "output_type": "stream",
     "text": [
      "['No' 'No, borderline diabetes' 'Yes' 'Yes (during pregnancy)']\n"
     ]
    }
   ],
   "source": [
    "diabetic_arr = pd.DataFrame(df['Diabetic']).to_numpy()\n",
    "one_hot_diabetic = one_hot_encode(diabetic_arr)\n",
    "diabetic_df = pd.DataFrame(one_hot_diabetic, columns = ['Diabetic(No)', 'Diabetic(No, borderline diabetes)', 'Diabetic(Yes)', 'Diabetic(Yes, during pregnancy)'])"
   ]
  },
  {
   "cell_type": "code",
   "execution_count": 8,
   "id": "47053f94-fa15-4247-9423-04526d2183ca",
   "metadata": {},
   "outputs": [
    {
     "name": "stdout",
     "output_type": "stream",
     "text": [
      "['Excellent' 'Fair' 'Good' 'Poor' 'Very good']\n"
     ]
    }
   ],
   "source": [
    "gen_health_arr = pd.DataFrame(df['GenHealth']).to_numpy()\n",
    "one_hot_gen_health = one_hot_encode(gen_health_arr)\n",
    "gen_health_df = pd.DataFrame(one_hot_gen_health, columns = ['GenHealth(Excellent)', 'GenHealth(Fair)', 'GenHealth(Good)', 'GenHealth(Poor)', 'GenHealth(Very good)'])"
   ]
  },
  {
   "cell_type": "code",
   "execution_count": 9,
   "id": "d6774bf6-a8d9-462b-9442-e88aa92506fc",
   "metadata": {},
   "outputs": [],
   "source": [
    "df = df.drop(['Sex', 'Race', 'GenHealth', 'Diabetic', 'AgeCategory', 'BMI', 'PhysicalHealth', 'MentalHealth', 'SleepTime'], axis=1)"
   ]
  },
  {
   "cell_type": "code",
   "execution_count": 10,
   "id": "d9843f59-7708-4c2f-a6c8-d84ed1158f8f",
   "metadata": {},
   "outputs": [],
   "source": [
    "df['Smoking'] = df['Smoking'].map(\n",
    "                   {'Yes':1 ,'No':0})\n",
    "df['HeartDisease'] = df['HeartDisease'].map(\n",
    "                   {'Yes':1 ,'No':0})\n",
    "df['AlcoholDrinking'] = df['AlcoholDrinking'].map(\n",
    "                   {'Yes':1 ,'No':0})\n",
    "df['Stroke'] = df['Stroke'].map(\n",
    "                   {'Yes':1 ,'No':0})\n",
    "df['DiffWalking'] = df['DiffWalking'].map(\n",
    "                   {'Yes':1 ,'No':0})\n",
    "df['PhysicalActivity'] = df['PhysicalActivity'].map(\n",
    "                   {'Yes':1 ,'No':0})\n",
    "df['Asthma'] = df['Asthma'].map(\n",
    "                   {'Yes':1 ,'No':0})\n",
    "df['KidneyDisease'] = df['KidneyDisease'].map(\n",
    "                   {'Yes':1 ,'No':0})\n",
    "df['SkinCancer'] = df['SkinCancer'].map(\n",
    "                   {'Yes':1 ,'No':0})"
   ]
  },
  {
   "cell_type": "code",
   "execution_count": 11,
   "id": "1f8224be-a561-4628-a7d2-d2bed7c224ae",
   "metadata": {
    "tags": []
   },
   "outputs": [],
   "source": [
    "df = pd.concat([df, sex_df], axis=1, join='inner')\n",
    "df = pd.concat([df, race_df], axis=1, join='inner')\n",
    "df = pd.concat([df, diabetic_df], axis=1, join='inner')\n",
    "df = pd.concat([df, gen_health_df], axis=1, join='inner')"
   ]
  },
  {
   "cell_type": "code",
   "execution_count": 12,
   "id": "e576463c-a24a-48ad-8451-b4380e012caa",
   "metadata": {},
   "outputs": [],
   "source": [
    "original_df['AgeCategory'] = original_df['AgeCategory'].replace(['80 or older'],'80-')\n",
    "original_df['AgeCategory'] = original_df['AgeCategory'].str.split('-').str[0].astype('float64')\n",
    "original_df = original_df.drop(['HeartDisease', 'Smoking', 'AlcoholDrinking', 'Stroke', 'DiffWalking', 'Sex', 'Race', \n",
    "                                'Diabetic', 'PhysicalActivity', 'GenHealth', 'Asthma', 'KidneyDisease', 'SkinCancer'], axis=1)\n",
    "df = pd.concat([df, original_df], axis=1, join='inner')"
   ]
  },
  {
   "cell_type": "code",
   "execution_count": 21,
   "id": "6d9a30f8-5154-42f5-97d9-74565da37830",
   "metadata": {},
   "outputs": [],
   "source": [
    "df_test = df.iloc[-100000:,:]\n",
    "df = df.iloc[:-100000,:]"
   ]
  },
  {
   "cell_type": "markdown",
   "id": "a2ee94e8-355b-4265-8599-5b897fcd8b72",
   "metadata": {},
   "source": [
    "# PCA"
   ]
  },
  {
   "cell_type": "code",
   "execution_count": 22,
   "id": "66e2a3a5-05d1-4494-ad23-0108e247a6f0",
   "metadata": {},
   "outputs": [],
   "source": [
    "from sklearn.decomposition import PCA"
   ]
  },
  {
   "cell_type": "code",
   "execution_count": 23,
   "id": "891d1d16-f2a8-4814-9602-02119d45b923",
   "metadata": {},
   "outputs": [
    {
     "data": {
      "text/plain": [
       "PCA(n_components=31)"
      ]
     },
     "execution_count": 23,
     "metadata": {},
     "output_type": "execute_result"
    }
   ],
   "source": [
    "df_norm=(df - df.mean()) / df.std()\n",
    "df_test_norm=(df_test - df_test.mean()) / df_test.std()\n",
    "pca = PCA(n_components=df.shape[1])\n",
    "pca.fit(df_norm)\n",
    "pca_test = PCA(n_components=df_test.shape[1])\n",
    "pca_test.fit(df_norm)"
   ]
  },
  {
   "cell_type": "code",
   "execution_count": 24,
   "id": "4f6b8534-5777-4ace-8064-0be45bcf9336",
   "metadata": {},
   "outputs": [],
   "source": [
    "df_pca = pd.DataFrame(pca.transform(df_norm), columns=df_norm.columns, index=df_norm.index)\n",
    "df_test_pca = pd.DataFrame(pca_test.transform(df_test_norm), columns=df_test_norm.columns, index=df_test_norm.index)"
   ]
  },
  {
   "cell_type": "markdown",
   "id": "5955992d-a230-410b-aad5-9de41cf55aa0",
   "metadata": {},
   "source": [
    "# SVM"
   ]
  },
  {
   "cell_type": "code",
   "execution_count": 25,
   "id": "26222c2b-3cb3-476f-813e-330461184091",
   "metadata": {},
   "outputs": [],
   "source": [
    "from cuml.svm import SVC\n",
    "from sklearn.model_selection import train_test_split\n",
    "from sklearn.metrics import f1_score, accuracy_score"
   ]
  },
  {
   "cell_type": "code",
   "execution_count": 26,
   "id": "69f455bb-6f49-46e2-933e-640083041051",
   "metadata": {},
   "outputs": [],
   "source": [
    "X_train = df_pca.drop(columns = \"HeartDisease\")\n",
    "y_train = df[\"HeartDisease\"].astype(int)\n",
    "X_test = df_test_pca.drop(columns = \"HeartDisease\")\n",
    "y_test = df_test[\"HeartDisease\"].astype(int)"
   ]
  },
  {
   "cell_type": "code",
   "execution_count": 27,
   "id": "3d8b0e5a-edd8-46a9-b90f-2aa1d8e0d1c4",
   "metadata": {},
   "outputs": [
    {
     "name": "stdout",
     "output_type": "stream",
     "text": [
      "CPU times: user 1.21 s, sys: 10 ms, total: 1.22 s\n",
      "Wall time: 1.26 s\n"
     ]
    },
    {
     "data": {
      "text/plain": [
       "SVC()"
      ]
     },
     "execution_count": 27,
     "metadata": {},
     "output_type": "execute_result"
    }
   ],
   "source": [
    "%%time\n",
    "svc = SVC()\n",
    "svc.fit(X_train, y_train)"
   ]
  },
  {
   "cell_type": "code",
   "execution_count": 28,
   "id": "b03e97f1-a0fe-4a02-a4cc-3c187917dc55",
   "metadata": {},
   "outputs": [
    {
     "name": "stdout",
     "output_type": "stream",
     "text": [
      "0.999203187250996\n",
      "0.99987\n"
     ]
    }
   ],
   "source": [
    "y_pred = svc.predict(X_test)\n",
    "print(f1_score(y_test, y_pred))\n",
    "print(accuracy_score(y_test, y_pred))"
   ]
  }
 ],
 "metadata": {
  "kernelspec": {
   "display_name": "Python 3 (ipykernel)",
   "language": "python",
   "name": "python3"
  },
  "language_info": {
   "codemirror_mode": {
    "name": "ipython",
    "version": 3
   },
   "file_extension": ".py",
   "mimetype": "text/x-python",
   "name": "python",
   "nbconvert_exporter": "python",
   "pygments_lexer": "ipython3",
   "version": "3.9.12"
  }
 },
 "nbformat": 4,
 "nbformat_minor": 5
}
