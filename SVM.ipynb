{
 "cells": [
  {
   "cell_type": "code",
   "execution_count": 1,
   "id": "97089abd",
   "metadata": {},
   "outputs": [],
   "source": [
    "import pandas as pd\n",
    "import numpy as np\n",
    "from numpy import asarray\n",
    "from sklearn.preprocessing import LabelEncoder\n",
    "from sklearn.preprocessing import OneHotEncoder\n",
    "from sklearn.preprocessing import StandardScaler\n",
    "\n",
    "import matplotlib.pyplot as plt\n",
    "import seaborn as sns"
   ]
  },
  {
   "cell_type": "code",
   "execution_count": 2,
   "id": "f2ec64de",
   "metadata": {},
   "outputs": [],
   "source": [
    "df = pd.read_csv('heart_2020_cleaned.csv')"
   ]
  },
  {
   "cell_type": "code",
   "execution_count": 3,
   "id": "b84d4d95",
   "metadata": {},
   "outputs": [],
   "source": [
    "encoder = OneHotEncoder(handle_unknown='ignore')"
   ]
  },
  {
   "cell_type": "code",
   "execution_count": 4,
   "id": "4137f1b5",
   "metadata": {},
   "outputs": [],
   "source": [
    "sex_df = pd.DataFrame(encoder.fit_transform(df[['Sex']]).toarray())\n",
    "sex_name = [\"Female\", \"Male\"]\n",
    "sex_df.columns = sex_name"
   ]
  },
  {
   "cell_type": "code",
   "execution_count": 5,
   "id": "1e28ae09",
   "metadata": {},
   "outputs": [],
   "source": [
    "def one_hot_encode(x:np.ndarray):\n",
    "    uni = np.unique(x)\n",
    "    print(uni)\n",
    "    result = np.zeros((len(x), len(uni)))\n",
    "    for i in range(len(x)):\n",
    "        for j in range(len(uni)):\n",
    "            if x[i] == uni[j]:\n",
    "                result[i][j] = 1;\n",
    "                \n",
    "    return result"
   ]
  },
  {
   "cell_type": "code",
   "execution_count": 6,
   "id": "48241255",
   "metadata": {
    "scrolled": true
   },
   "outputs": [
    {
     "name": "stdout",
     "output_type": "stream",
     "text": [
      "['American Indian/Alaskan Native' 'Asian' 'Black' 'Hispanic' 'Other'\n",
      " 'White']\n",
      "['No' 'No, borderline diabetes' 'Yes' 'Yes (during pregnancy)']\n",
      "['Excellent' 'Fair' 'Good' 'Poor' 'Very good']\n"
     ]
    }
   ],
   "source": [
    "race_arr = pd.DataFrame(df['Race']).to_numpy()\n",
    "one_hot_race = one_hot_encode(race_arr)\n",
    "race_df = pd.DataFrame(one_hot_race, columns = ['American Indian/Alaskan Native', 'Asian', 'Black', 'Hispanic', 'Other', 'White'])\n",
    "diabetic_arr = pd.DataFrame(df['Diabetic']).to_numpy()\n",
    "one_hot_diabetic = one_hot_encode(diabetic_arr)\n",
    "diabetic_df = pd.DataFrame(one_hot_diabetic, columns = ['Diabetic(No)', 'Diabetic(No, borderline diabetes)', 'Diabetic(Yes)', 'Diabetic(Yes, during pregnancy)'])\n",
    "gen_health_arr = pd.DataFrame(df['GenHealth']).to_numpy()\n",
    "one_hot_gen_health = one_hot_encode(gen_health_arr)\n",
    "gen_health_df = pd.DataFrame(one_hot_gen_health, columns = ['GenHealth(Excellent)', 'GenHealth(Fair)', 'GenHealth(Good)', 'GenHealth(Poor)', 'GenHealth(Very good)'])\n",
    "df = df.drop(['Sex', 'Race', 'GenHealth', 'Diabetic', 'AgeCategory', 'BMI', 'PhysicalHealth', 'MentalHealth', 'SleepTime'], axis=1)"
   ]
  },
  {
   "cell_type": "code",
   "execution_count": 7,
   "id": "9c480eeb",
   "metadata": {},
   "outputs": [],
   "source": [
    "df['Smoking'] = df['Smoking'].map(\n",
    "                   {'Yes':1 ,'No':0})\n",
    "df['HeartDisease'] = df['HeartDisease'].map(\n",
    "                   {'Yes':1 ,'No':0})\n",
    "df['AlcoholDrinking'] = df['AlcoholDrinking'].map(\n",
    "                   {'Yes':1 ,'No':0})\n",
    "df['Stroke'] = df['Stroke'].map(\n",
    "                   {'Yes':1 ,'No':0})\n",
    "df['DiffWalking'] = df['DiffWalking'].map(\n",
    "                   {'Yes':1 ,'No':0})\n",
    "df['PhysicalActivity'] = df['PhysicalActivity'].map(\n",
    "                   {'Yes':1 ,'No':0})\n",
    "df['Asthma'] = df['Asthma'].map(\n",
    "                   {'Yes':1 ,'No':0})\n",
    "df['KidneyDisease'] = df['KidneyDisease'].map(\n",
    "                   {'Yes':1 ,'No':0})\n",
    "df['SkinCancer'] = df['SkinCancer'].map(\n",
    "                   {'Yes':1 ,'No':0})"
   ]
  },
  {
   "cell_type": "code",
   "execution_count": 8,
   "id": "63d8815d",
   "metadata": {},
   "outputs": [],
   "source": [
    "df = pd.concat([df, sex_df], axis=1, join='inner')\n",
    "df = pd.concat([df, race_df], axis=1, join='inner')\n",
    "df = pd.concat([df, diabetic_df], axis=1, join='inner')\n",
    "df = pd.concat([df, gen_health_df], axis=1, join='inner')"
   ]
  },
  {
   "cell_type": "code",
   "execution_count": 9,
   "id": "c014b672",
   "metadata": {},
   "outputs": [],
   "source": [
    "# read file\n",
    "original_df = pd.read_csv('heart_2020_cleaned.csv')"
   ]
  },
  {
   "cell_type": "code",
   "execution_count": 10,
   "id": "86f6fb5f",
   "metadata": {},
   "outputs": [],
   "source": [
    "#replace the range with the first number\n",
    "original_df['AgeCategory'] = original_df['AgeCategory'].replace(['80 or older'],'80-')\n",
    "original_df['AgeCategory'] = original_df['AgeCategory'].str.split('-').str[0].astype('float64')"
   ]
  },
  {
   "cell_type": "code",
   "execution_count": 11,
   "id": "d0efd705",
   "metadata": {},
   "outputs": [],
   "source": [
    "# process numeric features: BMI, PhysicalHealth, MentalHealth, AgeCategory, SleepTime\n",
    "numeric_features = ['BMI','PhysicalHealth','MentalHealth','AgeCategory','SleepTime']\n",
    "scaler = StandardScaler()\n",
    "original_df[numeric_features] = scaler.fit_transform(original_df[numeric_features])"
   ]
  },
  {
   "cell_type": "code",
   "execution_count": 12,
   "id": "ddd59c9c",
   "metadata": {},
   "outputs": [],
   "source": [
    "original_df = original_df.drop(['HeartDisease', 'Smoking', 'AlcoholDrinking', 'Stroke', 'DiffWalking', 'Sex', 'Race', \n",
    "                                'Diabetic', 'PhysicalActivity', 'GenHealth', 'Asthma', 'KidneyDisease', 'SkinCancer'], axis=1)"
   ]
  },
  {
   "cell_type": "code",
   "execution_count": 13,
   "id": "8005492d",
   "metadata": {},
   "outputs": [],
   "source": [
    "original_df = pd.concat([original_df, df], axis=1, join='inner')"
   ]
  },
  {
   "cell_type": "code",
   "execution_count": 14,
   "id": "1dd752e5",
   "metadata": {},
   "outputs": [],
   "source": [
    "result_df = original_df"
   ]
  },
  {
   "cell_type": "code",
   "execution_count": 15,
   "id": "1b505a3f",
   "metadata": {},
   "outputs": [],
   "source": [
    "pd.set_option('display.max_columns', None)"
   ]
  },
  {
   "cell_type": "code",
   "execution_count": 16,
   "id": "268b0e43",
   "metadata": {},
   "outputs": [],
   "source": [
    "result_df = result_df.drop(['Diabetic(No, borderline diabetes)', 'Diabetic(Yes, during pregnancy)'], axis=1)\n",
    "result_df = result_df.drop(['Asian','Black','Hispanic','Other','White'], axis = 1)"
   ]
  },
  {
   "cell_type": "markdown",
   "id": "ec8648f8-62d1-46f7-afc4-8c2dcf03e93e",
   "metadata": {},
   "source": [
    "# SVM"
   ]
  },
  {
   "cell_type": "code",
   "execution_count": 34,
   "id": "0afea437-7c5e-4d8f-a9c8-3fc78b30769a",
   "metadata": {},
   "outputs": [],
   "source": [
    "from cuml import SVC\n",
    "from sklearn.model_selection import train_test_split, KFold, GridSearchCV\n",
    "from sklearn.metrics import f1_score, accuracy_score, classification_report"
   ]
  },
  {
   "cell_type": "code",
   "execution_count": 35,
   "id": "c909735d-d92a-4b6c-93d2-8491346d7643",
   "metadata": {},
   "outputs": [],
   "source": [
    "split_data = []\n",
    "for i in range(3):\n",
    "    split_data.append(result_df.sample(result_df.shape[0]//3, replace = False, random_state = 42))"
   ]
  },
  {
   "cell_type": "code",
   "execution_count": 36,
   "id": "f3be605b-5d55-45d6-8778-ddcf97ab2cd8",
   "metadata": {},
   "outputs": [],
   "source": [
    "svm_df = split_data[2]"
   ]
  },
  {
   "cell_type": "code",
   "execution_count": 37,
   "id": "cf7abcab-f19c-4446-8231-336d62d28e7a",
   "metadata": {},
   "outputs": [],
   "source": [
    "X_train, X_test, y_train, y_test = train_test_split(svm_df.drop(columns = \"HeartDisease\"), svm_df[\"HeartDisease\"].astype(int), test_size=0.2, random_state=42)"
   ]
  },
  {
   "cell_type": "markdown",
   "id": "7efa36a5-e7ac-4596-8f44-e61e3bd7b0e5",
   "metadata": {
    "tags": []
   },
   "source": [
    "## Raw SVM"
   ]
  },
  {
   "cell_type": "code",
   "execution_count": 38,
   "id": "5571f47d-a648-4af5-958e-af9ac1a88f63",
   "metadata": {},
   "outputs": [],
   "source": [
    "space = {\"kernel\":['linear', 'poly', 'rbf', 'sigmoid'],\n",
    "         \"C\":[1, 10]}\n",
    "kf = KFold(n_splits=3)\n",
    "svm = SVC(cache_size = 4096)"
   ]
  },
  {
   "cell_type": "code",
   "execution_count": 39,
   "id": "efa7ef83-a0b4-4fcf-a190-2826e8dda685",
   "metadata": {},
   "outputs": [
    {
     "name": "stdout",
     "output_type": "stream",
     "text": [
      "Fitting 3 folds for each of 8 candidates, totalling 24 fits\n",
      "[CV 1/3] END ................C=1, kernel=linear;, score=0.033 total time=  11.8s\n",
      "[CV 2/3] END ................C=1, kernel=linear;, score=0.039 total time=  11.3s\n",
      "[CV 3/3] END ................C=1, kernel=linear;, score=0.039 total time=  10.9s\n",
      "[CV 1/3] END ..................C=1, kernel=poly;, score=0.033 total time=  11.7s\n",
      "[CV 2/3] END ..................C=1, kernel=poly;, score=0.039 total time=  11.3s\n",
      "[CV 3/3] END ..................C=1, kernel=poly;, score=0.039 total time=  11.0s\n",
      "[CV 1/3] END ...................C=1, kernel=rbf;, score=0.033 total time=  11.7s\n",
      "[CV 2/3] END ...................C=1, kernel=rbf;, score=0.039 total time=  11.3s\n",
      "[CV 3/3] END ...................C=1, kernel=rbf;, score=0.039 total time=  10.9s\n",
      "[CV 1/3] END ...............C=1, kernel=sigmoid;, score=0.033 total time=  11.7s\n",
      "[CV 2/3] END ...............C=1, kernel=sigmoid;, score=0.039 total time=  11.3s\n",
      "[CV 3/3] END ...............C=1, kernel=sigmoid;, score=0.039 total time=  11.0s\n",
      "[CV 1/3] END ...............C=10, kernel=linear;, score=0.144 total time=  42.4s\n",
      "[CV 2/3] END ...............C=10, kernel=linear;, score=0.127 total time=  42.6s\n",
      "[CV 3/3] END ...............C=10, kernel=linear;, score=0.124 total time=  40.5s\n",
      "[CV 1/3] END .................C=10, kernel=poly;, score=0.144 total time=  42.3s\n",
      "[CV 2/3] END .................C=10, kernel=poly;, score=0.127 total time=  42.7s\n",
      "[CV 3/3] END .................C=10, kernel=poly;, score=0.124 total time=  40.3s\n",
      "[CV 1/3] END ..................C=10, kernel=rbf;, score=0.144 total time=  42.1s\n",
      "[CV 2/3] END ..................C=10, kernel=rbf;, score=0.127 total time=  42.7s\n",
      "[CV 3/3] END ..................C=10, kernel=rbf;, score=0.124 total time=  40.5s\n",
      "[CV 1/3] END ..............C=10, kernel=sigmoid;, score=0.144 total time=  42.1s\n",
      "[CV 2/3] END ..............C=10, kernel=sigmoid;, score=0.127 total time=  42.6s\n",
      "[CV 3/3] END ..............C=10, kernel=sigmoid;, score=0.124 total time=  40.4s\n"
     ]
    },
    {
     "data": {
      "text/plain": [
       "GridSearchCV(cv=KFold(n_splits=3, random_state=None, shuffle=False),\n",
       "             estimator=SVC(),\n",
       "             param_grid={'C': [1, 10],\n",
       "                         'kernel': ['linear', 'poly', 'rbf', 'sigmoid']},\n",
       "             scoring='f1', verbose=3)"
      ]
     },
     "execution_count": 39,
     "metadata": {},
     "output_type": "execute_result"
    }
   ],
   "source": [
    "grid = GridSearchCV(svm, space, cv=kf, scoring=\"f1\", verbose=3)\n",
    "grid.fit(X_train, y_train)"
   ]
  },
  {
   "cell_type": "code",
   "execution_count": 62,
   "id": "bf773fb4-261e-4aa0-9a5d-e725a5078367",
   "metadata": {},
   "outputs": [
    {
     "data": {
      "text/plain": [
       "{'C': 10, 'kernel': 'linear'}"
      ]
     },
     "execution_count": 62,
     "metadata": {},
     "output_type": "execute_result"
    }
   ],
   "source": [
    "svm_best = grid.best_estimator_\n",
    "grid.best_params_"
   ]
  },
  {
   "cell_type": "code",
   "execution_count": 63,
   "id": "389e0339-8a6b-4642-add8-825e120aaa07",
   "metadata": {},
   "outputs": [
    {
     "name": "stdout",
     "output_type": "stream",
     "text": [
      "0.0\n",
      "0.9132270168855535\n"
     ]
    }
   ],
   "source": [
    "y_pred = svm_best.predict(X_test)\n",
    "print(f1_score(y_test, y_pred))\n",
    "print(accuracy_score(y_test, y_pred))"
   ]
  },
  {
   "cell_type": "code",
   "execution_count": 64,
   "id": "8acc8bd1-c2af-4d68-98f3-a9bc7fcf01d4",
   "metadata": {},
   "outputs": [
    {
     "name": "stdout",
     "output_type": "stream",
     "text": [
      "              precision    recall  f1-score   support\n",
      "\n",
      "           0       0.91      1.00      0.95     19470\n",
      "           1       0.00      0.00      0.00      1850\n",
      "\n",
      "    accuracy                           0.91     21320\n",
      "   macro avg       0.46      0.50      0.48     21320\n",
      "weighted avg       0.83      0.91      0.87     21320\n",
      "\n"
     ]
    },
    {
     "name": "stderr",
     "output_type": "stream",
     "text": [
      "/home/inktea0920/miniconda3/envs/rapids-22.04/lib/python3.9/site-packages/sklearn/metrics/_classification.py:1318: UndefinedMetricWarning: Precision and F-score are ill-defined and being set to 0.0 in labels with no predicted samples. Use `zero_division` parameter to control this behavior.\n",
      "  _warn_prf(average, modifier, msg_start, len(result))\n",
      "/home/inktea0920/miniconda3/envs/rapids-22.04/lib/python3.9/site-packages/sklearn/metrics/_classification.py:1318: UndefinedMetricWarning: Precision and F-score are ill-defined and being set to 0.0 in labels with no predicted samples. Use `zero_division` parameter to control this behavior.\n",
      "  _warn_prf(average, modifier, msg_start, len(result))\n",
      "/home/inktea0920/miniconda3/envs/rapids-22.04/lib/python3.9/site-packages/sklearn/metrics/_classification.py:1318: UndefinedMetricWarning: Precision and F-score are ill-defined and being set to 0.0 in labels with no predicted samples. Use `zero_division` parameter to control this behavior.\n",
      "  _warn_prf(average, modifier, msg_start, len(result))\n"
     ]
    }
   ],
   "source": [
    "test_report = classification_report(y_test, y_pred)\n",
    "print(test_report)"
   ]
  },
  {
   "cell_type": "markdown",
   "id": "53262530-c5c6-46de-a523-5a984771f070",
   "metadata": {
    "tags": []
   },
   "source": [
    "## PCA SVM"
   ]
  },
  {
   "cell_type": "code",
   "execution_count": 65,
   "id": "7fcec7af-558a-4591-81d2-f7d8eb77cab0",
   "metadata": {},
   "outputs": [],
   "source": [
    "from sklearn.decomposition import PCA"
   ]
  },
  {
   "cell_type": "code",
   "execution_count": 66,
   "id": "9146c5d8-7cca-4b87-acc2-62d487115a3a",
   "metadata": {},
   "outputs": [],
   "source": [
    "train_len = len(result_df)*0.8\n",
    "train_len = int(train_len)\n",
    "\n",
    "all_train = result_df.iloc[:train_len, :]\n",
    "all_test = result_df.iloc[train_len:, :]\n",
    "\n",
    "pca_train = PCA(n_components=all_train.shape[1])\n",
    "pca_train.fit(all_train)\n",
    "pca_test = PCA(n_components=all_test.shape[1])\n",
    "pca_test.fit(all_test)\n",
    "\n",
    "pca_train_df = pd.DataFrame(pca_train.transform(all_train), columns=all_train.columns, index=all_train.index)\n",
    "pca_test_df = pd.DataFrame(pca_test.transform(all_test), columns=all_test.columns, index=all_test.index)\n",
    "\n",
    "X_train = pca_train_df.drop(columns = \"HeartDisease\")\n",
    "y_train = all_train[\"HeartDisease\"].astype(int)\n",
    "X_test = pca_test_df.drop(columns = \"HeartDisease\")\n",
    "y_test = all_test[\"HeartDisease\"].astype(int)"
   ]
  },
  {
   "cell_type": "code",
   "execution_count": 67,
   "id": "c3ee5901-cc49-4260-b253-fb411f29663b",
   "metadata": {},
   "outputs": [],
   "source": [
    "space = {\"kernel\":['linear', 'poly', 'rbf', 'sigmoid'],\n",
    "         \"C\":[0.1, 1, 10]}\n",
    "kf = KFold()\n",
    "svm = SVC(probability=True, cache_size = 4096)"
   ]
  },
  {
   "cell_type": "code",
   "execution_count": 24,
   "id": "1b900ee7-a8d3-43ea-a2c0-d804dcd469fc",
   "metadata": {},
   "outputs": [
    {
     "name": "stdout",
     "output_type": "stream",
     "text": [
      "Fitting 5 folds for each of 12 candidates, totalling 60 fits\n",
      "[W] [21:28:26.438622] SVC with the linear kernel can be much faster using the specialized solver provided by LinearSVC. Consider switching to LinearSVC if tranining takes too long.\n",
      "[CV 1/5] END ..............C=0.1, kernel=linear;, score=1.000 total time=   3.9s\n",
      "[CV 2/5] END ..............C=0.1, kernel=linear;, score=1.000 total time=   2.7s\n",
      "[CV 3/5] END ..............C=0.1, kernel=linear;, score=1.000 total time=   2.8s\n",
      "[CV 4/5] END ..............C=0.1, kernel=linear;, score=1.000 total time=   2.7s\n",
      "[CV 5/5] END ..............C=0.1, kernel=linear;, score=1.000 total time=   2.7s\n",
      "[CV 1/5] END ................C=0.1, kernel=poly;, score=0.667 total time=  13.8s\n",
      "[CV 2/5] END ................C=0.1, kernel=poly;, score=0.582 total time=  13.4s\n",
      "[CV 3/5] END ................C=0.1, kernel=poly;, score=0.561 total time=  13.7s\n",
      "[CV 4/5] END ................C=0.1, kernel=poly;, score=0.585 total time=  13.5s\n",
      "[CV 5/5] END ................C=0.1, kernel=poly;, score=0.620 total time=  13.4s\n",
      "[CV 1/5] END .................C=0.1, kernel=rbf;, score=0.997 total time=  11.1s\n",
      "[CV 2/5] END .................C=0.1, kernel=rbf;, score=0.997 total time=  10.9s\n",
      "[CV 3/5] END .................C=0.1, kernel=rbf;, score=0.999 total time=  11.0s\n",
      "[CV 4/5] END .................C=0.1, kernel=rbf;, score=0.999 total time=  11.0s\n",
      "[CV 5/5] END .................C=0.1, kernel=rbf;, score=0.998 total time=  11.0s\n",
      "[CV 1/5] END .............C=0.1, kernel=sigmoid;, score=0.598 total time=   8.3s\n",
      "[CV 2/5] END .............C=0.1, kernel=sigmoid;, score=0.600 total time=   7.8s\n",
      "[CV 3/5] END .............C=0.1, kernel=sigmoid;, score=0.583 total time=   8.1s\n",
      "[CV 4/5] END .............C=0.1, kernel=sigmoid;, score=0.606 total time=   7.8s\n",
      "[CV 5/5] END .............C=0.1, kernel=sigmoid;, score=0.585 total time=   6.8s\n",
      "[CV 1/5] END ................C=1, kernel=linear;, score=1.000 total time=   2.5s\n",
      "[CV 2/5] END ................C=1, kernel=linear;, score=1.000 total time=   2.6s\n",
      "[CV 3/5] END ................C=1, kernel=linear;, score=1.000 total time=   2.6s\n",
      "[CV 4/5] END ................C=1, kernel=linear;, score=1.000 total time=   2.6s\n",
      "[CV 5/5] END ................C=1, kernel=linear;, score=1.000 total time=   2.7s\n",
      "[CV 1/5] END ..................C=1, kernel=poly;, score=0.610 total time=   7.6s\n",
      "[CV 2/5] END ..................C=1, kernel=poly;, score=0.588 total time=   7.6s\n",
      "[CV 3/5] END ..................C=1, kernel=poly;, score=0.539 total time=   7.4s\n",
      "[CV 4/5] END ..................C=1, kernel=poly;, score=0.534 total time=   7.4s\n",
      "[CV 5/5] END ..................C=1, kernel=poly;, score=0.543 total time=   7.2s\n",
      "[CV 1/5] END ...................C=1, kernel=rbf;, score=0.999 total time=   7.6s\n",
      "[CV 2/5] END ...................C=1, kernel=rbf;, score=1.000 total time=   7.6s\n",
      "[CV 3/5] END ...................C=1, kernel=rbf;, score=1.000 total time=   8.0s\n",
      "[CV 4/5] END ...................C=1, kernel=rbf;, score=1.000 total time=   7.7s\n",
      "[CV 5/5] END ...................C=1, kernel=rbf;, score=1.000 total time=   7.9s\n",
      "[CV 1/5] END ...............C=1, kernel=sigmoid;, score=0.590 total time=   7.7s\n",
      "[CV 2/5] END ...............C=1, kernel=sigmoid;, score=0.567 total time=   7.0s\n",
      "[CV 3/5] END ...............C=1, kernel=sigmoid;, score=0.583 total time=   7.2s\n",
      "[CV 4/5] END ...............C=1, kernel=sigmoid;, score=0.606 total time=   7.1s\n",
      "[CV 5/5] END ...............C=1, kernel=sigmoid;, score=0.583 total time=   6.8s\n",
      "[CV 1/5] END ...............C=10, kernel=linear;, score=1.000 total time=   2.6s\n",
      "[CV 2/5] END ...............C=10, kernel=linear;, score=1.000 total time=   2.6s\n",
      "[CV 3/5] END ...............C=10, kernel=linear;, score=1.000 total time=   2.6s\n",
      "[CV 4/5] END ...............C=10, kernel=linear;, score=1.000 total time=   2.6s\n",
      "[CV 5/5] END ...............C=10, kernel=linear;, score=1.000 total time=   2.6s\n",
      "[CV 1/5] END .................C=10, kernel=poly;, score=0.754 total time=   7.6s\n",
      "[CV 2/5] END .................C=10, kernel=poly;, score=0.643 total time=   7.8s\n",
      "[CV 3/5] END .................C=10, kernel=poly;, score=0.595 total time=   7.9s\n",
      "[CV 4/5] END .................C=10, kernel=poly;, score=0.606 total time=   7.9s\n",
      "[CV 5/5] END .................C=10, kernel=poly;, score=0.551 total time=   7.8s\n",
      "[CV 1/5] END ..................C=10, kernel=rbf;, score=0.999 total time=   7.6s\n",
      "[CV 2/5] END ..................C=10, kernel=rbf;, score=1.000 total time=   7.6s\n",
      "[CV 3/5] END ..................C=10, kernel=rbf;, score=1.000 total time=   7.7s\n",
      "[CV 4/5] END ..................C=10, kernel=rbf;, score=1.000 total time=   7.6s\n",
      "[CV 5/5] END ..................C=10, kernel=rbf;, score=1.000 total time=   7.6s\n",
      "[CV 1/5] END ..............C=10, kernel=sigmoid;, score=0.566 total time=   7.7s\n",
      "[CV 2/5] END ..............C=10, kernel=sigmoid;, score=0.604 total time=   6.7s\n",
      "[CV 3/5] END ..............C=10, kernel=sigmoid;, score=0.575 total time=   7.4s\n",
      "[CV 4/5] END ..............C=10, kernel=sigmoid;, score=0.597 total time=   7.2s\n",
      "[CV 5/5] END ..............C=10, kernel=sigmoid;, score=0.582 total time=   6.7s\n"
     ]
    },
    {
     "data": {
      "text/plain": [
       "GridSearchCV(cv=KFold(n_splits=5, random_state=None, shuffle=False),\n",
       "             estimator=SVC(),\n",
       "             param_grid={'C': [0.1, 1, 10],\n",
       "                         'kernel': ['linear', 'poly', 'rbf', 'sigmoid']},\n",
       "             scoring='f1', verbose=3)"
      ]
     },
     "execution_count": 24,
     "metadata": {},
     "output_type": "execute_result"
    }
   ],
   "source": [
    "grid = GridSearchCV(svm, space, cv=kf, scoring=\"f1\", verbose=3)\n",
    "grid.fit(X_train, y_train)"
   ]
  },
  {
   "cell_type": "code",
   "execution_count": 25,
   "id": "c043a299-b8ba-4312-b674-5b3616ad0f4e",
   "metadata": {},
   "outputs": [
    {
     "data": {
      "text/plain": [
       "{'C': 0.1, 'kernel': 'linear'}"
      ]
     },
     "execution_count": 25,
     "metadata": {},
     "output_type": "execute_result"
    }
   ],
   "source": [
    "svm_best = grid.best_estimator_\n",
    "grid.best_params_"
   ]
  },
  {
   "cell_type": "code",
   "execution_count": 26,
   "id": "d1eacfa7-5f9b-4525-9cdd-74e0730b34d6",
   "metadata": {},
   "outputs": [
    {
     "name": "stdout",
     "output_type": "stream",
     "text": [
      "1.0\n",
      "1.0\n"
     ]
    }
   ],
   "source": [
    "y_pred = svm_best.predict(X_test)\n",
    "y_prob = svm_best.predict_proba(X_test)\n",
    "print(f1_score(y_test, y_pred))\n",
    "print(accuracy_score(y_test, y_pred))"
   ]
  },
  {
   "cell_type": "code",
   "execution_count": 29,
   "id": "541174ec-842f-4d91-afc5-723222df494d",
   "metadata": {},
   "outputs": [
    {
     "name": "stdout",
     "output_type": "stream",
     "text": [
      "              precision    recall  f1-score   support\n",
      "\n",
      "           0       1.00      1.00      1.00     58571\n",
      "           1       1.00      1.00      1.00      5388\n",
      "\n",
      "    accuracy                           1.00     63959\n",
      "   macro avg       1.00      1.00      1.00     63959\n",
      "weighted avg       1.00      1.00      1.00     63959\n",
      "\n"
     ]
    }
   ],
   "source": [
    "test_report = classification_report(y_test, y_pred)\n",
    "print(test_report)"
   ]
  },
  {
   "cell_type": "markdown",
   "id": "f5c7cba1-7447-4cf4-87f9-5700dcd98837",
   "metadata": {},
   "source": [
    "## Graph"
   ]
  },
  {
   "cell_type": "code",
   "execution_count": 30,
   "id": "63266fee-7c42-4ae9-ae88-0bf689d7f4e1",
   "metadata": {},
   "outputs": [],
   "source": [
    "from sklearn.metrics import roc_curve, roc_auc_score"
   ]
  },
  {
   "cell_type": "code",
   "execution_count": 31,
   "id": "d32e3e22-712f-4808-8ffd-e4f48e17012f",
   "metadata": {},
   "outputs": [],
   "source": [
    "y_prob = y_prob[:, 1]\n",
    "svm_auc_score = roc_auc_score(y_test, y_prob)\n",
    "svm_fpr, svm_tpr, _ = roc_curve(y_test, y_prob)"
   ]
  },
  {
   "cell_type": "code",
   "execution_count": 32,
   "id": "59f89391-b668-4f64-be2f-f629c062fbe6",
   "metadata": {},
   "outputs": [
    {
     "data": {
      "image/png": "[encoded data removed]",
      "text/plain": [
       "<Figure size 432x288 with 1 Axes>"
      ]
     },
     "metadata": {
      "needs_background": "light"
     },
     "output_type": "display_data"
    },
    {
     "name": "stdout",
     "output_type": "stream",
     "text": [
      "Logistic: ROC AUC=1.000\n"
     ]
    }
   ],
   "source": [
    "plt.plot(svm_fpr, svm_tpr, label='SVM')\n",
    "plt.xlabel('False Positive Rate')\n",
    "plt.ylabel('True Positive Rate')\n",
    "plt.legend()\n",
    "plt.show()\n",
    "print('Logistic: ROC AUC=%.3f' % (svm_auc_score))"
   ]
  }
 ],
 "metadata": {
  "kernelspec": {
   "display_name": "Python 3 (ipykernel)",
   "language": "python",
   "name": "python3"
  },
  "language_info": {
   "codemirror_mode": {
    "name": "ipython",
    "version": 3
   },
   "file_extension": ".py",
   "mimetype": "text/x-python",
   "name": "python",
   "nbconvert_exporter": "python",
   "pygments_lexer": "ipython3",
   "version": "3.9.12"
  }
 },
 "nbformat": 4,
 "nbformat_minor": 5
}
