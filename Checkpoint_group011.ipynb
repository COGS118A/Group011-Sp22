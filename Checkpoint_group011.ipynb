{
 "cells": [
  {
   "cell_type": "markdown",
   "metadata": {},
   "source": [
    "# COGS 118A- Project Checkpoint"
   ]
  },
  {
   "cell_type": "markdown",
   "metadata": {},
   "source": [
    "# Names\n",
    "\n",
    "- Dongze Li\n",
    "- Feifan Li\n",
    "- Rosy Xu\n",
    "- Shaolong Li\n",
    "- Zikang Chen"
   ]
  },
  {
   "cell_type": "markdown",
   "metadata": {},
   "source": [
    "# Abstract \n",
    "\n",
    "Nowadays, heart disease can be regarded as one of the most fatal diseases in the world. And nearly 647,000 Americans die from heart disease every year. Thus, developing an ML model to detect and predict heart disease may help the patients get effective treatment at the early stage, significantly reducing the probability of causing death. To build the model, we decide to use a dataset that measures the possible indicators that cause heart disease like high blood pressure, alcohol, or smoking. By evaluating these indicators, we may be able to predict whether an individual has heart disease. CDC collects the data in the dataset through telephone surveys, including the health status of US adults in over 50 states. And before building the ML model, we will firstly preprocess the data, converting them into appropriate data types and abandoning some features if needed. After the model is created, we will use some metrics or criteria to evaluate its accuracy, determining whether it is a successful model.\n"
   ]
  },
  {
   "cell_type": "markdown",
   "metadata": {},
   "source": [
    "# Background\n",
    "\n",
    "Heart disease is one of the leading causes of death for all people from all racial and ethnic groups in the United States. According to the data from CDC, \"one person dies every 36 seconds in the United States from cardiovascular disease<a name=\"CDC\"></a>[<sup>[1]</sup>](#CDC) and about 659,000 people in the United States die from heart disease each year<a name=\"CDC\"></a>[<sup>[1]</sup>](#CDC), which is 1 in every 4 deaths<a name=\"CDC\"></a>[<sup>[1]</sup>](#CDC)\". Besides, heart disease placed huge fiscal stress on the Federal government, “costing about 363 billion dollars each year from 2016 to 2017\"<a name=\"CDC\"></a>[<sup>[1]</sup>](#CDC).\n",
    "\n",
    "Many prior works have been done in this area. One prior work done by Davide Chicco & Giuseppe Jurman<a name=\"BMC\"></a>[<sup>[2]</sup>](#BMC) analyzed a dataset of 299 patients with heart failure and performed an alternative feature ranking analysis using traditional biostatistics tests. \n",
    "\n",
    "Another work done by Rohit Bharti, Aditya Khamparia and et al.<a name=\"Hindawi\"></a>[<sup>[3]</sup>](#Hindawi) tried to predict Heart Disease using a combination of Machine Learning and Deep Learning. They used a Public Health Dataset containing 76 attributes and employed various methods including KNN, PCA and SVM to do the analysis. \n",
    "\n",
    "Using ML algorithms to do the Heart Disease Prediction can be really important because good prediction can help lower the risk of the disease and further prevent life threat. Even an inaccurate prediction can indirectly provide us with some meaningful data that shows relationship between the factors that contribute most to heart disease. Therefore, answering the question such as which factors contribute most to heart disease can be really necessary.\n"
   ]
  },
  {
   "cell_type": "markdown",
   "metadata": {},
   "source": [
    "# Problem Statement\n",
    "\n",
    "The data set contains around 20 variables, and each observation represents a person's health information. What we are trying to do is to create several machine learning models (SVM, logistic regression, decision trees, etc.) to predict whether a patient (using his/her health data) will potentially have heart disease or not. Where in the dataset, the “HeartDisease” binary variable - “Yes” and “No” - represents our predictive Y-values.\n",
    "\n",
    "In detail, we are given an X matrix where each row represents a person’s health data, and a Y vector corresponding to the X matrix that determines whether that individual has heart disease or not. Our goal is to create a machine learning model on the training proportion (both X and Y) of the data so that when given some test data (X test matrix), the model can predict whether each person (one row in X) has heart disease or not.\n",
    "\n",
    "We can also calculate the accuracy, f1 score, or other evaluation metrics for our model. Besides, our model should also work even when variables are missing or changed in some parts. Our goal is to create a model with high accuracy at predicting the heart disease. The ROC-AUC graph and learning curve grpah will also be analyzed."
   ]
  },
  {
   "cell_type": "markdown",
   "metadata": {},
   "source": [
    "# Data\n",
    "\n",
    "- DataSet link: https://www.kaggle.com/datasets/kamilpytlak/personal-key-indicators-of-heart-disease\n",
    "\n",
    "- There are a total of 320k observations and 18 variables or features. Of these 18 variables, 9 of them are Booleans, 5 of them are string, and 4 of them are numeric.\n",
    "\n",
    "- For a single observation, it includes a comprehensive set of information about an individual, which allows us to predict whether an individual has heart disease with high accuracy. The report consists of sex, age, smoking history, etc.\n",
    "\n",
    "- In all of these features or variables, 3 of them are very critical in determining the accuracy and reliability of our machine learning model. To be specific, age can be regarded as an essential factor influencing the probability of having heart disease, and we use numeric values to represent it. Second, smoking history can be seen as another critical indicator of heart disease. Most patients with heart diseases have a long smoking history. In this dataset, we use Boolean values to represent this information.\n",
    "\n",
    "- Moreover, BMI also plays an essential role in affecting the likelihood of getting heart disease. Many studies have shown the close relationship between them. And we use numeric values (float) to represent it in this dataset.\n",
    "\n",
    "- For the variables (features) that are Boolean or String, we need to convert them into categorical variables using one-hot encoding. Specifically, for the features that only have two categories,like \"yes\" or \"no\", we repalce them with 1 and 0 with lable encoding. And for others, we use one-hot encoding. For the numeric variables, we apply some normalization to adjust them in the same scale, which will help improve the accuracy of our machine learning model. Also, we make some feature selections. Precisely, we can calculate the Pearson correlation coefficient for the variables and found that the feature \"race\" is the least related to the occurence of heart disease; hence, we decide to drop it. The feature selection can help to make our algorithm more efficient by reducing the number of features.\n"
   ]
  },
  {
   "cell_type": "markdown",
   "metadata": {},
   "source": [
    "### Data Cleaning"
   ]
  },
  {
   "cell_type": "code",
   "execution_count": 33,
   "metadata": {},
   "outputs": [],
   "source": [
    "import pandas as pd\n",
    "import numpy as np\n",
    "from numpy import asarray\n",
    "from sklearn.preprocessing import LabelEncoder\n",
    "from sklearn.preprocessing import OneHotEncoder\n",
    "from sklearn.preprocessing import StandardScaler\n",
    "from sklearn.model_selection import KFold\n",
    "from sklearn.tree import DecisionTreeClassifier\n",
    "from sklearn.model_selection import train_test_split\n",
    "from sklearn.model_selection import GridSearchCV\n",
    "from sklearn import tree\n",
    "from sklearn.model_selection import StratifiedKFold\n",
    "from collections import Counter\n",
    "from sklearn.metrics import f1_score\n",
    "from sklearn.metrics import make_scorer\n",
    "from sklearn.metrics import roc_curve, roc_auc_score\n",
    "from sklearn.model_selection import learning_curve\n",
    "\n",
    "import matplotlib.pyplot as plt\n",
    "import seaborn as sns"
   ]
  },
  {
   "cell_type": "code",
   "execution_count": 34,
   "metadata": {},
   "outputs": [],
   "source": [
    "df = pd.read_csv('heart_2020_cleaned.csv')"
   ]
  },
  {
   "cell_type": "code",
   "execution_count": 35,
   "metadata": {},
   "outputs": [
    {
     "data": {
      "text/plain": [
       "HeartDisease        0\n",
       "BMI                 0\n",
       "Smoking             0\n",
       "AlcoholDrinking     0\n",
       "Stroke              0\n",
       "PhysicalHealth      0\n",
       "MentalHealth        0\n",
       "DiffWalking         0\n",
       "Sex                 0\n",
       "AgeCategory         0\n",
       "Race                0\n",
       "Diabetic            0\n",
       "PhysicalActivity    0\n",
       "GenHealth           0\n",
       "SleepTime           0\n",
       "Asthma              0\n",
       "KidneyDisease       0\n",
       "SkinCancer          0\n",
       "dtype: int64"
      ]
     },
     "execution_count": 35,
     "metadata": {},
     "output_type": "execute_result"
    }
   ],
   "source": [
    "df.isnull().sum()"
   ]
  },
  {
   "cell_type": "code",
   "execution_count": 36,
   "metadata": {},
   "outputs": [],
   "source": [
    "encoder = OneHotEncoder(handle_unknown='ignore')"
   ]
  },
  {
   "cell_type": "code",
   "execution_count": 37,
   "metadata": {},
   "outputs": [
    {
     "name": "stdout",
     "output_type": "stream",
     "text": [
      "(319795, 2)\n"
     ]
    },
    {
     "data": {
      "text/html": [
       "<div>\n",
       "<style scoped>\n",
       "    .dataframe tbody tr th:only-of-type {\n",
       "        vertical-align: middle;\n",
       "    }\n",
       "\n",
       "    .dataframe tbody tr th {\n",
       "        vertical-align: top;\n",
       "    }\n",
       "\n",
       "    .dataframe thead th {\n",
       "        text-align: right;\n",
       "    }\n",
       "</style>\n",
       "<table border=\"1\" class=\"dataframe\">\n",
       "  <thead>\n",
       "    <tr style=\"text-align: right;\">\n",
       "      <th></th>\n",
       "      <th>Female</th>\n",
       "      <th>Male</th>\n",
       "    </tr>\n",
       "  </thead>\n",
       "  <tbody>\n",
       "    <tr>\n",
       "      <th>0</th>\n",
       "      <td>1.0</td>\n",
       "      <td>0.0</td>\n",
       "    </tr>\n",
       "    <tr>\n",
       "      <th>1</th>\n",
       "      <td>1.0</td>\n",
       "      <td>0.0</td>\n",
       "    </tr>\n",
       "    <tr>\n",
       "      <th>2</th>\n",
       "      <td>0.0</td>\n",
       "      <td>1.0</td>\n",
       "    </tr>\n",
       "    <tr>\n",
       "      <th>3</th>\n",
       "      <td>1.0</td>\n",
       "      <td>0.0</td>\n",
       "    </tr>\n",
       "    <tr>\n",
       "      <th>4</th>\n",
       "      <td>1.0</td>\n",
       "      <td>0.0</td>\n",
       "    </tr>\n",
       "  </tbody>\n",
       "</table>\n",
       "</div>"
      ],
      "text/plain": [
       "   Female  Male\n",
       "0     1.0   0.0\n",
       "1     1.0   0.0\n",
       "2     0.0   1.0\n",
       "3     1.0   0.0\n",
       "4     1.0   0.0"
      ]
     },
     "execution_count": 37,
     "metadata": {},
     "output_type": "execute_result"
    }
   ],
   "source": [
    "sex_df = pd.DataFrame(encoder.fit_transform(df[['Sex']]).toarray())\n",
    "sex_name = [\"Female\", \"Male\"]\n",
    "sex_df.columns = sex_name\n",
    "print(sex_df.shape)\n",
    "sex_df.head()"
   ]
  },
  {
   "cell_type": "code",
   "execution_count": 38,
   "metadata": {},
   "outputs": [],
   "source": [
    "def one_hot_encode(x:np.ndarray):\n",
    "    uni = np.unique(x)\n",
    "    print(uni)\n",
    "    result = np.zeros((len(x), len(uni)))\n",
    "    for i in range(len(x)):\n",
    "        for j in range(len(uni)):\n",
    "            if x[i] == uni[j]:\n",
    "                result[i][j] = 1;\n",
    "                \n",
    "    return result"
   ]
  },
  {
   "cell_type": "code",
   "execution_count": 39,
   "metadata": {},
   "outputs": [
    {
     "name": "stdout",
     "output_type": "stream",
     "text": [
      "['American Indian/Alaskan Native' 'Asian' 'Black' 'Hispanic' 'Other'\n",
      " 'White']\n"
     ]
    },
    {
     "data": {
      "text/html": [
       "<div>\n",
       "<style scoped>\n",
       "    .dataframe tbody tr th:only-of-type {\n",
       "        vertical-align: middle;\n",
       "    }\n",
       "\n",
       "    .dataframe tbody tr th {\n",
       "        vertical-align: top;\n",
       "    }\n",
       "\n",
       "    .dataframe thead th {\n",
       "        text-align: right;\n",
       "    }\n",
       "</style>\n",
       "<table border=\"1\" class=\"dataframe\">\n",
       "  <thead>\n",
       "    <tr style=\"text-align: right;\">\n",
       "      <th></th>\n",
       "      <th>American Indian/Alaskan Native</th>\n",
       "      <th>Asian</th>\n",
       "      <th>Black</th>\n",
       "      <th>Hispanic</th>\n",
       "      <th>Other</th>\n",
       "      <th>White</th>\n",
       "    </tr>\n",
       "  </thead>\n",
       "  <tbody>\n",
       "    <tr>\n",
       "      <th>0</th>\n",
       "      <td>0.0</td>\n",
       "      <td>0.0</td>\n",
       "      <td>0.0</td>\n",
       "      <td>0.0</td>\n",
       "      <td>0.0</td>\n",
       "      <td>1.0</td>\n",
       "    </tr>\n",
       "    <tr>\n",
       "      <th>1</th>\n",
       "      <td>0.0</td>\n",
       "      <td>0.0</td>\n",
       "      <td>0.0</td>\n",
       "      <td>0.0</td>\n",
       "      <td>0.0</td>\n",
       "      <td>1.0</td>\n",
       "    </tr>\n",
       "    <tr>\n",
       "      <th>2</th>\n",
       "      <td>0.0</td>\n",
       "      <td>0.0</td>\n",
       "      <td>0.0</td>\n",
       "      <td>0.0</td>\n",
       "      <td>0.0</td>\n",
       "      <td>1.0</td>\n",
       "    </tr>\n",
       "    <tr>\n",
       "      <th>3</th>\n",
       "      <td>0.0</td>\n",
       "      <td>0.0</td>\n",
       "      <td>0.0</td>\n",
       "      <td>0.0</td>\n",
       "      <td>0.0</td>\n",
       "      <td>1.0</td>\n",
       "    </tr>\n",
       "    <tr>\n",
       "      <th>4</th>\n",
       "      <td>0.0</td>\n",
       "      <td>0.0</td>\n",
       "      <td>0.0</td>\n",
       "      <td>0.0</td>\n",
       "      <td>0.0</td>\n",
       "      <td>1.0</td>\n",
       "    </tr>\n",
       "  </tbody>\n",
       "</table>\n",
       "</div>"
      ],
      "text/plain": [
       "   American Indian/Alaskan Native  Asian  Black  Hispanic  Other  White\n",
       "0                             0.0    0.0    0.0       0.0    0.0    1.0\n",
       "1                             0.0    0.0    0.0       0.0    0.0    1.0\n",
       "2                             0.0    0.0    0.0       0.0    0.0    1.0\n",
       "3                             0.0    0.0    0.0       0.0    0.0    1.0\n",
       "4                             0.0    0.0    0.0       0.0    0.0    1.0"
      ]
     },
     "execution_count": 39,
     "metadata": {},
     "output_type": "execute_result"
    }
   ],
   "source": [
    "race_arr = pd.DataFrame(df['Race']).to_numpy()\n",
    "one_hot_race = one_hot_encode(race_arr)\n",
    "race_df = pd.DataFrame(one_hot_race, columns = ['American Indian/Alaskan Native', 'Asian', 'Black', 'Hispanic', 'Other',\n",
    " 'White'])\n",
    "race_df.head()"
   ]
  },
  {
   "cell_type": "code",
   "execution_count": 40,
   "metadata": {},
   "outputs": [
    {
     "name": "stdout",
     "output_type": "stream",
     "text": [
      "['No' 'No, borderline diabetes' 'Yes' 'Yes (during pregnancy)']\n"
     ]
    },
    {
     "data": {
      "text/html": [
       "<div>\n",
       "<style scoped>\n",
       "    .dataframe tbody tr th:only-of-type {\n",
       "        vertical-align: middle;\n",
       "    }\n",
       "\n",
       "    .dataframe tbody tr th {\n",
       "        vertical-align: top;\n",
       "    }\n",
       "\n",
       "    .dataframe thead th {\n",
       "        text-align: right;\n",
       "    }\n",
       "</style>\n",
       "<table border=\"1\" class=\"dataframe\">\n",
       "  <thead>\n",
       "    <tr style=\"text-align: right;\">\n",
       "      <th></th>\n",
       "      <th>Diabetic(No)</th>\n",
       "      <th>Diabetic(No, borderline diabetes)</th>\n",
       "      <th>Diabetic(Yes)</th>\n",
       "      <th>Diabetic(Yes, during pregnancy)</th>\n",
       "    </tr>\n",
       "  </thead>\n",
       "  <tbody>\n",
       "    <tr>\n",
       "      <th>0</th>\n",
       "      <td>0.0</td>\n",
       "      <td>0.0</td>\n",
       "      <td>1.0</td>\n",
       "      <td>0.0</td>\n",
       "    </tr>\n",
       "    <tr>\n",
       "      <th>1</th>\n",
       "      <td>1.0</td>\n",
       "      <td>0.0</td>\n",
       "      <td>0.0</td>\n",
       "      <td>0.0</td>\n",
       "    </tr>\n",
       "    <tr>\n",
       "      <th>2</th>\n",
       "      <td>0.0</td>\n",
       "      <td>0.0</td>\n",
       "      <td>1.0</td>\n",
       "      <td>0.0</td>\n",
       "    </tr>\n",
       "    <tr>\n",
       "      <th>3</th>\n",
       "      <td>1.0</td>\n",
       "      <td>0.0</td>\n",
       "      <td>0.0</td>\n",
       "      <td>0.0</td>\n",
       "    </tr>\n",
       "    <tr>\n",
       "      <th>4</th>\n",
       "      <td>1.0</td>\n",
       "      <td>0.0</td>\n",
       "      <td>0.0</td>\n",
       "      <td>0.0</td>\n",
       "    </tr>\n",
       "  </tbody>\n",
       "</table>\n",
       "</div>"
      ],
      "text/plain": [
       "   Diabetic(No)  Diabetic(No, borderline diabetes)  Diabetic(Yes)  \\\n",
       "0           0.0                                0.0            1.0   \n",
       "1           1.0                                0.0            0.0   \n",
       "2           0.0                                0.0            1.0   \n",
       "3           1.0                                0.0            0.0   \n",
       "4           1.0                                0.0            0.0   \n",
       "\n",
       "   Diabetic(Yes, during pregnancy)  \n",
       "0                              0.0  \n",
       "1                              0.0  \n",
       "2                              0.0  \n",
       "3                              0.0  \n",
       "4                              0.0  "
      ]
     },
     "execution_count": 40,
     "metadata": {},
     "output_type": "execute_result"
    }
   ],
   "source": [
    "diabetic_arr = pd.DataFrame(df['Diabetic']).to_numpy()\n",
    "one_hot_diabetic = one_hot_encode(diabetic_arr)\n",
    "diabetic_df = pd.DataFrame(one_hot_diabetic, columns = ['Diabetic(No)', 'Diabetic(No, borderline diabetes)', 'Diabetic(Yes)', 'Diabetic(Yes, during pregnancy)'])\n",
    "diabetic_df.head()"
   ]
  },
  {
   "cell_type": "code",
   "execution_count": 41,
   "metadata": {},
   "outputs": [
    {
     "name": "stdout",
     "output_type": "stream",
     "text": [
      "['Excellent' 'Fair' 'Good' 'Poor' 'Very good']\n"
     ]
    },
    {
     "data": {
      "text/html": [
       "<div>\n",
       "<style scoped>\n",
       "    .dataframe tbody tr th:only-of-type {\n",
       "        vertical-align: middle;\n",
       "    }\n",
       "\n",
       "    .dataframe tbody tr th {\n",
       "        vertical-align: top;\n",
       "    }\n",
       "\n",
       "    .dataframe thead th {\n",
       "        text-align: right;\n",
       "    }\n",
       "</style>\n",
       "<table border=\"1\" class=\"dataframe\">\n",
       "  <thead>\n",
       "    <tr style=\"text-align: right;\">\n",
       "      <th></th>\n",
       "      <th>GenHealth(Excellent)</th>\n",
       "      <th>GenHealth(Fair)</th>\n",
       "      <th>GenHealth(Good)</th>\n",
       "      <th>GenHealth(Poor)</th>\n",
       "      <th>GenHealth(Very good)</th>\n",
       "    </tr>\n",
       "  </thead>\n",
       "  <tbody>\n",
       "    <tr>\n",
       "      <th>0</th>\n",
       "      <td>0.0</td>\n",
       "      <td>0.0</td>\n",
       "      <td>0.0</td>\n",
       "      <td>0.0</td>\n",
       "      <td>1.0</td>\n",
       "    </tr>\n",
       "    <tr>\n",
       "      <th>1</th>\n",
       "      <td>0.0</td>\n",
       "      <td>0.0</td>\n",
       "      <td>0.0</td>\n",
       "      <td>0.0</td>\n",
       "      <td>1.0</td>\n",
       "    </tr>\n",
       "    <tr>\n",
       "      <th>2</th>\n",
       "      <td>0.0</td>\n",
       "      <td>1.0</td>\n",
       "      <td>0.0</td>\n",
       "      <td>0.0</td>\n",
       "      <td>0.0</td>\n",
       "    </tr>\n",
       "    <tr>\n",
       "      <th>3</th>\n",
       "      <td>0.0</td>\n",
       "      <td>0.0</td>\n",
       "      <td>1.0</td>\n",
       "      <td>0.0</td>\n",
       "      <td>0.0</td>\n",
       "    </tr>\n",
       "    <tr>\n",
       "      <th>4</th>\n",
       "      <td>0.0</td>\n",
       "      <td>0.0</td>\n",
       "      <td>0.0</td>\n",
       "      <td>0.0</td>\n",
       "      <td>1.0</td>\n",
       "    </tr>\n",
       "  </tbody>\n",
       "</table>\n",
       "</div>"
      ],
      "text/plain": [
       "   GenHealth(Excellent)  GenHealth(Fair)  GenHealth(Good)  GenHealth(Poor)  \\\n",
       "0                   0.0              0.0              0.0              0.0   \n",
       "1                   0.0              0.0              0.0              0.0   \n",
       "2                   0.0              1.0              0.0              0.0   \n",
       "3                   0.0              0.0              1.0              0.0   \n",
       "4                   0.0              0.0              0.0              0.0   \n",
       "\n",
       "   GenHealth(Very good)  \n",
       "0                   1.0  \n",
       "1                   1.0  \n",
       "2                   0.0  \n",
       "3                   0.0  \n",
       "4                   1.0  "
      ]
     },
     "execution_count": 41,
     "metadata": {},
     "output_type": "execute_result"
    }
   ],
   "source": [
    "gen_health_arr = pd.DataFrame(df['GenHealth']).to_numpy()\n",
    "one_hot_gen_health = one_hot_encode(gen_health_arr)\n",
    "gen_health_df = pd.DataFrame(one_hot_gen_health, columns = ['GenHealth(Excellent)', 'GenHealth(Fair)', \n",
    "                                                            'GenHealth(Good)', 'GenHealth(Poor)', 'GenHealth(Very good)'])\n",
    "gen_health_df.head()"
   ]
  },
  {
   "cell_type": "code",
   "execution_count": 42,
   "metadata": {},
   "outputs": [
    {
     "data": {
      "text/html": [
       "<div>\n",
       "<style scoped>\n",
       "    .dataframe tbody tr th:only-of-type {\n",
       "        vertical-align: middle;\n",
       "    }\n",
       "\n",
       "    .dataframe tbody tr th {\n",
       "        vertical-align: top;\n",
       "    }\n",
       "\n",
       "    .dataframe thead th {\n",
       "        text-align: right;\n",
       "    }\n",
       "</style>\n",
       "<table border=\"1\" class=\"dataframe\">\n",
       "  <thead>\n",
       "    <tr style=\"text-align: right;\">\n",
       "      <th></th>\n",
       "      <th>HeartDisease</th>\n",
       "      <th>Smoking</th>\n",
       "      <th>AlcoholDrinking</th>\n",
       "      <th>Stroke</th>\n",
       "      <th>DiffWalking</th>\n",
       "      <th>PhysicalActivity</th>\n",
       "      <th>Asthma</th>\n",
       "      <th>KidneyDisease</th>\n",
       "      <th>SkinCancer</th>\n",
       "    </tr>\n",
       "  </thead>\n",
       "  <tbody>\n",
       "    <tr>\n",
       "      <th>0</th>\n",
       "      <td>No</td>\n",
       "      <td>Yes</td>\n",
       "      <td>No</td>\n",
       "      <td>No</td>\n",
       "      <td>No</td>\n",
       "      <td>Yes</td>\n",
       "      <td>Yes</td>\n",
       "      <td>No</td>\n",
       "      <td>Yes</td>\n",
       "    </tr>\n",
       "    <tr>\n",
       "      <th>1</th>\n",
       "      <td>No</td>\n",
       "      <td>No</td>\n",
       "      <td>No</td>\n",
       "      <td>Yes</td>\n",
       "      <td>No</td>\n",
       "      <td>Yes</td>\n",
       "      <td>No</td>\n",
       "      <td>No</td>\n",
       "      <td>No</td>\n",
       "    </tr>\n",
       "    <tr>\n",
       "      <th>2</th>\n",
       "      <td>No</td>\n",
       "      <td>Yes</td>\n",
       "      <td>No</td>\n",
       "      <td>No</td>\n",
       "      <td>No</td>\n",
       "      <td>Yes</td>\n",
       "      <td>Yes</td>\n",
       "      <td>No</td>\n",
       "      <td>No</td>\n",
       "    </tr>\n",
       "    <tr>\n",
       "      <th>3</th>\n",
       "      <td>No</td>\n",
       "      <td>No</td>\n",
       "      <td>No</td>\n",
       "      <td>No</td>\n",
       "      <td>No</td>\n",
       "      <td>No</td>\n",
       "      <td>No</td>\n",
       "      <td>No</td>\n",
       "      <td>Yes</td>\n",
       "    </tr>\n",
       "    <tr>\n",
       "      <th>4</th>\n",
       "      <td>No</td>\n",
       "      <td>No</td>\n",
       "      <td>No</td>\n",
       "      <td>No</td>\n",
       "      <td>Yes</td>\n",
       "      <td>Yes</td>\n",
       "      <td>No</td>\n",
       "      <td>No</td>\n",
       "      <td>No</td>\n",
       "    </tr>\n",
       "  </tbody>\n",
       "</table>\n",
       "</div>"
      ],
      "text/plain": [
       "  HeartDisease Smoking AlcoholDrinking Stroke DiffWalking PhysicalActivity  \\\n",
       "0           No     Yes              No     No          No              Yes   \n",
       "1           No      No              No    Yes          No              Yes   \n",
       "2           No     Yes              No     No          No              Yes   \n",
       "3           No      No              No     No          No               No   \n",
       "4           No      No              No     No         Yes              Yes   \n",
       "\n",
       "  Asthma KidneyDisease SkinCancer  \n",
       "0    Yes            No        Yes  \n",
       "1     No            No         No  \n",
       "2    Yes            No         No  \n",
       "3     No            No        Yes  \n",
       "4     No            No         No  "
      ]
     },
     "execution_count": 42,
     "metadata": {},
     "output_type": "execute_result"
    }
   ],
   "source": [
    "df = df.drop(['Sex', 'Race', 'GenHealth', 'Diabetic', 'AgeCategory', 'BMI', 'PhysicalHealth', 'MentalHealth', 'SleepTime'], axis=1)\n",
    "df.head()"
   ]
  },
  {
   "cell_type": "code",
   "execution_count": 43,
   "metadata": {},
   "outputs": [
    {
     "data": {
      "text/html": [
       "<div>\n",
       "<style scoped>\n",
       "    .dataframe tbody tr th:only-of-type {\n",
       "        vertical-align: middle;\n",
       "    }\n",
       "\n",
       "    .dataframe tbody tr th {\n",
       "        vertical-align: top;\n",
       "    }\n",
       "\n",
       "    .dataframe thead th {\n",
       "        text-align: right;\n",
       "    }\n",
       "</style>\n",
       "<table border=\"1\" class=\"dataframe\">\n",
       "  <thead>\n",
       "    <tr style=\"text-align: right;\">\n",
       "      <th></th>\n",
       "      <th>HeartDisease</th>\n",
       "      <th>Smoking</th>\n",
       "      <th>AlcoholDrinking</th>\n",
       "      <th>Stroke</th>\n",
       "      <th>DiffWalking</th>\n",
       "      <th>PhysicalActivity</th>\n",
       "      <th>Asthma</th>\n",
       "      <th>KidneyDisease</th>\n",
       "      <th>SkinCancer</th>\n",
       "    </tr>\n",
       "  </thead>\n",
       "  <tbody>\n",
       "    <tr>\n",
       "      <th>0</th>\n",
       "      <td>0</td>\n",
       "      <td>1</td>\n",
       "      <td>0</td>\n",
       "      <td>0</td>\n",
       "      <td>0</td>\n",
       "      <td>1</td>\n",
       "      <td>1</td>\n",
       "      <td>0</td>\n",
       "      <td>1</td>\n",
       "    </tr>\n",
       "    <tr>\n",
       "      <th>1</th>\n",
       "      <td>0</td>\n",
       "      <td>0</td>\n",
       "      <td>0</td>\n",
       "      <td>1</td>\n",
       "      <td>0</td>\n",
       "      <td>1</td>\n",
       "      <td>0</td>\n",
       "      <td>0</td>\n",
       "      <td>0</td>\n",
       "    </tr>\n",
       "    <tr>\n",
       "      <th>2</th>\n",
       "      <td>0</td>\n",
       "      <td>1</td>\n",
       "      <td>0</td>\n",
       "      <td>0</td>\n",
       "      <td>0</td>\n",
       "      <td>1</td>\n",
       "      <td>1</td>\n",
       "      <td>0</td>\n",
       "      <td>0</td>\n",
       "    </tr>\n",
       "    <tr>\n",
       "      <th>3</th>\n",
       "      <td>0</td>\n",
       "      <td>0</td>\n",
       "      <td>0</td>\n",
       "      <td>0</td>\n",
       "      <td>0</td>\n",
       "      <td>0</td>\n",
       "      <td>0</td>\n",
       "      <td>0</td>\n",
       "      <td>1</td>\n",
       "    </tr>\n",
       "    <tr>\n",
       "      <th>4</th>\n",
       "      <td>0</td>\n",
       "      <td>0</td>\n",
       "      <td>0</td>\n",
       "      <td>0</td>\n",
       "      <td>1</td>\n",
       "      <td>1</td>\n",
       "      <td>0</td>\n",
       "      <td>0</td>\n",
       "      <td>0</td>\n",
       "    </tr>\n",
       "  </tbody>\n",
       "</table>\n",
       "</div>"
      ],
      "text/plain": [
       "   HeartDisease  Smoking  AlcoholDrinking  Stroke  DiffWalking  \\\n",
       "0             0        1                0       0            0   \n",
       "1             0        0                0       1            0   \n",
       "2             0        1                0       0            0   \n",
       "3             0        0                0       0            0   \n",
       "4             0        0                0       0            1   \n",
       "\n",
       "   PhysicalActivity  Asthma  KidneyDisease  SkinCancer  \n",
       "0                 1       1              0           1  \n",
       "1                 1       0              0           0  \n",
       "2                 1       1              0           0  \n",
       "3                 0       0              0           1  \n",
       "4                 1       0              0           0  "
      ]
     },
     "execution_count": 43,
     "metadata": {},
     "output_type": "execute_result"
    }
   ],
   "source": [
    "df['Smoking'] = df['Smoking'].map(\n",
    "                   {'Yes':1 ,'No':0})\n",
    "df['HeartDisease'] = df['HeartDisease'].map(\n",
    "                   {'Yes':1 ,'No':0})\n",
    "df['AlcoholDrinking'] = df['AlcoholDrinking'].map(\n",
    "                   {'Yes':1 ,'No':0})\n",
    "df['Stroke'] = df['Stroke'].map(\n",
    "                   {'Yes':1 ,'No':0})\n",
    "df['DiffWalking'] = df['DiffWalking'].map(\n",
    "                   {'Yes':1 ,'No':0})\n",
    "df['PhysicalActivity'] = df['PhysicalActivity'].map(\n",
    "                   {'Yes':1 ,'No':0})\n",
    "df['Asthma'] = df['Asthma'].map(\n",
    "                   {'Yes':1 ,'No':0})\n",
    "df['KidneyDisease'] = df['KidneyDisease'].map(\n",
    "                   {'Yes':1 ,'No':0})\n",
    "df['SkinCancer'] = df['SkinCancer'].map(\n",
    "                   {'Yes':1 ,'No':0})\n",
    "df.head()"
   ]
  },
  {
   "cell_type": "code",
   "execution_count": 44,
   "metadata": {},
   "outputs": [
    {
     "data": {
      "text/html": [
       "<div>\n",
       "<style scoped>\n",
       "    .dataframe tbody tr th:only-of-type {\n",
       "        vertical-align: middle;\n",
       "    }\n",
       "\n",
       "    .dataframe tbody tr th {\n",
       "        vertical-align: top;\n",
       "    }\n",
       "\n",
       "    .dataframe thead th {\n",
       "        text-align: right;\n",
       "    }\n",
       "</style>\n",
       "<table border=\"1\" class=\"dataframe\">\n",
       "  <thead>\n",
       "    <tr style=\"text-align: right;\">\n",
       "      <th></th>\n",
       "      <th>HeartDisease</th>\n",
       "      <th>Smoking</th>\n",
       "      <th>AlcoholDrinking</th>\n",
       "      <th>Stroke</th>\n",
       "      <th>DiffWalking</th>\n",
       "      <th>PhysicalActivity</th>\n",
       "      <th>Asthma</th>\n",
       "      <th>KidneyDisease</th>\n",
       "      <th>SkinCancer</th>\n",
       "      <th>Female</th>\n",
       "      <th>Male</th>\n",
       "      <th>American Indian/Alaskan Native</th>\n",
       "      <th>Asian</th>\n",
       "      <th>Black</th>\n",
       "      <th>Hispanic</th>\n",
       "      <th>Other</th>\n",
       "      <th>White</th>\n",
       "      <th>Diabetic(No)</th>\n",
       "      <th>Diabetic(No, borderline diabetes)</th>\n",
       "      <th>Diabetic(Yes)</th>\n",
       "      <th>Diabetic(Yes, during pregnancy)</th>\n",
       "      <th>GenHealth(Excellent)</th>\n",
       "      <th>GenHealth(Fair)</th>\n",
       "      <th>GenHealth(Good)</th>\n",
       "      <th>GenHealth(Poor)</th>\n",
       "      <th>GenHealth(Very good)</th>\n",
       "    </tr>\n",
       "  </thead>\n",
       "  <tbody>\n",
       "    <tr>\n",
       "      <th>0</th>\n",
       "      <td>0</td>\n",
       "      <td>1</td>\n",
       "      <td>0</td>\n",
       "      <td>0</td>\n",
       "      <td>0</td>\n",
       "      <td>1</td>\n",
       "      <td>1</td>\n",
       "      <td>0</td>\n",
       "      <td>1</td>\n",
       "      <td>1.0</td>\n",
       "      <td>0.0</td>\n",
       "      <td>0.0</td>\n",
       "      <td>0.0</td>\n",
       "      <td>0.0</td>\n",
       "      <td>0.0</td>\n",
       "      <td>0.0</td>\n",
       "      <td>1.0</td>\n",
       "      <td>0.0</td>\n",
       "      <td>0.0</td>\n",
       "      <td>1.0</td>\n",
       "      <td>0.0</td>\n",
       "      <td>0.0</td>\n",
       "      <td>0.0</td>\n",
       "      <td>0.0</td>\n",
       "      <td>0.0</td>\n",
       "      <td>1.0</td>\n",
       "    </tr>\n",
       "    <tr>\n",
       "      <th>1</th>\n",
       "      <td>0</td>\n",
       "      <td>0</td>\n",
       "      <td>0</td>\n",
       "      <td>1</td>\n",
       "      <td>0</td>\n",
       "      <td>1</td>\n",
       "      <td>0</td>\n",
       "      <td>0</td>\n",
       "      <td>0</td>\n",
       "      <td>1.0</td>\n",
       "      <td>0.0</td>\n",
       "      <td>0.0</td>\n",
       "      <td>0.0</td>\n",
       "      <td>0.0</td>\n",
       "      <td>0.0</td>\n",
       "      <td>0.0</td>\n",
       "      <td>1.0</td>\n",
       "      <td>1.0</td>\n",
       "      <td>0.0</td>\n",
       "      <td>0.0</td>\n",
       "      <td>0.0</td>\n",
       "      <td>0.0</td>\n",
       "      <td>0.0</td>\n",
       "      <td>0.0</td>\n",
       "      <td>0.0</td>\n",
       "      <td>1.0</td>\n",
       "    </tr>\n",
       "    <tr>\n",
       "      <th>2</th>\n",
       "      <td>0</td>\n",
       "      <td>1</td>\n",
       "      <td>0</td>\n",
       "      <td>0</td>\n",
       "      <td>0</td>\n",
       "      <td>1</td>\n",
       "      <td>1</td>\n",
       "      <td>0</td>\n",
       "      <td>0</td>\n",
       "      <td>0.0</td>\n",
       "      <td>1.0</td>\n",
       "      <td>0.0</td>\n",
       "      <td>0.0</td>\n",
       "      <td>0.0</td>\n",
       "      <td>0.0</td>\n",
       "      <td>0.0</td>\n",
       "      <td>1.0</td>\n",
       "      <td>0.0</td>\n",
       "      <td>0.0</td>\n",
       "      <td>1.0</td>\n",
       "      <td>0.0</td>\n",
       "      <td>0.0</td>\n",
       "      <td>1.0</td>\n",
       "      <td>0.0</td>\n",
       "      <td>0.0</td>\n",
       "      <td>0.0</td>\n",
       "    </tr>\n",
       "    <tr>\n",
       "      <th>3</th>\n",
       "      <td>0</td>\n",
       "      <td>0</td>\n",
       "      <td>0</td>\n",
       "      <td>0</td>\n",
       "      <td>0</td>\n",
       "      <td>0</td>\n",
       "      <td>0</td>\n",
       "      <td>0</td>\n",
       "      <td>1</td>\n",
       "      <td>1.0</td>\n",
       "      <td>0.0</td>\n",
       "      <td>0.0</td>\n",
       "      <td>0.0</td>\n",
       "      <td>0.0</td>\n",
       "      <td>0.0</td>\n",
       "      <td>0.0</td>\n",
       "      <td>1.0</td>\n",
       "      <td>1.0</td>\n",
       "      <td>0.0</td>\n",
       "      <td>0.0</td>\n",
       "      <td>0.0</td>\n",
       "      <td>0.0</td>\n",
       "      <td>0.0</td>\n",
       "      <td>1.0</td>\n",
       "      <td>0.0</td>\n",
       "      <td>0.0</td>\n",
       "    </tr>\n",
       "    <tr>\n",
       "      <th>4</th>\n",
       "      <td>0</td>\n",
       "      <td>0</td>\n",
       "      <td>0</td>\n",
       "      <td>0</td>\n",
       "      <td>1</td>\n",
       "      <td>1</td>\n",
       "      <td>0</td>\n",
       "      <td>0</td>\n",
       "      <td>0</td>\n",
       "      <td>1.0</td>\n",
       "      <td>0.0</td>\n",
       "      <td>0.0</td>\n",
       "      <td>0.0</td>\n",
       "      <td>0.0</td>\n",
       "      <td>0.0</td>\n",
       "      <td>0.0</td>\n",
       "      <td>1.0</td>\n",
       "      <td>1.0</td>\n",
       "      <td>0.0</td>\n",
       "      <td>0.0</td>\n",
       "      <td>0.0</td>\n",
       "      <td>0.0</td>\n",
       "      <td>0.0</td>\n",
       "      <td>0.0</td>\n",
       "      <td>0.0</td>\n",
       "      <td>1.0</td>\n",
       "    </tr>\n",
       "  </tbody>\n",
       "</table>\n",
       "</div>"
      ],
      "text/plain": [
       "   HeartDisease  Smoking  AlcoholDrinking  Stroke  DiffWalking  \\\n",
       "0             0        1                0       0            0   \n",
       "1             0        0                0       1            0   \n",
       "2             0        1                0       0            0   \n",
       "3             0        0                0       0            0   \n",
       "4             0        0                0       0            1   \n",
       "\n",
       "   PhysicalActivity  Asthma  KidneyDisease  SkinCancer  Female  Male  \\\n",
       "0                 1       1              0           1     1.0   0.0   \n",
       "1                 1       0              0           0     1.0   0.0   \n",
       "2                 1       1              0           0     0.0   1.0   \n",
       "3                 0       0              0           1     1.0   0.0   \n",
       "4                 1       0              0           0     1.0   0.0   \n",
       "\n",
       "   American Indian/Alaskan Native  Asian  Black  Hispanic  Other  White  \\\n",
       "0                             0.0    0.0    0.0       0.0    0.0    1.0   \n",
       "1                             0.0    0.0    0.0       0.0    0.0    1.0   \n",
       "2                             0.0    0.0    0.0       0.0    0.0    1.0   \n",
       "3                             0.0    0.0    0.0       0.0    0.0    1.0   \n",
       "4                             0.0    0.0    0.0       0.0    0.0    1.0   \n",
       "\n",
       "   Diabetic(No)  Diabetic(No, borderline diabetes)  Diabetic(Yes)  \\\n",
       "0           0.0                                0.0            1.0   \n",
       "1           1.0                                0.0            0.0   \n",
       "2           0.0                                0.0            1.0   \n",
       "3           1.0                                0.0            0.0   \n",
       "4           1.0                                0.0            0.0   \n",
       "\n",
       "   Diabetic(Yes, during pregnancy)  GenHealth(Excellent)  GenHealth(Fair)  \\\n",
       "0                              0.0                   0.0              0.0   \n",
       "1                              0.0                   0.0              0.0   \n",
       "2                              0.0                   0.0              1.0   \n",
       "3                              0.0                   0.0              0.0   \n",
       "4                              0.0                   0.0              0.0   \n",
       "\n",
       "   GenHealth(Good)  GenHealth(Poor)  GenHealth(Very good)  \n",
       "0              0.0              0.0                   1.0  \n",
       "1              0.0              0.0                   1.0  \n",
       "2              0.0              0.0                   0.0  \n",
       "3              1.0              0.0                   0.0  \n",
       "4              0.0              0.0                   1.0  "
      ]
     },
     "execution_count": 44,
     "metadata": {},
     "output_type": "execute_result"
    }
   ],
   "source": [
    "df = pd.concat([df, sex_df], axis=1, join='inner')\n",
    "df = pd.concat([df, race_df], axis=1, join='inner')\n",
    "df = pd.concat([df, diabetic_df], axis=1, join='inner')\n",
    "df = pd.concat([df, gen_health_df], axis=1, join='inner')\n",
    "df.head()"
   ]
  },
  {
   "cell_type": "markdown",
   "metadata": {},
   "source": [
    "### Normalization"
   ]
  },
  {
   "cell_type": "code",
   "execution_count": 45,
   "metadata": {},
   "outputs": [
    {
     "data": {
      "text/plain": [
       "(319795, 18)"
      ]
     },
     "execution_count": 45,
     "metadata": {},
     "output_type": "execute_result"
    }
   ],
   "source": [
    "# read file\n",
    "original_df = pd.read_csv('heart_2020_cleaned.csv')\n",
    "original_df.shape"
   ]
  },
  {
   "cell_type": "code",
   "execution_count": 46,
   "metadata": {},
   "outputs": [
    {
     "data": {
      "text/html": [
       "<div>\n",
       "<style scoped>\n",
       "    .dataframe tbody tr th:only-of-type {\n",
       "        vertical-align: middle;\n",
       "    }\n",
       "\n",
       "    .dataframe tbody tr th {\n",
       "        vertical-align: top;\n",
       "    }\n",
       "\n",
       "    .dataframe thead th {\n",
       "        text-align: right;\n",
       "    }\n",
       "</style>\n",
       "<table border=\"1\" class=\"dataframe\">\n",
       "  <thead>\n",
       "    <tr style=\"text-align: right;\">\n",
       "      <th></th>\n",
       "      <th>HeartDisease</th>\n",
       "      <th>BMI</th>\n",
       "      <th>Smoking</th>\n",
       "      <th>AlcoholDrinking</th>\n",
       "      <th>Stroke</th>\n",
       "      <th>PhysicalHealth</th>\n",
       "      <th>MentalHealth</th>\n",
       "      <th>DiffWalking</th>\n",
       "      <th>Sex</th>\n",
       "      <th>AgeCategory</th>\n",
       "      <th>Race</th>\n",
       "      <th>Diabetic</th>\n",
       "      <th>PhysicalActivity</th>\n",
       "      <th>GenHealth</th>\n",
       "      <th>SleepTime</th>\n",
       "      <th>Asthma</th>\n",
       "      <th>KidneyDisease</th>\n",
       "      <th>SkinCancer</th>\n",
       "    </tr>\n",
       "  </thead>\n",
       "  <tbody>\n",
       "    <tr>\n",
       "      <th>0</th>\n",
       "      <td>No</td>\n",
       "      <td>16.60</td>\n",
       "      <td>Yes</td>\n",
       "      <td>No</td>\n",
       "      <td>No</td>\n",
       "      <td>3.0</td>\n",
       "      <td>30.0</td>\n",
       "      <td>No</td>\n",
       "      <td>Female</td>\n",
       "      <td>55-59</td>\n",
       "      <td>White</td>\n",
       "      <td>Yes</td>\n",
       "      <td>Yes</td>\n",
       "      <td>Very good</td>\n",
       "      <td>5.0</td>\n",
       "      <td>Yes</td>\n",
       "      <td>No</td>\n",
       "      <td>Yes</td>\n",
       "    </tr>\n",
       "    <tr>\n",
       "      <th>1</th>\n",
       "      <td>No</td>\n",
       "      <td>20.34</td>\n",
       "      <td>No</td>\n",
       "      <td>No</td>\n",
       "      <td>Yes</td>\n",
       "      <td>0.0</td>\n",
       "      <td>0.0</td>\n",
       "      <td>No</td>\n",
       "      <td>Female</td>\n",
       "      <td>80 or older</td>\n",
       "      <td>White</td>\n",
       "      <td>No</td>\n",
       "      <td>Yes</td>\n",
       "      <td>Very good</td>\n",
       "      <td>7.0</td>\n",
       "      <td>No</td>\n",
       "      <td>No</td>\n",
       "      <td>No</td>\n",
       "    </tr>\n",
       "    <tr>\n",
       "      <th>2</th>\n",
       "      <td>No</td>\n",
       "      <td>26.58</td>\n",
       "      <td>Yes</td>\n",
       "      <td>No</td>\n",
       "      <td>No</td>\n",
       "      <td>20.0</td>\n",
       "      <td>30.0</td>\n",
       "      <td>No</td>\n",
       "      <td>Male</td>\n",
       "      <td>65-69</td>\n",
       "      <td>White</td>\n",
       "      <td>Yes</td>\n",
       "      <td>Yes</td>\n",
       "      <td>Fair</td>\n",
       "      <td>8.0</td>\n",
       "      <td>Yes</td>\n",
       "      <td>No</td>\n",
       "      <td>No</td>\n",
       "    </tr>\n",
       "    <tr>\n",
       "      <th>3</th>\n",
       "      <td>No</td>\n",
       "      <td>24.21</td>\n",
       "      <td>No</td>\n",
       "      <td>No</td>\n",
       "      <td>No</td>\n",
       "      <td>0.0</td>\n",
       "      <td>0.0</td>\n",
       "      <td>No</td>\n",
       "      <td>Female</td>\n",
       "      <td>75-79</td>\n",
       "      <td>White</td>\n",
       "      <td>No</td>\n",
       "      <td>No</td>\n",
       "      <td>Good</td>\n",
       "      <td>6.0</td>\n",
       "      <td>No</td>\n",
       "      <td>No</td>\n",
       "      <td>Yes</td>\n",
       "    </tr>\n",
       "    <tr>\n",
       "      <th>4</th>\n",
       "      <td>No</td>\n",
       "      <td>23.71</td>\n",
       "      <td>No</td>\n",
       "      <td>No</td>\n",
       "      <td>No</td>\n",
       "      <td>28.0</td>\n",
       "      <td>0.0</td>\n",
       "      <td>Yes</td>\n",
       "      <td>Female</td>\n",
       "      <td>40-44</td>\n",
       "      <td>White</td>\n",
       "      <td>No</td>\n",
       "      <td>Yes</td>\n",
       "      <td>Very good</td>\n",
       "      <td>8.0</td>\n",
       "      <td>No</td>\n",
       "      <td>No</td>\n",
       "      <td>No</td>\n",
       "    </tr>\n",
       "  </tbody>\n",
       "</table>\n",
       "</div>"
      ],
      "text/plain": [
       "  HeartDisease    BMI Smoking AlcoholDrinking Stroke  PhysicalHealth  \\\n",
       "0           No  16.60     Yes              No     No             3.0   \n",
       "1           No  20.34      No              No    Yes             0.0   \n",
       "2           No  26.58     Yes              No     No            20.0   \n",
       "3           No  24.21      No              No     No             0.0   \n",
       "4           No  23.71      No              No     No            28.0   \n",
       "\n",
       "   MentalHealth DiffWalking     Sex  AgeCategory   Race Diabetic  \\\n",
       "0          30.0          No  Female        55-59  White      Yes   \n",
       "1           0.0          No  Female  80 or older  White       No   \n",
       "2          30.0          No    Male        65-69  White      Yes   \n",
       "3           0.0          No  Female        75-79  White       No   \n",
       "4           0.0         Yes  Female        40-44  White       No   \n",
       "\n",
       "  PhysicalActivity  GenHealth  SleepTime Asthma KidneyDisease SkinCancer  \n",
       "0              Yes  Very good        5.0    Yes            No        Yes  \n",
       "1              Yes  Very good        7.0     No            No         No  \n",
       "2              Yes       Fair        8.0    Yes            No         No  \n",
       "3               No       Good        6.0     No            No        Yes  \n",
       "4              Yes  Very good        8.0     No            No         No  "
      ]
     },
     "execution_count": 46,
     "metadata": {},
     "output_type": "execute_result"
    }
   ],
   "source": [
    "# take a look at the dataset\n",
    "original_df.head()"
   ]
  },
  {
   "cell_type": "code",
   "execution_count": 47,
   "metadata": {},
   "outputs": [
    {
     "data": {
      "text/plain": [
       "array(['55-59', '80 or older', '65-69', '75-79', '40-44', '70-74',\n",
       "       '60-64', '50-54', '45-49', '18-24', '35-39', '30-34', '25-29'],\n",
       "      dtype=object)"
      ]
     },
     "execution_count": 47,
     "metadata": {},
     "output_type": "execute_result"
    }
   ],
   "source": [
    "# age feature\n",
    "original_df['AgeCategory'].unique()"
   ]
  },
  {
   "cell_type": "code",
   "execution_count": 48,
   "metadata": {},
   "outputs": [],
   "source": [
    "#replace the range with the first number\n",
    "original_df['AgeCategory'] = original_df['AgeCategory'].replace(['80 or older'],'80-')\n",
    "original_df['AgeCategory'] = original_df['AgeCategory'].str.split('-').str[0].astype('float64')"
   ]
  },
  {
   "cell_type": "code",
   "execution_count": 49,
   "metadata": {},
   "outputs": [],
   "source": [
    "# process numeric features: BMI, PhysicalHealth, MentalHealth, AgeCategory, SleepTime\n",
    "numeric_features = ['BMI','PhysicalHealth','MentalHealth','AgeCategory','SleepTime']\n",
    "scaler = StandardScaler()\n",
    "original_df[numeric_features] = scaler.fit_transform(original_df[numeric_features])"
   ]
  },
  {
   "cell_type": "code",
   "execution_count": 50,
   "metadata": {},
   "outputs": [
    {
     "data": {
      "text/html": [
       "<div>\n",
       "<style scoped>\n",
       "    .dataframe tbody tr th:only-of-type {\n",
       "        vertical-align: middle;\n",
       "    }\n",
       "\n",
       "    .dataframe tbody tr th {\n",
       "        vertical-align: top;\n",
       "    }\n",
       "\n",
       "    .dataframe thead th {\n",
       "        text-align: right;\n",
       "    }\n",
       "</style>\n",
       "<table border=\"1\" class=\"dataframe\">\n",
       "  <thead>\n",
       "    <tr style=\"text-align: right;\">\n",
       "      <th></th>\n",
       "      <th>HeartDisease</th>\n",
       "      <th>BMI</th>\n",
       "      <th>Smoking</th>\n",
       "      <th>AlcoholDrinking</th>\n",
       "      <th>Stroke</th>\n",
       "      <th>PhysicalHealth</th>\n",
       "      <th>MentalHealth</th>\n",
       "      <th>DiffWalking</th>\n",
       "      <th>Sex</th>\n",
       "      <th>AgeCategory</th>\n",
       "      <th>Race</th>\n",
       "      <th>Diabetic</th>\n",
       "      <th>PhysicalActivity</th>\n",
       "      <th>GenHealth</th>\n",
       "      <th>SleepTime</th>\n",
       "      <th>Asthma</th>\n",
       "      <th>KidneyDisease</th>\n",
       "      <th>SkinCancer</th>\n",
       "    </tr>\n",
       "  </thead>\n",
       "  <tbody>\n",
       "    <tr>\n",
       "      <th>0</th>\n",
       "      <td>No</td>\n",
       "      <td>-1.844750</td>\n",
       "      <td>Yes</td>\n",
       "      <td>No</td>\n",
       "      <td>No</td>\n",
       "      <td>-0.046751</td>\n",
       "      <td>3.281069</td>\n",
       "      <td>No</td>\n",
       "      <td>Female</td>\n",
       "      <td>0.141621</td>\n",
       "      <td>White</td>\n",
       "      <td>Yes</td>\n",
       "      <td>Yes</td>\n",
       "      <td>Very good</td>\n",
       "      <td>-1.460354</td>\n",
       "      <td>Yes</td>\n",
       "      <td>No</td>\n",
       "      <td>Yes</td>\n",
       "    </tr>\n",
       "    <tr>\n",
       "      <th>1</th>\n",
       "      <td>No</td>\n",
       "      <td>-1.256338</td>\n",
       "      <td>No</td>\n",
       "      <td>No</td>\n",
       "      <td>Yes</td>\n",
       "      <td>-0.424070</td>\n",
       "      <td>-0.490039</td>\n",
       "      <td>No</td>\n",
       "      <td>Female</td>\n",
       "      <td>1.525151</td>\n",
       "      <td>White</td>\n",
       "      <td>No</td>\n",
       "      <td>Yes</td>\n",
       "      <td>Very good</td>\n",
       "      <td>-0.067601</td>\n",
       "      <td>No</td>\n",
       "      <td>No</td>\n",
       "      <td>No</td>\n",
       "    </tr>\n",
       "    <tr>\n",
       "      <th>2</th>\n",
       "      <td>No</td>\n",
       "      <td>-0.274603</td>\n",
       "      <td>Yes</td>\n",
       "      <td>No</td>\n",
       "      <td>No</td>\n",
       "      <td>2.091388</td>\n",
       "      <td>3.281069</td>\n",
       "      <td>No</td>\n",
       "      <td>Male</td>\n",
       "      <td>0.695033</td>\n",
       "      <td>White</td>\n",
       "      <td>Yes</td>\n",
       "      <td>Yes</td>\n",
       "      <td>Fair</td>\n",
       "      <td>0.628776</td>\n",
       "      <td>Yes</td>\n",
       "      <td>No</td>\n",
       "      <td>No</td>\n",
       "    </tr>\n",
       "    <tr>\n",
       "      <th>3</th>\n",
       "      <td>No</td>\n",
       "      <td>-0.647473</td>\n",
       "      <td>No</td>\n",
       "      <td>No</td>\n",
       "      <td>No</td>\n",
       "      <td>-0.424070</td>\n",
       "      <td>-0.490039</td>\n",
       "      <td>No</td>\n",
       "      <td>Female</td>\n",
       "      <td>1.248445</td>\n",
       "      <td>White</td>\n",
       "      <td>No</td>\n",
       "      <td>No</td>\n",
       "      <td>Good</td>\n",
       "      <td>-0.763977</td>\n",
       "      <td>No</td>\n",
       "      <td>No</td>\n",
       "      <td>Yes</td>\n",
       "    </tr>\n",
       "    <tr>\n",
       "      <th>4</th>\n",
       "      <td>No</td>\n",
       "      <td>-0.726138</td>\n",
       "      <td>No</td>\n",
       "      <td>No</td>\n",
       "      <td>No</td>\n",
       "      <td>3.097572</td>\n",
       "      <td>-0.490039</td>\n",
       "      <td>Yes</td>\n",
       "      <td>Female</td>\n",
       "      <td>-0.688497</td>\n",
       "      <td>White</td>\n",
       "      <td>No</td>\n",
       "      <td>Yes</td>\n",
       "      <td>Very good</td>\n",
       "      <td>0.628776</td>\n",
       "      <td>No</td>\n",
       "      <td>No</td>\n",
       "      <td>No</td>\n",
       "    </tr>\n",
       "  </tbody>\n",
       "</table>\n",
       "</div>"
      ],
      "text/plain": [
       "  HeartDisease       BMI Smoking AlcoholDrinking Stroke  PhysicalHealth  \\\n",
       "0           No -1.844750     Yes              No     No       -0.046751   \n",
       "1           No -1.256338      No              No    Yes       -0.424070   \n",
       "2           No -0.274603     Yes              No     No        2.091388   \n",
       "3           No -0.647473      No              No     No       -0.424070   \n",
       "4           No -0.726138      No              No     No        3.097572   \n",
       "\n",
       "   MentalHealth DiffWalking     Sex  AgeCategory   Race Diabetic  \\\n",
       "0      3.281069          No  Female     0.141621  White      Yes   \n",
       "1     -0.490039          No  Female     1.525151  White       No   \n",
       "2      3.281069          No    Male     0.695033  White      Yes   \n",
       "3     -0.490039          No  Female     1.248445  White       No   \n",
       "4     -0.490039         Yes  Female    -0.688497  White       No   \n",
       "\n",
       "  PhysicalActivity  GenHealth  SleepTime Asthma KidneyDisease SkinCancer  \n",
       "0              Yes  Very good  -1.460354    Yes            No        Yes  \n",
       "1              Yes  Very good  -0.067601     No            No         No  \n",
       "2              Yes       Fair   0.628776    Yes            No         No  \n",
       "3               No       Good  -0.763977     No            No        Yes  \n",
       "4              Yes  Very good   0.628776     No            No         No  "
      ]
     },
     "execution_count": 50,
     "metadata": {},
     "output_type": "execute_result"
    }
   ],
   "source": [
    "original_df.head()"
   ]
  },
  {
   "cell_type": "code",
   "execution_count": 51,
   "metadata": {},
   "outputs": [],
   "source": [
    "original_df = original_df.drop(['HeartDisease', 'Smoking', 'AlcoholDrinking', 'Stroke', 'DiffWalking', 'Sex', 'Race', \n",
    "                                'Diabetic', 'PhysicalActivity', 'GenHealth', 'Asthma', 'KidneyDisease', 'SkinCancer'], axis=1)"
   ]
  },
  {
   "cell_type": "code",
   "execution_count": 52,
   "metadata": {},
   "outputs": [],
   "source": [
    "# combing dataframe\n",
    "original_df = pd.concat([original_df, df], axis=1, join='inner')"
   ]
  },
  {
   "cell_type": "code",
   "execution_count": 53,
   "metadata": {},
   "outputs": [
    {
     "data": {
      "text/html": [
       "<div>\n",
       "<style scoped>\n",
       "    .dataframe tbody tr th:only-of-type {\n",
       "        vertical-align: middle;\n",
       "    }\n",
       "\n",
       "    .dataframe tbody tr th {\n",
       "        vertical-align: top;\n",
       "    }\n",
       "\n",
       "    .dataframe thead th {\n",
       "        text-align: right;\n",
       "    }\n",
       "</style>\n",
       "<table border=\"1\" class=\"dataframe\">\n",
       "  <thead>\n",
       "    <tr style=\"text-align: right;\">\n",
       "      <th></th>\n",
       "      <th>BMI</th>\n",
       "      <th>PhysicalHealth</th>\n",
       "      <th>MentalHealth</th>\n",
       "      <th>AgeCategory</th>\n",
       "      <th>SleepTime</th>\n",
       "      <th>HeartDisease</th>\n",
       "      <th>Smoking</th>\n",
       "      <th>AlcoholDrinking</th>\n",
       "      <th>Stroke</th>\n",
       "      <th>DiffWalking</th>\n",
       "      <th>PhysicalActivity</th>\n",
       "      <th>Asthma</th>\n",
       "      <th>KidneyDisease</th>\n",
       "      <th>SkinCancer</th>\n",
       "      <th>Female</th>\n",
       "      <th>Male</th>\n",
       "      <th>American Indian/Alaskan Native</th>\n",
       "      <th>Asian</th>\n",
       "      <th>Black</th>\n",
       "      <th>Hispanic</th>\n",
       "      <th>Other</th>\n",
       "      <th>White</th>\n",
       "      <th>Diabetic(No)</th>\n",
       "      <th>Diabetic(No, borderline diabetes)</th>\n",
       "      <th>Diabetic(Yes)</th>\n",
       "      <th>Diabetic(Yes, during pregnancy)</th>\n",
       "      <th>GenHealth(Excellent)</th>\n",
       "      <th>GenHealth(Fair)</th>\n",
       "      <th>GenHealth(Good)</th>\n",
       "      <th>GenHealth(Poor)</th>\n",
       "      <th>GenHealth(Very good)</th>\n",
       "    </tr>\n",
       "  </thead>\n",
       "  <tbody>\n",
       "    <tr>\n",
       "      <th>0</th>\n",
       "      <td>-1.844750</td>\n",
       "      <td>-0.046751</td>\n",
       "      <td>3.281069</td>\n",
       "      <td>0.141621</td>\n",
       "      <td>-1.460354</td>\n",
       "      <td>0</td>\n",
       "      <td>1</td>\n",
       "      <td>0</td>\n",
       "      <td>0</td>\n",
       "      <td>0</td>\n",
       "      <td>1</td>\n",
       "      <td>1</td>\n",
       "      <td>0</td>\n",
       "      <td>1</td>\n",
       "      <td>1.0</td>\n",
       "      <td>0.0</td>\n",
       "      <td>0.0</td>\n",
       "      <td>0.0</td>\n",
       "      <td>0.0</td>\n",
       "      <td>0.0</td>\n",
       "      <td>0.0</td>\n",
       "      <td>1.0</td>\n",
       "      <td>0.0</td>\n",
       "      <td>0.0</td>\n",
       "      <td>1.0</td>\n",
       "      <td>0.0</td>\n",
       "      <td>0.0</td>\n",
       "      <td>0.0</td>\n",
       "      <td>0.0</td>\n",
       "      <td>0.0</td>\n",
       "      <td>1.0</td>\n",
       "    </tr>\n",
       "    <tr>\n",
       "      <th>1</th>\n",
       "      <td>-1.256338</td>\n",
       "      <td>-0.424070</td>\n",
       "      <td>-0.490039</td>\n",
       "      <td>1.525151</td>\n",
       "      <td>-0.067601</td>\n",
       "      <td>0</td>\n",
       "      <td>0</td>\n",
       "      <td>0</td>\n",
       "      <td>1</td>\n",
       "      <td>0</td>\n",
       "      <td>1</td>\n",
       "      <td>0</td>\n",
       "      <td>0</td>\n",
       "      <td>0</td>\n",
       "      <td>1.0</td>\n",
       "      <td>0.0</td>\n",
       "      <td>0.0</td>\n",
       "      <td>0.0</td>\n",
       "      <td>0.0</td>\n",
       "      <td>0.0</td>\n",
       "      <td>0.0</td>\n",
       "      <td>1.0</td>\n",
       "      <td>1.0</td>\n",
       "      <td>0.0</td>\n",
       "      <td>0.0</td>\n",
       "      <td>0.0</td>\n",
       "      <td>0.0</td>\n",
       "      <td>0.0</td>\n",
       "      <td>0.0</td>\n",
       "      <td>0.0</td>\n",
       "      <td>1.0</td>\n",
       "    </tr>\n",
       "    <tr>\n",
       "      <th>2</th>\n",
       "      <td>-0.274603</td>\n",
       "      <td>2.091388</td>\n",
       "      <td>3.281069</td>\n",
       "      <td>0.695033</td>\n",
       "      <td>0.628776</td>\n",
       "      <td>0</td>\n",
       "      <td>1</td>\n",
       "      <td>0</td>\n",
       "      <td>0</td>\n",
       "      <td>0</td>\n",
       "      <td>1</td>\n",
       "      <td>1</td>\n",
       "      <td>0</td>\n",
       "      <td>0</td>\n",
       "      <td>0.0</td>\n",
       "      <td>1.0</td>\n",
       "      <td>0.0</td>\n",
       "      <td>0.0</td>\n",
       "      <td>0.0</td>\n",
       "      <td>0.0</td>\n",
       "      <td>0.0</td>\n",
       "      <td>1.0</td>\n",
       "      <td>0.0</td>\n",
       "      <td>0.0</td>\n",
       "      <td>1.0</td>\n",
       "      <td>0.0</td>\n",
       "      <td>0.0</td>\n",
       "      <td>1.0</td>\n",
       "      <td>0.0</td>\n",
       "      <td>0.0</td>\n",
       "      <td>0.0</td>\n",
       "    </tr>\n",
       "    <tr>\n",
       "      <th>3</th>\n",
       "      <td>-0.647473</td>\n",
       "      <td>-0.424070</td>\n",
       "      <td>-0.490039</td>\n",
       "      <td>1.248445</td>\n",
       "      <td>-0.763977</td>\n",
       "      <td>0</td>\n",
       "      <td>0</td>\n",
       "      <td>0</td>\n",
       "      <td>0</td>\n",
       "      <td>0</td>\n",
       "      <td>0</td>\n",
       "      <td>0</td>\n",
       "      <td>0</td>\n",
       "      <td>1</td>\n",
       "      <td>1.0</td>\n",
       "      <td>0.0</td>\n",
       "      <td>0.0</td>\n",
       "      <td>0.0</td>\n",
       "      <td>0.0</td>\n",
       "      <td>0.0</td>\n",
       "      <td>0.0</td>\n",
       "      <td>1.0</td>\n",
       "      <td>1.0</td>\n",
       "      <td>0.0</td>\n",
       "      <td>0.0</td>\n",
       "      <td>0.0</td>\n",
       "      <td>0.0</td>\n",
       "      <td>0.0</td>\n",
       "      <td>1.0</td>\n",
       "      <td>0.0</td>\n",
       "      <td>0.0</td>\n",
       "    </tr>\n",
       "    <tr>\n",
       "      <th>4</th>\n",
       "      <td>-0.726138</td>\n",
       "      <td>3.097572</td>\n",
       "      <td>-0.490039</td>\n",
       "      <td>-0.688497</td>\n",
       "      <td>0.628776</td>\n",
       "      <td>0</td>\n",
       "      <td>0</td>\n",
       "      <td>0</td>\n",
       "      <td>0</td>\n",
       "      <td>1</td>\n",
       "      <td>1</td>\n",
       "      <td>0</td>\n",
       "      <td>0</td>\n",
       "      <td>0</td>\n",
       "      <td>1.0</td>\n",
       "      <td>0.0</td>\n",
       "      <td>0.0</td>\n",
       "      <td>0.0</td>\n",
       "      <td>0.0</td>\n",
       "      <td>0.0</td>\n",
       "      <td>0.0</td>\n",
       "      <td>1.0</td>\n",
       "      <td>1.0</td>\n",
       "      <td>0.0</td>\n",
       "      <td>0.0</td>\n",
       "      <td>0.0</td>\n",
       "      <td>0.0</td>\n",
       "      <td>0.0</td>\n",
       "      <td>0.0</td>\n",
       "      <td>0.0</td>\n",
       "      <td>1.0</td>\n",
       "    </tr>\n",
       "  </tbody>\n",
       "</table>\n",
       "</div>"
      ],
      "text/plain": [
       "        BMI  PhysicalHealth  MentalHealth  AgeCategory  SleepTime  \\\n",
       "0 -1.844750       -0.046751      3.281069     0.141621  -1.460354   \n",
       "1 -1.256338       -0.424070     -0.490039     1.525151  -0.067601   \n",
       "2 -0.274603        2.091388      3.281069     0.695033   0.628776   \n",
       "3 -0.647473       -0.424070     -0.490039     1.248445  -0.763977   \n",
       "4 -0.726138        3.097572     -0.490039    -0.688497   0.628776   \n",
       "\n",
       "   HeartDisease  Smoking  AlcoholDrinking  Stroke  DiffWalking  \\\n",
       "0             0        1                0       0            0   \n",
       "1             0        0                0       1            0   \n",
       "2             0        1                0       0            0   \n",
       "3             0        0                0       0            0   \n",
       "4             0        0                0       0            1   \n",
       "\n",
       "   PhysicalActivity  Asthma  KidneyDisease  SkinCancer  Female  Male  \\\n",
       "0                 1       1              0           1     1.0   0.0   \n",
       "1                 1       0              0           0     1.0   0.0   \n",
       "2                 1       1              0           0     0.0   1.0   \n",
       "3                 0       0              0           1     1.0   0.0   \n",
       "4                 1       0              0           0     1.0   0.0   \n",
       "\n",
       "   American Indian/Alaskan Native  Asian  Black  Hispanic  Other  White  \\\n",
       "0                             0.0    0.0    0.0       0.0    0.0    1.0   \n",
       "1                             0.0    0.0    0.0       0.0    0.0    1.0   \n",
       "2                             0.0    0.0    0.0       0.0    0.0    1.0   \n",
       "3                             0.0    0.0    0.0       0.0    0.0    1.0   \n",
       "4                             0.0    0.0    0.0       0.0    0.0    1.0   \n",
       "\n",
       "   Diabetic(No)  Diabetic(No, borderline diabetes)  Diabetic(Yes)  \\\n",
       "0           0.0                                0.0            1.0   \n",
       "1           1.0                                0.0            0.0   \n",
       "2           0.0                                0.0            1.0   \n",
       "3           1.0                                0.0            0.0   \n",
       "4           1.0                                0.0            0.0   \n",
       "\n",
       "   Diabetic(Yes, during pregnancy)  GenHealth(Excellent)  GenHealth(Fair)  \\\n",
       "0                              0.0                   0.0              0.0   \n",
       "1                              0.0                   0.0              0.0   \n",
       "2                              0.0                   0.0              1.0   \n",
       "3                              0.0                   0.0              0.0   \n",
       "4                              0.0                   0.0              0.0   \n",
       "\n",
       "   GenHealth(Good)  GenHealth(Poor)  GenHealth(Very good)  \n",
       "0              0.0              0.0                   1.0  \n",
       "1              0.0              0.0                   1.0  \n",
       "2              0.0              0.0                   0.0  \n",
       "3              1.0              0.0                   0.0  \n",
       "4              0.0              0.0                   1.0  "
      ]
     },
     "execution_count": 53,
     "metadata": {},
     "output_type": "execute_result"
    }
   ],
   "source": [
    "result_df = original_df\n",
    "result_df.head()"
   ]
  },
  {
   "cell_type": "code",
   "execution_count": 54,
   "metadata": {},
   "outputs": [
    {
     "data": {
      "text/html": [
       "<div>\n",
       "<style scoped>\n",
       "    .dataframe tbody tr th:only-of-type {\n",
       "        vertical-align: middle;\n",
       "    }\n",
       "\n",
       "    .dataframe tbody tr th {\n",
       "        vertical-align: top;\n",
       "    }\n",
       "\n",
       "    .dataframe thead th {\n",
       "        text-align: right;\n",
       "    }\n",
       "</style>\n",
       "<table border=\"1\" class=\"dataframe\">\n",
       "  <thead>\n",
       "    <tr style=\"text-align: right;\">\n",
       "      <th></th>\n",
       "      <th>BMI</th>\n",
       "      <th>PhysicalHealth</th>\n",
       "      <th>MentalHealth</th>\n",
       "      <th>AgeCategory</th>\n",
       "      <th>SleepTime</th>\n",
       "      <th>HeartDisease</th>\n",
       "      <th>Smoking</th>\n",
       "      <th>AlcoholDrinking</th>\n",
       "      <th>Stroke</th>\n",
       "      <th>DiffWalking</th>\n",
       "      <th>PhysicalActivity</th>\n",
       "      <th>Asthma</th>\n",
       "      <th>KidneyDisease</th>\n",
       "      <th>SkinCancer</th>\n",
       "      <th>Female</th>\n",
       "      <th>Male</th>\n",
       "      <th>American Indian/Alaskan Native</th>\n",
       "      <th>Asian</th>\n",
       "      <th>Black</th>\n",
       "      <th>Hispanic</th>\n",
       "      <th>Other</th>\n",
       "      <th>White</th>\n",
       "      <th>Diabetic(No)</th>\n",
       "      <th>Diabetic(No, borderline diabetes)</th>\n",
       "      <th>Diabetic(Yes)</th>\n",
       "      <th>Diabetic(Yes, during pregnancy)</th>\n",
       "      <th>GenHealth(Excellent)</th>\n",
       "      <th>GenHealth(Fair)</th>\n",
       "      <th>GenHealth(Good)</th>\n",
       "      <th>GenHealth(Poor)</th>\n",
       "      <th>GenHealth(Very good)</th>\n",
       "    </tr>\n",
       "  </thead>\n",
       "  <tbody>\n",
       "    <tr>\n",
       "      <th>0</th>\n",
       "      <td>-1.844750</td>\n",
       "      <td>-0.046751</td>\n",
       "      <td>3.281069</td>\n",
       "      <td>0.141621</td>\n",
       "      <td>-1.460354</td>\n",
       "      <td>0</td>\n",
       "      <td>1</td>\n",
       "      <td>0</td>\n",
       "      <td>0</td>\n",
       "      <td>0</td>\n",
       "      <td>1</td>\n",
       "      <td>1</td>\n",
       "      <td>0</td>\n",
       "      <td>1</td>\n",
       "      <td>1.0</td>\n",
       "      <td>0.0</td>\n",
       "      <td>0.0</td>\n",
       "      <td>0.0</td>\n",
       "      <td>0.0</td>\n",
       "      <td>0.0</td>\n",
       "      <td>0.0</td>\n",
       "      <td>1.0</td>\n",
       "      <td>0.0</td>\n",
       "      <td>0.0</td>\n",
       "      <td>1.0</td>\n",
       "      <td>0.0</td>\n",
       "      <td>0.0</td>\n",
       "      <td>0.0</td>\n",
       "      <td>0.0</td>\n",
       "      <td>0.0</td>\n",
       "      <td>1.0</td>\n",
       "    </tr>\n",
       "    <tr>\n",
       "      <th>1</th>\n",
       "      <td>-1.256338</td>\n",
       "      <td>-0.424070</td>\n",
       "      <td>-0.490039</td>\n",
       "      <td>1.525151</td>\n",
       "      <td>-0.067601</td>\n",
       "      <td>0</td>\n",
       "      <td>0</td>\n",
       "      <td>0</td>\n",
       "      <td>1</td>\n",
       "      <td>0</td>\n",
       "      <td>1</td>\n",
       "      <td>0</td>\n",
       "      <td>0</td>\n",
       "      <td>0</td>\n",
       "      <td>1.0</td>\n",
       "      <td>0.0</td>\n",
       "      <td>0.0</td>\n",
       "      <td>0.0</td>\n",
       "      <td>0.0</td>\n",
       "      <td>0.0</td>\n",
       "      <td>0.0</td>\n",
       "      <td>1.0</td>\n",
       "      <td>1.0</td>\n",
       "      <td>0.0</td>\n",
       "      <td>0.0</td>\n",
       "      <td>0.0</td>\n",
       "      <td>0.0</td>\n",
       "      <td>0.0</td>\n",
       "      <td>0.0</td>\n",
       "      <td>0.0</td>\n",
       "      <td>1.0</td>\n",
       "    </tr>\n",
       "    <tr>\n",
       "      <th>2</th>\n",
       "      <td>-0.274603</td>\n",
       "      <td>2.091388</td>\n",
       "      <td>3.281069</td>\n",
       "      <td>0.695033</td>\n",
       "      <td>0.628776</td>\n",
       "      <td>0</td>\n",
       "      <td>1</td>\n",
       "      <td>0</td>\n",
       "      <td>0</td>\n",
       "      <td>0</td>\n",
       "      <td>1</td>\n",
       "      <td>1</td>\n",
       "      <td>0</td>\n",
       "      <td>0</td>\n",
       "      <td>0.0</td>\n",
       "      <td>1.0</td>\n",
       "      <td>0.0</td>\n",
       "      <td>0.0</td>\n",
       "      <td>0.0</td>\n",
       "      <td>0.0</td>\n",
       "      <td>0.0</td>\n",
       "      <td>1.0</td>\n",
       "      <td>0.0</td>\n",
       "      <td>0.0</td>\n",
       "      <td>1.0</td>\n",
       "      <td>0.0</td>\n",
       "      <td>0.0</td>\n",
       "      <td>1.0</td>\n",
       "      <td>0.0</td>\n",
       "      <td>0.0</td>\n",
       "      <td>0.0</td>\n",
       "    </tr>\n",
       "    <tr>\n",
       "      <th>3</th>\n",
       "      <td>-0.647473</td>\n",
       "      <td>-0.424070</td>\n",
       "      <td>-0.490039</td>\n",
       "      <td>1.248445</td>\n",
       "      <td>-0.763977</td>\n",
       "      <td>0</td>\n",
       "      <td>0</td>\n",
       "      <td>0</td>\n",
       "      <td>0</td>\n",
       "      <td>0</td>\n",
       "      <td>0</td>\n",
       "      <td>0</td>\n",
       "      <td>0</td>\n",
       "      <td>1</td>\n",
       "      <td>1.0</td>\n",
       "      <td>0.0</td>\n",
       "      <td>0.0</td>\n",
       "      <td>0.0</td>\n",
       "      <td>0.0</td>\n",
       "      <td>0.0</td>\n",
       "      <td>0.0</td>\n",
       "      <td>1.0</td>\n",
       "      <td>1.0</td>\n",
       "      <td>0.0</td>\n",
       "      <td>0.0</td>\n",
       "      <td>0.0</td>\n",
       "      <td>0.0</td>\n",
       "      <td>0.0</td>\n",
       "      <td>1.0</td>\n",
       "      <td>0.0</td>\n",
       "      <td>0.0</td>\n",
       "    </tr>\n",
       "    <tr>\n",
       "      <th>4</th>\n",
       "      <td>-0.726138</td>\n",
       "      <td>3.097572</td>\n",
       "      <td>-0.490039</td>\n",
       "      <td>-0.688497</td>\n",
       "      <td>0.628776</td>\n",
       "      <td>0</td>\n",
       "      <td>0</td>\n",
       "      <td>0</td>\n",
       "      <td>0</td>\n",
       "      <td>1</td>\n",
       "      <td>1</td>\n",
       "      <td>0</td>\n",
       "      <td>0</td>\n",
       "      <td>0</td>\n",
       "      <td>1.0</td>\n",
       "      <td>0.0</td>\n",
       "      <td>0.0</td>\n",
       "      <td>0.0</td>\n",
       "      <td>0.0</td>\n",
       "      <td>0.0</td>\n",
       "      <td>0.0</td>\n",
       "      <td>1.0</td>\n",
       "      <td>1.0</td>\n",
       "      <td>0.0</td>\n",
       "      <td>0.0</td>\n",
       "      <td>0.0</td>\n",
       "      <td>0.0</td>\n",
       "      <td>0.0</td>\n",
       "      <td>0.0</td>\n",
       "      <td>0.0</td>\n",
       "      <td>1.0</td>\n",
       "    </tr>\n",
       "  </tbody>\n",
       "</table>\n",
       "</div>"
      ],
      "text/plain": [
       "        BMI  PhysicalHealth  MentalHealth  AgeCategory  SleepTime  \\\n",
       "0 -1.844750       -0.046751      3.281069     0.141621  -1.460354   \n",
       "1 -1.256338       -0.424070     -0.490039     1.525151  -0.067601   \n",
       "2 -0.274603        2.091388      3.281069     0.695033   0.628776   \n",
       "3 -0.647473       -0.424070     -0.490039     1.248445  -0.763977   \n",
       "4 -0.726138        3.097572     -0.490039    -0.688497   0.628776   \n",
       "\n",
       "   HeartDisease  Smoking  AlcoholDrinking  Stroke  DiffWalking  \\\n",
       "0             0        1                0       0            0   \n",
       "1             0        0                0       1            0   \n",
       "2             0        1                0       0            0   \n",
       "3             0        0                0       0            0   \n",
       "4             0        0                0       0            1   \n",
       "\n",
       "   PhysicalActivity  Asthma  KidneyDisease  SkinCancer  Female  Male  \\\n",
       "0                 1       1              0           1     1.0   0.0   \n",
       "1                 1       0              0           0     1.0   0.0   \n",
       "2                 1       1              0           0     0.0   1.0   \n",
       "3                 0       0              0           1     1.0   0.0   \n",
       "4                 1       0              0           0     1.0   0.0   \n",
       "\n",
       "   American Indian/Alaskan Native  Asian  Black  Hispanic  Other  White  \\\n",
       "0                             0.0    0.0    0.0       0.0    0.0    1.0   \n",
       "1                             0.0    0.0    0.0       0.0    0.0    1.0   \n",
       "2                             0.0    0.0    0.0       0.0    0.0    1.0   \n",
       "3                             0.0    0.0    0.0       0.0    0.0    1.0   \n",
       "4                             0.0    0.0    0.0       0.0    0.0    1.0   \n",
       "\n",
       "   Diabetic(No)  Diabetic(No, borderline diabetes)  Diabetic(Yes)  \\\n",
       "0           0.0                                0.0            1.0   \n",
       "1           1.0                                0.0            0.0   \n",
       "2           0.0                                0.0            1.0   \n",
       "3           1.0                                0.0            0.0   \n",
       "4           1.0                                0.0            0.0   \n",
       "\n",
       "   Diabetic(Yes, during pregnancy)  GenHealth(Excellent)  GenHealth(Fair)  \\\n",
       "0                              0.0                   0.0              0.0   \n",
       "1                              0.0                   0.0              0.0   \n",
       "2                              0.0                   0.0              1.0   \n",
       "3                              0.0                   0.0              0.0   \n",
       "4                              0.0                   0.0              0.0   \n",
       "\n",
       "   GenHealth(Good)  GenHealth(Poor)  GenHealth(Very good)  \n",
       "0              0.0              0.0                   1.0  \n",
       "1              0.0              0.0                   1.0  \n",
       "2              0.0              0.0                   0.0  \n",
       "3              1.0              0.0                   0.0  \n",
       "4              0.0              0.0                   1.0  "
      ]
     },
     "execution_count": 54,
     "metadata": {},
     "output_type": "execute_result"
    }
   ],
   "source": [
    "pd.set_option('display.max_columns', None)\n",
    "result_df.head()"
   ]
  },
  {
   "cell_type": "code",
   "execution_count": 55,
   "metadata": {},
   "outputs": [
    {
     "data": {
      "text/html": [
       "<div>\n",
       "<style scoped>\n",
       "    .dataframe tbody tr th:only-of-type {\n",
       "        vertical-align: middle;\n",
       "    }\n",
       "\n",
       "    .dataframe tbody tr th {\n",
       "        vertical-align: top;\n",
       "    }\n",
       "\n",
       "    .dataframe thead th {\n",
       "        text-align: right;\n",
       "    }\n",
       "</style>\n",
       "<table border=\"1\" class=\"dataframe\">\n",
       "  <thead>\n",
       "    <tr style=\"text-align: right;\">\n",
       "      <th></th>\n",
       "      <th>BMI</th>\n",
       "      <th>PhysicalHealth</th>\n",
       "      <th>MentalHealth</th>\n",
       "      <th>AgeCategory</th>\n",
       "      <th>SleepTime</th>\n",
       "      <th>HeartDisease</th>\n",
       "      <th>Smoking</th>\n",
       "      <th>AlcoholDrinking</th>\n",
       "      <th>Stroke</th>\n",
       "      <th>DiffWalking</th>\n",
       "      <th>PhysicalActivity</th>\n",
       "      <th>Asthma</th>\n",
       "      <th>KidneyDisease</th>\n",
       "      <th>SkinCancer</th>\n",
       "      <th>Female</th>\n",
       "      <th>Male</th>\n",
       "      <th>American Indian/Alaskan Native</th>\n",
       "      <th>Asian</th>\n",
       "      <th>Black</th>\n",
       "      <th>Hispanic</th>\n",
       "      <th>Other</th>\n",
       "      <th>White</th>\n",
       "      <th>Diabetic(No)</th>\n",
       "      <th>Diabetic(Yes)</th>\n",
       "      <th>GenHealth(Excellent)</th>\n",
       "      <th>GenHealth(Fair)</th>\n",
       "      <th>GenHealth(Good)</th>\n",
       "      <th>GenHealth(Poor)</th>\n",
       "      <th>GenHealth(Very good)</th>\n",
       "    </tr>\n",
       "  </thead>\n",
       "  <tbody>\n",
       "    <tr>\n",
       "      <th>0</th>\n",
       "      <td>-1.844750</td>\n",
       "      <td>-0.046751</td>\n",
       "      <td>3.281069</td>\n",
       "      <td>0.141621</td>\n",
       "      <td>-1.460354</td>\n",
       "      <td>0</td>\n",
       "      <td>1</td>\n",
       "      <td>0</td>\n",
       "      <td>0</td>\n",
       "      <td>0</td>\n",
       "      <td>1</td>\n",
       "      <td>1</td>\n",
       "      <td>0</td>\n",
       "      <td>1</td>\n",
       "      <td>1.0</td>\n",
       "      <td>0.0</td>\n",
       "      <td>0.0</td>\n",
       "      <td>0.0</td>\n",
       "      <td>0.0</td>\n",
       "      <td>0.0</td>\n",
       "      <td>0.0</td>\n",
       "      <td>1.0</td>\n",
       "      <td>0.0</td>\n",
       "      <td>1.0</td>\n",
       "      <td>0.0</td>\n",
       "      <td>0.0</td>\n",
       "      <td>0.0</td>\n",
       "      <td>0.0</td>\n",
       "      <td>1.0</td>\n",
       "    </tr>\n",
       "    <tr>\n",
       "      <th>1</th>\n",
       "      <td>-1.256338</td>\n",
       "      <td>-0.424070</td>\n",
       "      <td>-0.490039</td>\n",
       "      <td>1.525151</td>\n",
       "      <td>-0.067601</td>\n",
       "      <td>0</td>\n",
       "      <td>0</td>\n",
       "      <td>0</td>\n",
       "      <td>1</td>\n",
       "      <td>0</td>\n",
       "      <td>1</td>\n",
       "      <td>0</td>\n",
       "      <td>0</td>\n",
       "      <td>0</td>\n",
       "      <td>1.0</td>\n",
       "      <td>0.0</td>\n",
       "      <td>0.0</td>\n",
       "      <td>0.0</td>\n",
       "      <td>0.0</td>\n",
       "      <td>0.0</td>\n",
       "      <td>0.0</td>\n",
       "      <td>1.0</td>\n",
       "      <td>1.0</td>\n",
       "      <td>0.0</td>\n",
       "      <td>0.0</td>\n",
       "      <td>0.0</td>\n",
       "      <td>0.0</td>\n",
       "      <td>0.0</td>\n",
       "      <td>1.0</td>\n",
       "    </tr>\n",
       "    <tr>\n",
       "      <th>2</th>\n",
       "      <td>-0.274603</td>\n",
       "      <td>2.091388</td>\n",
       "      <td>3.281069</td>\n",
       "      <td>0.695033</td>\n",
       "      <td>0.628776</td>\n",
       "      <td>0</td>\n",
       "      <td>1</td>\n",
       "      <td>0</td>\n",
       "      <td>0</td>\n",
       "      <td>0</td>\n",
       "      <td>1</td>\n",
       "      <td>1</td>\n",
       "      <td>0</td>\n",
       "      <td>0</td>\n",
       "      <td>0.0</td>\n",
       "      <td>1.0</td>\n",
       "      <td>0.0</td>\n",
       "      <td>0.0</td>\n",
       "      <td>0.0</td>\n",
       "      <td>0.0</td>\n",
       "      <td>0.0</td>\n",
       "      <td>1.0</td>\n",
       "      <td>0.0</td>\n",
       "      <td>1.0</td>\n",
       "      <td>0.0</td>\n",
       "      <td>1.0</td>\n",
       "      <td>0.0</td>\n",
       "      <td>0.0</td>\n",
       "      <td>0.0</td>\n",
       "    </tr>\n",
       "    <tr>\n",
       "      <th>3</th>\n",
       "      <td>-0.647473</td>\n",
       "      <td>-0.424070</td>\n",
       "      <td>-0.490039</td>\n",
       "      <td>1.248445</td>\n",
       "      <td>-0.763977</td>\n",
       "      <td>0</td>\n",
       "      <td>0</td>\n",
       "      <td>0</td>\n",
       "      <td>0</td>\n",
       "      <td>0</td>\n",
       "      <td>0</td>\n",
       "      <td>0</td>\n",
       "      <td>0</td>\n",
       "      <td>1</td>\n",
       "      <td>1.0</td>\n",
       "      <td>0.0</td>\n",
       "      <td>0.0</td>\n",
       "      <td>0.0</td>\n",
       "      <td>0.0</td>\n",
       "      <td>0.0</td>\n",
       "      <td>0.0</td>\n",
       "      <td>1.0</td>\n",
       "      <td>1.0</td>\n",
       "      <td>0.0</td>\n",
       "      <td>0.0</td>\n",
       "      <td>0.0</td>\n",
       "      <td>1.0</td>\n",
       "      <td>0.0</td>\n",
       "      <td>0.0</td>\n",
       "    </tr>\n",
       "    <tr>\n",
       "      <th>4</th>\n",
       "      <td>-0.726138</td>\n",
       "      <td>3.097572</td>\n",
       "      <td>-0.490039</td>\n",
       "      <td>-0.688497</td>\n",
       "      <td>0.628776</td>\n",
       "      <td>0</td>\n",
       "      <td>0</td>\n",
       "      <td>0</td>\n",
       "      <td>0</td>\n",
       "      <td>1</td>\n",
       "      <td>1</td>\n",
       "      <td>0</td>\n",
       "      <td>0</td>\n",
       "      <td>0</td>\n",
       "      <td>1.0</td>\n",
       "      <td>0.0</td>\n",
       "      <td>0.0</td>\n",
       "      <td>0.0</td>\n",
       "      <td>0.0</td>\n",
       "      <td>0.0</td>\n",
       "      <td>0.0</td>\n",
       "      <td>1.0</td>\n",
       "      <td>1.0</td>\n",
       "      <td>0.0</td>\n",
       "      <td>0.0</td>\n",
       "      <td>0.0</td>\n",
       "      <td>0.0</td>\n",
       "      <td>0.0</td>\n",
       "      <td>1.0</td>\n",
       "    </tr>\n",
       "  </tbody>\n",
       "</table>\n",
       "</div>"
      ],
      "text/plain": [
       "        BMI  PhysicalHealth  MentalHealth  AgeCategory  SleepTime  \\\n",
       "0 -1.844750       -0.046751      3.281069     0.141621  -1.460354   \n",
       "1 -1.256338       -0.424070     -0.490039     1.525151  -0.067601   \n",
       "2 -0.274603        2.091388      3.281069     0.695033   0.628776   \n",
       "3 -0.647473       -0.424070     -0.490039     1.248445  -0.763977   \n",
       "4 -0.726138        3.097572     -0.490039    -0.688497   0.628776   \n",
       "\n",
       "   HeartDisease  Smoking  AlcoholDrinking  Stroke  DiffWalking  \\\n",
       "0             0        1                0       0            0   \n",
       "1             0        0                0       1            0   \n",
       "2             0        1                0       0            0   \n",
       "3             0        0                0       0            0   \n",
       "4             0        0                0       0            1   \n",
       "\n",
       "   PhysicalActivity  Asthma  KidneyDisease  SkinCancer  Female  Male  \\\n",
       "0                 1       1              0           1     1.0   0.0   \n",
       "1                 1       0              0           0     1.0   0.0   \n",
       "2                 1       1              0           0     0.0   1.0   \n",
       "3                 0       0              0           1     1.0   0.0   \n",
       "4                 1       0              0           0     1.0   0.0   \n",
       "\n",
       "   American Indian/Alaskan Native  Asian  Black  Hispanic  Other  White  \\\n",
       "0                             0.0    0.0    0.0       0.0    0.0    1.0   \n",
       "1                             0.0    0.0    0.0       0.0    0.0    1.0   \n",
       "2                             0.0    0.0    0.0       0.0    0.0    1.0   \n",
       "3                             0.0    0.0    0.0       0.0    0.0    1.0   \n",
       "4                             0.0    0.0    0.0       0.0    0.0    1.0   \n",
       "\n",
       "   Diabetic(No)  Diabetic(Yes)  GenHealth(Excellent)  GenHealth(Fair)  \\\n",
       "0           0.0            1.0                   0.0              0.0   \n",
       "1           1.0            0.0                   0.0              0.0   \n",
       "2           0.0            1.0                   0.0              1.0   \n",
       "3           1.0            0.0                   0.0              0.0   \n",
       "4           1.0            0.0                   0.0              0.0   \n",
       "\n",
       "   GenHealth(Good)  GenHealth(Poor)  GenHealth(Very good)  \n",
       "0              0.0              0.0                   1.0  \n",
       "1              0.0              0.0                   1.0  \n",
       "2              0.0              0.0                   0.0  \n",
       "3              1.0              0.0                   0.0  \n",
       "4              0.0              0.0                   1.0  "
      ]
     },
     "execution_count": 55,
     "metadata": {},
     "output_type": "execute_result"
    }
   ],
   "source": [
    "result_df = result_df.drop(['Diabetic(No, borderline diabetes)', 'Diabetic(Yes, during pregnancy)'], axis=1)\n",
    "result_df.head()"
   ]
  },
  {
   "cell_type": "code",
   "execution_count": 56,
   "metadata": {},
   "outputs": [
    {
     "data": {
      "text/plain": [
       "BMI                               0\n",
       "PhysicalHealth                    0\n",
       "MentalHealth                      0\n",
       "AgeCategory                       0\n",
       "SleepTime                         0\n",
       "HeartDisease                      0\n",
       "Smoking                           0\n",
       "AlcoholDrinking                   0\n",
       "Stroke                            0\n",
       "DiffWalking                       0\n",
       "PhysicalActivity                  0\n",
       "Asthma                            0\n",
       "KidneyDisease                     0\n",
       "SkinCancer                        0\n",
       "Female                            0\n",
       "Male                              0\n",
       "American Indian/Alaskan Native    0\n",
       "Asian                             0\n",
       "Black                             0\n",
       "Hispanic                          0\n",
       "Other                             0\n",
       "White                             0\n",
       "Diabetic(No)                      0\n",
       "Diabetic(Yes)                     0\n",
       "GenHealth(Excellent)              0\n",
       "GenHealth(Fair)                   0\n",
       "GenHealth(Good)                   0\n",
       "GenHealth(Poor)                   0\n",
       "GenHealth(Very good)              0\n",
       "dtype: int64"
      ]
     },
     "execution_count": 56,
     "metadata": {},
     "output_type": "execute_result"
    }
   ],
   "source": [
    "result_df.isnull().sum()"
   ]
  },
  {
   "cell_type": "markdown",
   "metadata": {},
   "source": [
    "# Proposed Solution\n",
    "\n",
    "Dataset will be seperated into three big chunch where each chunk is about 10,000 data with 24 features. This is a large Nested Cross Validation so that the inner loop will be hyperparameter selection for each model, and the outer loop will be choosing the best model, or make a comparison with different models.\n",
    "\n",
    "### Solution 1 - Logistic Regression\n",
    "\n",
    "We will be using CV and Gridsearch to find the best parameters for sklearn LogisticRegression, and do analysis on different metrics (accuracy, f1, etc) with some graphs. Due to its generalization performance and fast speed, this model will be used as the baseline model for our dataset.\n",
    "\n",
    "### Solution 2 - Decision Tree\n",
    "\n",
    "We will be using CV and Gridsearch to find the best parameters for sklearn DecisionTree, and do analysis on different metrics (accuracy, f1, etc) with some graphs. Trainning curve will also be graphed in the solution.\n",
    "\n",
    "### Solution 3 - SVM\n",
    "\n",
    "We will be using CV and Gridsearch to find the best parameters for CUML Supported Vector Machine, and do analysis on its test sore report (accuracy, f1, etc) with some graphs. Also, PCA will be done on the train and test X data so that some noise will be cancel.\n",
    "\n",
    "### Common Package (not exact name listed)\n",
    "\n",
    "sklearn: logistic regression, decision tree, f1 score, accuracy score, test report, roc and acu, standard scaler, gridsearch, cross validation, etc."
   ]
  },
  {
   "cell_type": "markdown",
   "metadata": {},
   "source": [
    "# Evaluation Metrics\n",
    "\n",
    "Propose at least one evaluation metric that can be used to quantify the performance of both the benchmark model and the solution model. The evaluation metric(s) you propose should be appropriate given the context of the data, the problem statement, and the intended solution. Describe how the evaluation metric(s) are derived and provide an example of their mathematical representations (if applicable). Complex evaluation metrics should be clearly defined and quantifiable (can be expressed in mathematical or logical terms)."
   ]
  },
  {
   "cell_type": "markdown",
   "metadata": {},
   "source": [
    "# Preliminary results\n",
    "\n",
    "NEW SECTION!\n",
    "\n",
    "Please show any preliminary results you have managed to obtain.\n",
    "\n",
    "Examples would include:\n",
    "- Analyzing the suitability of a dataset or alogrithm for prediction/solving your problem \n",
    "- Performing feature selection or hand-designing features from the raw data. Describe the features available/created and/or show the code for selection/creation\n",
    "- Showing the performance of a base model/hyper-parameter setting.  Solve the task with one \"default\" algorithm and characterize the performance level of that base model.\n",
    "- Learning curves or validation curves for a particular model\n",
    "- Tables/graphs showing the performance of different models/hyper-parameters\n",
    "\n"
   ]
  },
  {
   "cell_type": "code",
   "execution_count": 25,
   "metadata": {},
   "outputs": [
    {
     "data": {
      "text/plain": [
       "<AxesSubplot:>"
      ]
     },
     "execution_count": 25,
     "metadata": {},
     "output_type": "execute_result"
    },
    {
     "data": {
      "image/png": "[encoded data removed]",
      "text/plain": [
       "<Figure size 1800x1800 with 2 Axes>"
      ]
     },
     "metadata": {
      "needs_background": "light"
     },
     "output_type": "display_data"
    }
   ],
   "source": [
    "# correlation plot\n",
    "correlation = result_df.corr().round(3)\n",
    "plt.figure(figsize = (25,25))\n",
    "sns.heatmap(correlation, annot = True, cmap = 'rocket')"
   ]
  },
  {
   "cell_type": "code",
   "execution_count": 26,
   "metadata": {},
   "outputs": [
    {
     "data": {
      "image/png": "[encoded data removed]",
      "text/plain": [
       "<Figure size 1800x1440 with 1 Axes>"
      ]
     },
     "metadata": {},
     "output_type": "display_data"
    },
    {
     "data": {
      "text/html": [
       "<div>\n",
       "<style scoped>\n",
       "    .dataframe tbody tr th:only-of-type {\n",
       "        vertical-align: middle;\n",
       "    }\n",
       "\n",
       "    .dataframe tbody tr th {\n",
       "        vertical-align: top;\n",
       "    }\n",
       "\n",
       "    .dataframe thead th {\n",
       "        text-align: right;\n",
       "    }\n",
       "</style>\n",
       "<table border=\"1\" class=\"dataframe\">\n",
       "  <thead>\n",
       "    <tr style=\"text-align: right;\">\n",
       "      <th></th>\n",
       "      <th>HeartDisease</th>\n",
       "    </tr>\n",
       "  </thead>\n",
       "  <tbody>\n",
       "    <tr>\n",
       "      <th>AgeCategory</th>\n",
       "      <td>0.232</td>\n",
       "    </tr>\n",
       "    <tr>\n",
       "      <th>DiffWalking</th>\n",
       "      <td>0.201</td>\n",
       "    </tr>\n",
       "    <tr>\n",
       "      <th>Stroke</th>\n",
       "      <td>0.197</td>\n",
       "    </tr>\n",
       "    <tr>\n",
       "      <th>Diabetic(Yes)</th>\n",
       "      <td>0.183</td>\n",
       "    </tr>\n",
       "    <tr>\n",
       "      <th>GenHealth(Poor)</th>\n",
       "      <td>0.175</td>\n",
       "    </tr>\n",
       "    <tr>\n",
       "      <th>PhysicalHealth</th>\n",
       "      <td>0.171</td>\n",
       "    </tr>\n",
       "    <tr>\n",
       "      <th>Diabetic(No)</th>\n",
       "      <td>0.171</td>\n",
       "    </tr>\n",
       "    <tr>\n",
       "      <th>GenHealth(Fair)</th>\n",
       "      <td>0.148</td>\n",
       "    </tr>\n",
       "    <tr>\n",
       "      <th>KidneyDisease</th>\n",
       "      <td>0.145</td>\n",
       "    </tr>\n",
       "    <tr>\n",
       "      <th>GenHealth(Excellent)</th>\n",
       "      <td>0.116</td>\n",
       "    </tr>\n",
       "    <tr>\n",
       "      <th>Smoking</th>\n",
       "      <td>0.108</td>\n",
       "    </tr>\n",
       "    <tr>\n",
       "      <th>GenHealth(Very good)</th>\n",
       "      <td>0.102</td>\n",
       "    </tr>\n",
       "    <tr>\n",
       "      <th>PhysicalActivity</th>\n",
       "      <td>0.100</td>\n",
       "    </tr>\n",
       "    <tr>\n",
       "      <th>SkinCancer</th>\n",
       "      <td>0.093</td>\n",
       "    </tr>\n",
       "    <tr>\n",
       "      <th>Male</th>\n",
       "      <td>0.070</td>\n",
       "    </tr>\n",
       "    <tr>\n",
       "      <th>Female</th>\n",
       "      <td>0.070</td>\n",
       "    </tr>\n",
       "    <tr>\n",
       "      <th>BMI</th>\n",
       "      <td>0.052</td>\n",
       "    </tr>\n",
       "    <tr>\n",
       "      <th>Asthma</th>\n",
       "      <td>0.041</td>\n",
       "    </tr>\n",
       "    <tr>\n",
       "      <th>White</th>\n",
       "      <td>0.040</td>\n",
       "    </tr>\n",
       "    <tr>\n",
       "      <th>GenHealth(Good)</th>\n",
       "      <td>0.039</td>\n",
       "    </tr>\n",
       "    <tr>\n",
       "      <th>Hispanic</th>\n",
       "      <td>0.036</td>\n",
       "    </tr>\n",
       "    <tr>\n",
       "      <th>AlcoholDrinking</th>\n",
       "      <td>0.032</td>\n",
       "    </tr>\n",
       "    <tr>\n",
       "      <th>Asian</th>\n",
       "      <td>0.030</td>\n",
       "    </tr>\n",
       "    <tr>\n",
       "      <th>MentalHealth</th>\n",
       "      <td>0.029</td>\n",
       "    </tr>\n",
       "    <tr>\n",
       "      <th>Black</th>\n",
       "      <td>0.010</td>\n",
       "    </tr>\n",
       "    <tr>\n",
       "      <th>American Indian/Alaskan Native</th>\n",
       "      <td>0.009</td>\n",
       "    </tr>\n",
       "    <tr>\n",
       "      <th>SleepTime</th>\n",
       "      <td>0.008</td>\n",
       "    </tr>\n",
       "    <tr>\n",
       "      <th>Other</th>\n",
       "      <td>0.003</td>\n",
       "    </tr>\n",
       "  </tbody>\n",
       "</table>\n",
       "</div>"
      ],
      "text/plain": [
       "                                HeartDisease\n",
       "AgeCategory                            0.232\n",
       "DiffWalking                            0.201\n",
       "Stroke                                 0.197\n",
       "Diabetic(Yes)                          0.183\n",
       "GenHealth(Poor)                        0.175\n",
       "PhysicalHealth                         0.171\n",
       "Diabetic(No)                           0.171\n",
       "GenHealth(Fair)                        0.148\n",
       "KidneyDisease                          0.145\n",
       "GenHealth(Excellent)                   0.116\n",
       "Smoking                                0.108\n",
       "GenHealth(Very good)                   0.102\n",
       "PhysicalActivity                       0.100\n",
       "SkinCancer                             0.093\n",
       "Male                                   0.070\n",
       "Female                                 0.070\n",
       "BMI                                    0.052\n",
       "Asthma                                 0.041\n",
       "White                                  0.040\n",
       "GenHealth(Good)                        0.039\n",
       "Hispanic                               0.036\n",
       "AlcoholDrinking                        0.032\n",
       "Asian                                  0.030\n",
       "MentalHealth                           0.029\n",
       "Black                                  0.010\n",
       "American Indian/Alaskan Native         0.009\n",
       "SleepTime                              0.008\n",
       "Other                                  0.003"
      ]
     },
     "execution_count": 26,
     "metadata": {},
     "output_type": "execute_result"
    }
   ],
   "source": [
    "#calculate the correlation coefficient\n",
    "corr_result = pd.DataFrame(correlation.loc[\"HeartDisease\"])\n",
    "corr_result = abs(corr_result.drop([\"HeartDisease\"]))\n",
    "corr_result = corr_result.sort_values(\"HeartDisease\", ascending = False)\n",
    "sns.set_style('white')\n",
    "sns.set_palette('tab10')\n",
    "plt.figure(figsize = (25,20))\n",
    "plt.title('Distribution of correlation of features')\n",
    "abs(corr_result['HeartDisease']).plot.barh()\n",
    "plt.show()\n",
    "corr_result"
   ]
  },
  {
   "cell_type": "code",
   "execution_count": 27,
   "metadata": {},
   "outputs": [],
   "source": [
    "#drop features that are not important\n",
    "result_df = result_df.drop(['Asian','Black','White','Hispanic','American Indian/Alaskan Native'], axis=1)"
   ]
  },
  {
   "cell_type": "code",
   "execution_count": 28,
   "metadata": {},
   "outputs": [],
   "source": [
    "#split dataset into three parts\n",
    "split_data = []\n",
    "for i in range(3):\n",
    "    split_data.append(result_df.sample(result_df.shape[0]//3, replace = False, random_state = 42))"
   ]
  },
  {
   "cell_type": "markdown",
   "metadata": {},
   "source": [
    "First Dataset: SVM\n",
    "\n",
    "Second Dataset: Decision Tree\n",
    "\n",
    "Third Dataset: Logistic Regression"
   ]
  },
  {
   "cell_type": "markdown",
   "metadata": {},
   "source": [
    "### Decision Tree"
   ]
  },
  {
   "cell_type": "code",
   "execution_count": 29,
   "metadata": {},
   "outputs": [
    {
     "data": {
      "text/plain": [
       "BMI                     float64\n",
       "PhysicalHealth          float64\n",
       "MentalHealth            float64\n",
       "AgeCategory             float64\n",
       "SleepTime               float64\n",
       "HeartDisease              int64\n",
       "Smoking                   int64\n",
       "AlcoholDrinking           int64\n",
       "Stroke                    int64\n",
       "DiffWalking               int64\n",
       "PhysicalActivity          int64\n",
       "Asthma                    int64\n",
       "KidneyDisease             int64\n",
       "SkinCancer                int64\n",
       "Female                  float64\n",
       "Male                    float64\n",
       "Other                   float64\n",
       "Diabetic(No)            float64\n",
       "Diabetic(Yes)           float64\n",
       "GenHealth(Excellent)    float64\n",
       "GenHealth(Fair)         float64\n",
       "GenHealth(Good)         float64\n",
       "GenHealth(Poor)         float64\n",
       "GenHealth(Very good)    float64\n",
       "dtype: object"
      ]
     },
     "execution_count": 29,
     "metadata": {},
     "output_type": "execute_result"
    }
   ],
   "source": [
    "split_data[1].dtypes"
   ]
  },
  {
   "cell_type": "code",
   "execution_count": 30,
   "metadata": {},
   "outputs": [],
   "source": [
    "## data split\n",
    "X = split_data[1].drop([\"HeartDisease\"], axis=1)\n",
    "y = split_data[1][\"HeartDisease\"]\n",
    "X_train, X_test, y_train, y_test = train_test_split(X, y, test_size=1/3, random_state=42)"
   ]
  },
  {
   "cell_type": "code",
   "execution_count": 31,
   "metadata": {},
   "outputs": [
    {
     "name": "stdout",
     "output_type": "stream",
     "text": [
      "CPU times: user 172 ms, sys: 10.5 ms, total: 183 ms\n",
      "Wall time: 182 ms\n"
     ]
    },
    {
     "data": {
      "text/plain": [
       "DecisionTreeClassifier(random_state=42)"
      ]
     },
     "execution_count": 31,
     "metadata": {},
     "output_type": "execute_result"
    }
   ],
   "source": [
    "%%time\n",
    "#default decision tree model\n",
    "decision_tree = DecisionTreeClassifier(random_state = 42)\n",
    "decision_tree.fit(X_train, y_train)"
   ]
  },
  {
   "cell_type": "code",
   "execution_count": 32,
   "metadata": {},
   "outputs": [
    {
     "name": "stdout",
     "output_type": "stream",
     "text": [
      "F1 score: 0.24605103280680438\n",
      "Train_score: 0.9987194821642159\n",
      "Test_score 0.8602988771001604\n"
     ]
    }
   ],
   "source": [
    "#metrics for default decision tree\n",
    "train_score = decision_tree.score(X_train, y_train)\n",
    "test_score = decision_tree.score(X_test,y_test)\n",
    "\n",
    "y_pred = decision_tree.predict(X_test)\n",
    "print(\"F1 score:\", f1_score(y_test, y_pred,))\n",
    "print(\"Train_score:\", train_score)\n",
    "print(\"Test_score\", test_score)"
   ]
  },
  {
   "cell_type": "markdown",
   "metadata": {},
   "source": [
    "### Parameter Search for decision tree"
   ]
  },
  {
   "cell_type": "code",
   "execution_count": 33,
   "metadata": {},
   "outputs": [],
   "source": [
    "#class weight\n",
    "weight = [{0:100,1:1}, {0:10,1:1}, {0:1,1:1}, {0:1,1:10}, {0:1,1:100}]\n",
    "search_space = {\"criterion\":[\"gini\", \"entropy\"], \"max_depth\":[2,4,6,8,10,12,14,16,18,20],\n",
    "                'max_features':['auto', 'sqrt', 'log2'], 'ccp_alpha': [0.01, 0.03,0.09,0.1], \n",
    "                \"min_samples_leaf\": [1,3,5,7,9,11,13,15,17,19], 'class_weight': weight}"
   ]
  },
  {
   "cell_type": "code",
   "execution_count": 34,
   "metadata": {},
   "outputs": [],
   "source": [
    "# use Stratified Kfold\n",
    "skf = StratifiedKFold(n_splits = 5, random_state = 42, shuffle = True)"
   ]
  },
  {
   "cell_type": "code",
   "execution_count": 35,
   "metadata": {},
   "outputs": [
    {
     "name": "stdout",
     "output_type": "stream",
     "text": [
      "Fitting 5 folds for each of 12000 candidates, totalling 60000 fits\n"
     ]
    },
    {
     "data": {
      "text/plain": [
       "GridSearchCV(cv=StratifiedKFold(n_splits=5, random_state=42, shuffle=True),\n",
       "             estimator=DecisionTreeClassifier(random_state=1024), n_jobs=-1,\n",
       "             param_grid={'ccp_alpha': [0.01, 0.03, 0.09, 0.1],\n",
       "                         'class_weight': [{0: 100, 1: 1}, {0: 10, 1: 1},\n",
       "                                          {0: 1, 1: 1}, {0: 1, 1: 10},\n",
       "                                          {0: 1, 1: 100}],\n",
       "                         'criterion': ['gini', 'entropy'],\n",
       "                         'max_depth': [2, 4, 6, 8, 10, 12, 14, 16, 18, 20],\n",
       "                         'max_features': ['auto', 'sqrt', 'log2'],\n",
       "                         'min_samples_leaf': [1, 3, 5, 7, 9, 11, 13, 15, 17,\n",
       "                                              19]},\n",
       "             verbose=True)"
      ]
     },
     "execution_count": 35,
     "metadata": {},
     "output_type": "execute_result"
    }
   ],
   "source": [
    "#grid search\n",
    "decision_tree_model = DecisionTreeClassifier(random_state = 1024)\n",
    "f1_scorer = make_scorer(f1_score, pos_label=1)\n",
    "grid_search = GridSearchCV(estimator=decision_tree_model, param_grid=search_space, cv=skf, verbose = True , n_jobs = -1)\n",
    "grid_search.fit(X_train, y_train)"
   ]
  },
  {
   "cell_type": "code",
   "execution_count": 36,
   "metadata": {},
   "outputs": [
    {
     "data": {
      "text/plain": [
       "DecisionTreeClassifier(ccp_alpha=0.01, class_weight={0: 100, 1: 1}, max_depth=2,\n",
       "                       max_features='auto', random_state=1024)"
      ]
     },
     "execution_count": 36,
     "metadata": {},
     "output_type": "execute_result"
    }
   ],
   "source": [
    "#best model\n",
    "best_model = grid_search.best_estimator_\n",
    "best_model"
   ]
  },
  {
   "cell_type": "markdown",
   "metadata": {},
   "source": [
    "### Result for decision tree"
   ]
  },
  {
   "cell_type": "code",
   "execution_count": 37,
   "metadata": {},
   "outputs": [
    {
     "data": {
      "text/plain": [
       "DecisionTreeClassifier(ccp_alpha=0.01, class_weight={0: 1, 1: 10},\n",
       "                       criterion='entropy', max_depth=8, max_features='auto',\n",
       "                       min_samples_leaf=19, random_state=1024)"
      ]
     },
     "execution_count": 37,
     "metadata": {},
     "output_type": "execute_result"
    }
   ],
   "source": [
    "#decision tree based on f1 value\n",
    "decision_tree_f = DecisionTreeClassifier(ccp_alpha=0.01, class_weight={0: 1, 1: 10},\n",
    "                       criterion='entropy', max_depth=8, max_features='auto',\n",
    "                       min_samples_leaf=19, random_state=1024)\n",
    "decision_tree_f.fit(X_train, y_train)"
   ]
  },
  {
   "cell_type": "code",
   "execution_count": 38,
   "metadata": {},
   "outputs": [
    {
     "name": "stdout",
     "output_type": "stream",
     "text": [
      "F1 score: 0.2891077962285392\n",
      "Train_score: 0.6474917329205657\n",
      "Test_score 0.6445839079165846\n"
     ]
    }
   ],
   "source": [
    "# test result\n",
    "train_score_f = decision_tree_f.score(X_train, y_train)\n",
    "test_score_f = decision_tree_f.score(X_test,y_test)\n",
    "\n",
    "y_pred_f = decision_tree_f.predict(X_test)\n",
    "print(\"F1 score:\", f1_score(y_test, y_pred_f,))\n",
    "print(\"Train_score:\", train_score_f)\n",
    "print(\"Test_score\", test_score_f)"
   ]
  },
  {
   "cell_type": "code",
   "execution_count": 39,
   "metadata": {},
   "outputs": [
    {
     "data": {
      "image/png": "[encoded data removed]",
      "text/plain": [
       "<Figure size 432x288 with 1 Axes>"
      ]
     },
     "metadata": {},
     "output_type": "display_data"
    },
    {
     "name": "stdout",
     "output_type": "stream",
     "text": [
      "Logistic: ROC AUC=0.726\n"
     ]
    }
   ],
   "source": [
    "# auc, roc curve\n",
    "dt1_auc_score = roc_auc_score(y_test, y_pred_f)\n",
    "dt1_fpr, dt1_tpr, _ = roc_curve(y_test, y_pred_f)\n",
    "\n",
    "plt.plot(dt1_fpr, dt1_tpr, label='Decision Tree')\n",
    "plt.xlabel('False Positive Rate')\n",
    "plt.ylabel('True Positive Rate')\n",
    "plt.legend()\n",
    "plt.show()\n",
    "print('Logistic: ROC AUC=%.3f' % (dt1_auc_score))"
   ]
  },
  {
   "cell_type": "code",
   "execution_count": 40,
   "metadata": {},
   "outputs": [
    {
     "data": {
      "text/plain": [
       "<matplotlib.legend.Legend at 0x7fc8aa7bdc10>"
      ]
     },
     "execution_count": 40,
     "metadata": {},
     "output_type": "execute_result"
    },
    {
     "data": {
      "image/png": "[encoded data removed]",
      "text/plain": [
       "<Figure size 432x288 with 1 Axes>"
      ]
     },
     "metadata": {},
     "output_type": "display_data"
    }
   ],
   "source": [
    "# Learning curve\n",
    "train_sizes1, train_scores1, test_scores1, fit_times, _ = learning_curve(decision_tree_f, X_train, y_train, cv=skf,return_times=True, n_jobs = -1)\n",
    "plt.plot(train_sizes1,np.mean(train_scores1,axis=1),label = \"train curve\")\n",
    "plt.plot(train_sizes1,np.mean(test_scores1,axis=1),label = \"validation curve\")\n",
    "plt.legend()"
   ]
  },
  {
   "cell_type": "code",
   "execution_count": 41,
   "metadata": {},
   "outputs": [
    {
     "data": {
      "text/plain": [
       "DecisionTreeClassifier(ccp_alpha=0.01, class_weight={0: 100, 1: 1}, max_depth=2,\n",
       "                       max_features='auto', random_state=1024)"
      ]
     },
     "execution_count": 41,
     "metadata": {},
     "output_type": "execute_result"
    }
   ],
   "source": [
    "#decision tree based on accuracy\n",
    "decision_tree_a = DecisionTreeClassifier(ccp_alpha=0.01, class_weight={0: 100, 1: 1}, max_depth=2,\n",
    "                       max_features='auto', random_state=1024)\n",
    "decision_tree_a.fit(X_train, y_train)"
   ]
  },
  {
   "cell_type": "code",
   "execution_count": 42,
   "metadata": {},
   "outputs": [
    {
     "name": "stdout",
     "output_type": "stream",
     "text": [
      "F1 score: 0.0\n",
      "Train_score: 0.9139660873847886\n",
      "Test_score 0.9124194410829369\n"
     ]
    }
   ],
   "source": [
    "# test result\n",
    "train_score_a = decision_tree_a.score(X_train, y_train)\n",
    "test_score_a = decision_tree_a.score(X_test,y_test)\n",
    "\n",
    "y_pred_a = decision_tree_a.predict(X_test)\n",
    "print(\"F1 score:\", f1_score(y_test, y_pred_a,))\n",
    "print(\"Train_score:\", train_score_a)\n",
    "print(\"Test_score\", test_score_a)"
   ]
  },
  {
   "cell_type": "code",
   "execution_count": 43,
   "metadata": {},
   "outputs": [
    {
     "data": {
      "image/png": "[encoded data removed]",
      "text/plain": [
       "<Figure size 432x288 with 1 Axes>"
      ]
     },
     "metadata": {},
     "output_type": "display_data"
    },
    {
     "name": "stdout",
     "output_type": "stream",
     "text": [
      "Logistic: ROC AUC=0.500\n"
     ]
    }
   ],
   "source": [
    "# auc roc curve\n",
    "dt2_auc_score = roc_auc_score(y_test, y_pred_a)\n",
    "dt2_fpr, dt2_tpr, _ = roc_curve(y_test, y_pred_a)\n",
    "\n",
    "plt.plot(dt2_fpr, dt2_tpr, label='Decision Tree')\n",
    "plt.xlabel('False Positive Rate')\n",
    "plt.ylabel('True Positive Rate')\n",
    "plt.legend()\n",
    "plt.show()\n",
    "print('Logistic: ROC AUC=%.3f' % (dt2_auc_score))"
   ]
  },
  {
   "cell_type": "code",
   "execution_count": 44,
   "metadata": {},
   "outputs": [
    {
     "data": {
      "text/plain": [
       "<matplotlib.legend.Legend at 0x7fc945917d90>"
      ]
     },
     "execution_count": 44,
     "metadata": {},
     "output_type": "execute_result"
    },
    {
     "data": {
      "image/png": "[encoded data removed]",
      "text/plain": [
       "<Figure size 432x288 with 1 Axes>"
      ]
     },
     "metadata": {},
     "output_type": "display_data"
    }
   ],
   "source": [
    "# Learning curve\n",
    "train_sizes2, train_scores2, test_scores2, fit_times, _ = learning_curve(decision_tree_a, X_train, y_train, cv=skf,return_times=True, n_jobs = -1)\n",
    "plt.plot(train_sizes2,np.mean(train_scores2,axis=1),label = \"train curve\")\n",
    "plt.plot(train_sizes2,np.mean(test_scores2,axis=1),label = \"validation curve\")\n",
    "plt.legend()"
   ]
  },
  {
   "cell_type": "markdown",
   "metadata": {},
   "source": [
    "### Decision Tree Summary"
   ]
  },
  {
   "cell_type": "markdown",
   "metadata": {},
   "source": [
    "- Decision tree is not very suitable for this dataset. The main reason is that the dataset is quite imbalanced: about 90% of the samples are marked as 0 while 10% are marked as 1. And to deal with the imbalanced dataset, we actually try many approches. First of all, we adjust the weight of the rare class, so misclassifying the rare class will have the higher cost. Second, we use Stratified Kfold to make sure that each split contains the same proportion amount of positive and negative class. After trying all these approches, the results are still not very good. Therefore, we conclude that the decision tree algorithm is not very suitble for this dataset\n",
    "\n",
    "\n",
    "- We perform the feature selection on the raw data. We firstly compute the Pearson Coefficient for each feature, determining the strength of its correlation. And we found that the \"race\" feature is the least related. Therefore, we decide to drop those columns. This reduces our number of features from 29 to 24.\n",
    "\n",
    "\n",
    "- For decision tree model, we firstly use a default decision tree without any parameters. Its accruacy is around 86% and its f-value is about 0.246. So the accuracy is not very high and f-score is relatively low. This is mainly because the dataset is quite imbalanced. And we will add some parameters to handle such situation.\n",
    "\n",
    "- We build learning curves for the two decision tree models above: one model is based on accuracy, while the other one is based on accuracy. From the learning curve, we can see that for the model based on f-value, its traninig curve and validation curve are basically the same, so its performance is relatively stable. However, its accuracy is quite low. For the model based on accuracy, its validation curve did not change, which may suggest that there may not lot of training there. From the two learning curves here, we can conclude that the decision tree model is not very suitable for the dataset."
   ]
  },
  {
   "cell_type": "markdown",
   "metadata": {},
   "source": [
    "### SVM"
   ]
  },
  {
   "cell_type": "markdown",
   "metadata": {},
   "source": [
    "#### Packages"
   ]
  },
  {
   "cell_type": "code",
   "execution_count": 45,
   "metadata": {},
   "outputs": [],
   "source": [
    "from cuml import SVC\n",
    "from sklearn.model_selection import train_test_split, KFold, GridSearchCV\n",
    "from sklearn.metrics import f1_score, classification_report, roc_curve, roc_auc_score\n",
    "from sklearn.decomposition import PCA"
   ]
  },
  {
   "cell_type": "markdown",
   "metadata": {},
   "source": [
    "#### Data Types"
   ]
  },
  {
   "cell_type": "code",
   "execution_count": 46,
   "metadata": {},
   "outputs": [
    {
     "data": {
      "text/plain": [
       "BMI                     float64\n",
       "PhysicalHealth          float64\n",
       "MentalHealth            float64\n",
       "AgeCategory             float64\n",
       "SleepTime               float64\n",
       "HeartDisease              int64\n",
       "Smoking                   int64\n",
       "AlcoholDrinking           int64\n",
       "Stroke                    int64\n",
       "DiffWalking               int64\n",
       "PhysicalActivity          int64\n",
       "Asthma                    int64\n",
       "KidneyDisease             int64\n",
       "SkinCancer                int64\n",
       "Female                  float64\n",
       "Male                    float64\n",
       "Other                   float64\n",
       "Diabetic(No)            float64\n",
       "Diabetic(Yes)           float64\n",
       "GenHealth(Excellent)    float64\n",
       "GenHealth(Fair)         float64\n",
       "GenHealth(Good)         float64\n",
       "GenHealth(Poor)         float64\n",
       "GenHealth(Very good)    float64\n",
       "dtype: object"
      ]
     },
     "execution_count": 46,
     "metadata": {},
     "output_type": "execute_result"
    }
   ],
   "source": [
    "split_data[2].dtypes"
   ]
  },
  {
   "cell_type": "markdown",
   "metadata": {},
   "source": [
    "#### Data Splits"
   ]
  },
  {
   "cell_type": "code",
   "execution_count": 47,
   "metadata": {},
   "outputs": [],
   "source": [
    "svm_df = split_data[2]\n",
    "X_train, X_test, y_train, y_test = train_test_split(svm_df.drop(columns = \"HeartDisease\"), svm_df[\"HeartDisease\"].astype(int), test_size=0.2, random_state=42)"
   ]
  },
  {
   "cell_type": "markdown",
   "metadata": {},
   "source": [
    "Spliting the data into train and test, as well as X and y."
   ]
  },
  {
   "cell_type": "markdown",
   "metadata": {},
   "source": [
    "#### PCA"
   ]
  },
  {
   "cell_type": "code",
   "execution_count": 48,
   "metadata": {},
   "outputs": [],
   "source": [
    "pca = PCA()\n",
    "scaler = StandardScaler()\n",
    "X_train = pca.fit_transform(X_train)\n",
    "X_test = pca.transform(X_test)\n",
    "X_train = scaler.fit_transform(X_train)\n",
    "X_test = scaler.transform(X_test)"
   ]
  },
  {
   "cell_type": "markdown",
   "metadata": {},
   "source": [
    "We first create a PCA on the training set of X, then use the same PCA to transform the test set of X. After that, we did a normolization on the dataset for both training and testing set of X. Because the Y data are compose with 0 and 1, we do not need to change that."
   ]
  },
  {
   "cell_type": "markdown",
   "metadata": {},
   "source": [
    "#### Grid Search Parameters"
   ]
  },
  {
   "cell_type": "code",
   "execution_count": 49,
   "metadata": {},
   "outputs": [],
   "source": [
    "space = {'C': [1, 3, 9],\n",
    "         'kernel': ['rbf', 'poly', 'linear'], \n",
    "         'class_weight': [{0:1.0, 1:3.0}, {0:1.0, 1:5.0}, {0:1.0, 1:7.0}],}\n",
    "svm = SVC(cache_size = 4096)"
   ]
  },
  {
   "cell_type": "markdown",
   "metadata": {},
   "source": [
    "Because we have around 10,000 data with 24 features, the time need for SVM will be extremely long. We use GPU acceleration for the SVM as well as tested different parameters for the model, the above will show the difference between each variables when doing the grid search.\n",
    "\n",
    "Within the test, the gamma value does not influence a lot for the SVM but rather the most important variables is the class_weight, because our dataset has a inbalance ratio such that 90% of the data does not have Heart Disease (HeartDiease=0)."
   ]
  },
  {
   "cell_type": "markdown",
   "metadata": {},
   "source": [
    "#### Grid Search"
   ]
  },
  {
   "cell_type": "code",
   "execution_count": 50,
   "metadata": {
    "jupyter": {
     "outputs_hidden": true
    },
    "tags": []
   },
   "outputs": [
    {
     "name": "stdout",
     "output_type": "stream",
     "text": [
      "Fitting 5 folds for each of 27 candidates, totalling 135 fits\n",
      "[CV 1/5] END C=1, class_weight={0: 1.0, 1: 3.0}, kernel=rbf;, score=0.349 total time=   9.7s\n",
      "[CV 2/5] END C=1, class_weight={0: 1.0, 1: 3.0}, kernel=rbf;, score=0.346 total time=   8.5s\n",
      "[CV 3/5] END C=1, class_weight={0: 1.0, 1: 3.0}, kernel=rbf;, score=0.333 total time=   8.7s\n",
      "[CV 4/5] END C=1, class_weight={0: 1.0, 1: 3.0}, kernel=rbf;, score=0.314 total time=   8.8s\n",
      "[CV 5/5] END C=1, class_weight={0: 1.0, 1: 3.0}, kernel=rbf;, score=0.337 total time=   8.7s\n",
      "[CV 1/5] END C=1, class_weight={0: 1.0, 1: 3.0}, kernel=poly;, score=0.349 total time=   8.5s\n",
      "[CV 2/5] END C=1, class_weight={0: 1.0, 1: 3.0}, kernel=poly;, score=0.346 total time=   8.5s\n",
      "[CV 3/5] END C=1, class_weight={0: 1.0, 1: 3.0}, kernel=poly;, score=0.333 total time=   8.7s\n",
      "[CV 4/5] END C=1, class_weight={0: 1.0, 1: 3.0}, kernel=poly;, score=0.314 total time=   9.0s\n",
      "[CV 5/5] END C=1, class_weight={0: 1.0, 1: 3.0}, kernel=poly;, score=0.337 total time=   8.8s\n",
      "[CV 1/5] END C=1, class_weight={0: 1.0, 1: 3.0}, kernel=linear;, score=0.349 total time=   8.7s\n",
      "[CV 2/5] END C=1, class_weight={0: 1.0, 1: 3.0}, kernel=linear;, score=0.346 total time=   8.6s\n",
      "[CV 3/5] END C=1, class_weight={0: 1.0, 1: 3.0}, kernel=linear;, score=0.333 total time=   8.7s\n",
      "[CV 4/5] END C=1, class_weight={0: 1.0, 1: 3.0}, kernel=linear;, score=0.314 total time=   8.8s\n",
      "[CV 5/5] END C=1, class_weight={0: 1.0, 1: 3.0}, kernel=linear;, score=0.337 total time=   8.7s\n",
      "[CV 1/5] END C=1, class_weight={0: 1.0, 1: 5.0}, kernel=rbf;, score=0.376 total time=   6.5s\n",
      "[CV 2/5] END C=1, class_weight={0: 1.0, 1: 5.0}, kernel=rbf;, score=0.369 total time=   6.6s\n",
      "[CV 3/5] END C=1, class_weight={0: 1.0, 1: 5.0}, kernel=rbf;, score=0.371 total time=   6.3s\n",
      "[CV 4/5] END C=1, class_weight={0: 1.0, 1: 5.0}, kernel=rbf;, score=0.356 total time=   6.6s\n",
      "[CV 5/5] END C=1, class_weight={0: 1.0, 1: 5.0}, kernel=rbf;, score=0.362 total time=   6.6s\n",
      "[CV 1/5] END C=1, class_weight={0: 1.0, 1: 5.0}, kernel=poly;, score=0.376 total time=   6.5s\n",
      "[CV 2/5] END C=1, class_weight={0: 1.0, 1: 5.0}, kernel=poly;, score=0.369 total time=   6.6s\n",
      "[CV 3/5] END C=1, class_weight={0: 1.0, 1: 5.0}, kernel=poly;, score=0.371 total time=   6.2s\n",
      "[CV 4/5] END C=1, class_weight={0: 1.0, 1: 5.0}, kernel=poly;, score=0.356 total time=   6.5s\n",
      "[CV 5/5] END C=1, class_weight={0: 1.0, 1: 5.0}, kernel=poly;, score=0.362 total time=   6.5s\n",
      "[CV 1/5] END C=1, class_weight={0: 1.0, 1: 5.0}, kernel=linear;, score=0.376 total time=   6.5s\n",
      "[CV 2/5] END C=1, class_weight={0: 1.0, 1: 5.0}, kernel=linear;, score=0.369 total time=   6.6s\n",
      "[CV 3/5] END C=1, class_weight={0: 1.0, 1: 5.0}, kernel=linear;, score=0.371 total time=   6.2s\n",
      "[CV 4/5] END C=1, class_weight={0: 1.0, 1: 5.0}, kernel=linear;, score=0.356 total time=   6.4s\n",
      "[CV 5/5] END C=1, class_weight={0: 1.0, 1: 5.0}, kernel=linear;, score=0.362 total time=   6.5s\n",
      "[CV 1/5] END C=1, class_weight={0: 1.0, 1: 7.0}, kernel=rbf;, score=0.360 total time=   5.9s\n",
      "[CV 2/5] END C=1, class_weight={0: 1.0, 1: 7.0}, kernel=rbf;, score=0.354 total time=   5.9s\n",
      "[CV 3/5] END C=1, class_weight={0: 1.0, 1: 7.0}, kernel=rbf;, score=0.359 total time=   5.8s\n",
      "[CV 4/5] END C=1, class_weight={0: 1.0, 1: 7.0}, kernel=rbf;, score=0.365 total time=   5.9s\n",
      "[CV 5/5] END C=1, class_weight={0: 1.0, 1: 7.0}, kernel=rbf;, score=0.355 total time=   6.2s\n",
      "[CV 1/5] END C=1, class_weight={0: 1.0, 1: 7.0}, kernel=poly;, score=0.360 total time=   5.9s\n",
      "[CV 2/5] END C=1, class_weight={0: 1.0, 1: 7.0}, kernel=poly;, score=0.354 total time=   5.9s\n",
      "[CV 3/5] END C=1, class_weight={0: 1.0, 1: 7.0}, kernel=poly;, score=0.359 total time=   5.8s\n",
      "[CV 4/5] END C=1, class_weight={0: 1.0, 1: 7.0}, kernel=poly;, score=0.365 total time=   5.9s\n",
      "[CV 5/5] END C=1, class_weight={0: 1.0, 1: 7.0}, kernel=poly;, score=0.355 total time=   6.2s\n",
      "[CV 1/5] END C=1, class_weight={0: 1.0, 1: 7.0}, kernel=linear;, score=0.360 total time=   5.9s\n",
      "[CV 2/5] END C=1, class_weight={0: 1.0, 1: 7.0}, kernel=linear;, score=0.354 total time=   5.9s\n",
      "[CV 3/5] END C=1, class_weight={0: 1.0, 1: 7.0}, kernel=linear;, score=0.359 total time=   5.8s\n",
      "[CV 4/5] END C=1, class_weight={0: 1.0, 1: 7.0}, kernel=linear;, score=0.365 total time=   5.9s\n",
      "[CV 5/5] END C=1, class_weight={0: 1.0, 1: 7.0}, kernel=linear;, score=0.355 total time=   6.2s\n",
      "[CV 1/5] END C=3, class_weight={0: 1.0, 1: 3.0}, kernel=rbf;, score=0.315 total time=  15.7s\n",
      "[CV 2/5] END C=3, class_weight={0: 1.0, 1: 3.0}, kernel=rbf;, score=0.316 total time=  14.9s\n",
      "[CV 3/5] END C=3, class_weight={0: 1.0, 1: 3.0}, kernel=rbf;, score=0.312 total time=  15.4s\n",
      "[CV 4/5] END C=3, class_weight={0: 1.0, 1: 3.0}, kernel=rbf;, score=0.292 total time=  15.0s\n",
      "[CV 5/5] END C=3, class_weight={0: 1.0, 1: 3.0}, kernel=rbf;, score=0.316 total time=  15.3s\n",
      "[CV 1/5] END C=3, class_weight={0: 1.0, 1: 3.0}, kernel=poly;, score=0.315 total time=  15.1s\n",
      "[CV 2/5] END C=3, class_weight={0: 1.0, 1: 3.0}, kernel=poly;, score=0.316 total time=  14.9s\n",
      "[CV 3/5] END C=3, class_weight={0: 1.0, 1: 3.0}, kernel=poly;, score=0.312 total time=  15.4s\n",
      "[CV 4/5] END C=3, class_weight={0: 1.0, 1: 3.0}, kernel=poly;, score=0.292 total time=  15.0s\n",
      "[CV 5/5] END C=3, class_weight={0: 1.0, 1: 3.0}, kernel=poly;, score=0.316 total time=  15.4s\n",
      "[CV 1/5] END C=3, class_weight={0: 1.0, 1: 3.0}, kernel=linear;, score=0.315 total time=  15.2s\n",
      "[CV 2/5] END C=3, class_weight={0: 1.0, 1: 3.0}, kernel=linear;, score=0.316 total time=  14.9s\n",
      "[CV 3/5] END C=3, class_weight={0: 1.0, 1: 3.0}, kernel=linear;, score=0.312 total time=  15.3s\n",
      "[CV 4/5] END C=3, class_weight={0: 1.0, 1: 3.0}, kernel=linear;, score=0.292 total time=  15.0s\n",
      "[CV 5/5] END C=3, class_weight={0: 1.0, 1: 3.0}, kernel=linear;, score=0.316 total time=  15.3s\n",
      "[CV 1/5] END C=3, class_weight={0: 1.0, 1: 5.0}, kernel=rbf;, score=0.340 total time=  11.5s\n",
      "[CV 2/5] END C=3, class_weight={0: 1.0, 1: 5.0}, kernel=rbf;, score=0.350 total time=  11.8s\n",
      "[CV 3/5] END C=3, class_weight={0: 1.0, 1: 5.0}, kernel=rbf;, score=0.342 total time=  11.1s\n",
      "[CV 4/5] END C=3, class_weight={0: 1.0, 1: 5.0}, kernel=rbf;, score=0.325 total time=  11.9s\n",
      "[CV 5/5] END C=3, class_weight={0: 1.0, 1: 5.0}, kernel=rbf;, score=0.329 total time=  12.0s\n",
      "[CV 1/5] END C=3, class_weight={0: 1.0, 1: 5.0}, kernel=poly;, score=0.340 total time=  11.4s\n",
      "[CV 2/5] END C=3, class_weight={0: 1.0, 1: 5.0}, kernel=poly;, score=0.350 total time=  11.8s\n",
      "[CV 3/5] END C=3, class_weight={0: 1.0, 1: 5.0}, kernel=poly;, score=0.342 total time=  11.1s\n",
      "[CV 4/5] END C=3, class_weight={0: 1.0, 1: 5.0}, kernel=poly;, score=0.325 total time=  11.8s\n",
      "[CV 5/5] END C=3, class_weight={0: 1.0, 1: 5.0}, kernel=poly;, score=0.329 total time=  12.0s\n",
      "[CV 1/5] END C=3, class_weight={0: 1.0, 1: 5.0}, kernel=linear;, score=0.340 total time=  11.4s\n",
      "[CV 2/5] END C=3, class_weight={0: 1.0, 1: 5.0}, kernel=linear;, score=0.350 total time=  11.7s\n",
      "[CV 3/5] END C=3, class_weight={0: 1.0, 1: 5.0}, kernel=linear;, score=0.342 total time=  11.1s\n",
      "[CV 4/5] END C=3, class_weight={0: 1.0, 1: 5.0}, kernel=linear;, score=0.325 total time=  11.9s\n",
      "[CV 5/5] END C=3, class_weight={0: 1.0, 1: 5.0}, kernel=linear;, score=0.329 total time=  12.1s\n",
      "[CV 1/5] END C=3, class_weight={0: 1.0, 1: 7.0}, kernel=rbf;, score=0.327 total time=  10.6s\n",
      "[CV 2/5] END C=3, class_weight={0: 1.0, 1: 7.0}, kernel=rbf;, score=0.333 total time=  10.8s\n",
      "[CV 3/5] END C=3, class_weight={0: 1.0, 1: 7.0}, kernel=rbf;, score=0.334 total time=  10.4s\n",
      "[CV 4/5] END C=3, class_weight={0: 1.0, 1: 7.0}, kernel=rbf;, score=0.331 total time=  10.4s\n",
      "[CV 5/5] END C=3, class_weight={0: 1.0, 1: 7.0}, kernel=rbf;, score=0.327 total time=  11.0s\n",
      "[CV 1/5] END C=3, class_weight={0: 1.0, 1: 7.0}, kernel=poly;, score=0.327 total time=  10.5s\n",
      "[CV 2/5] END C=3, class_weight={0: 1.0, 1: 7.0}, kernel=poly;, score=0.333 total time=  10.8s\n",
      "[CV 3/5] END C=3, class_weight={0: 1.0, 1: 7.0}, kernel=poly;, score=0.334 total time=  10.5s\n",
      "[CV 4/5] END C=3, class_weight={0: 1.0, 1: 7.0}, kernel=poly;, score=0.331 total time=  10.5s\n",
      "[CV 5/5] END C=3, class_weight={0: 1.0, 1: 7.0}, kernel=poly;, score=0.327 total time=  11.0s\n",
      "[CV 1/5] END C=3, class_weight={0: 1.0, 1: 7.0}, kernel=linear;, score=0.327 total time=  10.5s\n",
      "[CV 2/5] END C=3, class_weight={0: 1.0, 1: 7.0}, kernel=linear;, score=0.333 total time=  10.8s\n",
      "[CV 3/5] END C=3, class_weight={0: 1.0, 1: 7.0}, kernel=linear;, score=0.334 total time=  10.4s\n",
      "[CV 4/5] END C=3, class_weight={0: 1.0, 1: 7.0}, kernel=linear;, score=0.331 total time=  10.4s\n",
      "[CV 5/5] END C=3, class_weight={0: 1.0, 1: 7.0}, kernel=linear;, score=0.327 total time=  11.0s\n",
      "[CV 1/5] END C=9, class_weight={0: 1.0, 1: 3.0}, kernel=rbf;, score=0.286 total time=  29.0s\n",
      "[CV 2/5] END C=9, class_weight={0: 1.0, 1: 3.0}, kernel=rbf;, score=0.297 total time=  28.9s\n",
      "[CV 3/5] END C=9, class_weight={0: 1.0, 1: 3.0}, kernel=rbf;, score=0.287 total time=  29.5s\n",
      "[CV 4/5] END C=9, class_weight={0: 1.0, 1: 3.0}, kernel=rbf;, score=0.268 total time=  28.8s\n",
      "[CV 5/5] END C=9, class_weight={0: 1.0, 1: 3.0}, kernel=rbf;, score=0.283 total time=  28.4s\n",
      "[CV 1/5] END C=9, class_weight={0: 1.0, 1: 3.0}, kernel=poly;, score=0.286 total time=  28.8s\n",
      "[CV 2/5] END C=9, class_weight={0: 1.0, 1: 3.0}, kernel=poly;, score=0.297 total time=  28.9s\n",
      "[CV 3/5] END C=9, class_weight={0: 1.0, 1: 3.0}, kernel=poly;, score=0.287 total time=  29.5s\n",
      "[CV 4/5] END C=9, class_weight={0: 1.0, 1: 3.0}, kernel=poly;, score=0.268 total time=  28.8s\n",
      "[CV 5/5] END C=9, class_weight={0: 1.0, 1: 3.0}, kernel=poly;, score=0.283 total time=  28.6s\n",
      "[CV 1/5] END C=9, class_weight={0: 1.0, 1: 3.0}, kernel=linear;, score=0.286 total time=  29.1s\n",
      "[CV 2/5] END C=9, class_weight={0: 1.0, 1: 3.0}, kernel=linear;, score=0.297 total time=  28.9s\n",
      "[CV 3/5] END C=9, class_weight={0: 1.0, 1: 3.0}, kernel=linear;, score=0.287 total time=  30.3s\n",
      "[CV 4/5] END C=9, class_weight={0: 1.0, 1: 3.0}, kernel=linear;, score=0.268 total time=  28.8s\n",
      "[CV 5/5] END C=9, class_weight={0: 1.0, 1: 3.0}, kernel=linear;, score=0.283 total time=  28.9s\n",
      "[CV 1/5] END C=9, class_weight={0: 1.0, 1: 5.0}, kernel=rbf;, score=0.308 total time=  22.7s\n",
      "[CV 2/5] END C=9, class_weight={0: 1.0, 1: 5.0}, kernel=rbf;, score=0.322 total time=  23.6s\n",
      "[CV 3/5] END C=9, class_weight={0: 1.0, 1: 5.0}, kernel=rbf;, score=0.320 total time=  22.3s\n",
      "[CV 4/5] END C=9, class_weight={0: 1.0, 1: 5.0}, kernel=rbf;, score=0.298 total time=  23.5s\n",
      "[CV 5/5] END C=9, class_weight={0: 1.0, 1: 5.0}, kernel=rbf;, score=0.304 total time=  24.7s\n",
      "[CV 1/5] END C=9, class_weight={0: 1.0, 1: 5.0}, kernel=poly;, score=0.308 total time=  23.4s\n",
      "[CV 2/5] END C=9, class_weight={0: 1.0, 1: 5.0}, kernel=poly;, score=0.322 total time=  24.1s\n",
      "[CV 3/5] END C=9, class_weight={0: 1.0, 1: 5.0}, kernel=poly;, score=0.320 total time=  22.8s\n",
      "[CV 4/5] END C=9, class_weight={0: 1.0, 1: 5.0}, kernel=poly;, score=0.298 total time=  23.7s\n",
      "[CV 5/5] END C=9, class_weight={0: 1.0, 1: 5.0}, kernel=poly;, score=0.304 total time=  24.6s\n",
      "[CV 1/5] END C=9, class_weight={0: 1.0, 1: 5.0}, kernel=linear;, score=0.308 total time=  22.7s\n",
      "[CV 2/5] END C=9, class_weight={0: 1.0, 1: 5.0}, kernel=linear;, score=0.322 total time=  24.0s\n",
      "[CV 3/5] END C=9, class_weight={0: 1.0, 1: 5.0}, kernel=linear;, score=0.320 total time=  22.8s\n",
      "[CV 4/5] END C=9, class_weight={0: 1.0, 1: 5.0}, kernel=linear;, score=0.298 total time=  24.0s\n",
      "[CV 5/5] END C=9, class_weight={0: 1.0, 1: 5.0}, kernel=linear;, score=0.304 total time=  24.6s\n",
      "[CV 1/5] END C=9, class_weight={0: 1.0, 1: 7.0}, kernel=rbf;, score=0.298 total time=  21.1s\n",
      "[CV 2/5] END C=9, class_weight={0: 1.0, 1: 7.0}, kernel=rbf;, score=0.306 total time=  21.7s\n",
      "[CV 3/5] END C=9, class_weight={0: 1.0, 1: 7.0}, kernel=rbf;, score=0.306 total time=  21.1s\n",
      "[CV 4/5] END C=9, class_weight={0: 1.0, 1: 7.0}, kernel=rbf;, score=0.305 total time=  20.9s\n",
      "[CV 5/5] END C=9, class_weight={0: 1.0, 1: 7.0}, kernel=rbf;, score=0.299 total time=  22.4s\n",
      "[CV 1/5] END C=9, class_weight={0: 1.0, 1: 7.0}, kernel=poly;, score=0.298 total time=  21.1s\n",
      "[CV 2/5] END C=9, class_weight={0: 1.0, 1: 7.0}, kernel=poly;, score=0.306 total time=  21.9s\n",
      "[CV 3/5] END C=9, class_weight={0: 1.0, 1: 7.0}, kernel=poly;, score=0.306 total time=  21.4s\n",
      "[CV 4/5] END C=9, class_weight={0: 1.0, 1: 7.0}, kernel=poly;, score=0.305 total time=  21.0s\n",
      "[CV 5/5] END C=9, class_weight={0: 1.0, 1: 7.0}, kernel=poly;, score=0.299 total time=  22.5s\n",
      "[CV 1/5] END C=9, class_weight={0: 1.0, 1: 7.0}, kernel=linear;, score=0.298 total time=  21.2s\n",
      "[CV 2/5] END C=9, class_weight={0: 1.0, 1: 7.0}, kernel=linear;, score=0.306 total time=  21.8s\n",
      "[CV 3/5] END C=9, class_weight={0: 1.0, 1: 7.0}, kernel=linear;, score=0.306 total time=  21.2s\n",
      "[CV 4/5] END C=9, class_weight={0: 1.0, 1: 7.0}, kernel=linear;, score=0.305 total time=  21.1s\n",
      "[CV 5/5] END C=9, class_weight={0: 1.0, 1: 7.0}, kernel=linear;, score=0.299 total time=  22.7s\n"
     ]
    },
    {
     "data": {
      "text/plain": [
       "GridSearchCV(estimator=SVC(),\n",
       "             param_grid={'C': [1, 3, 9],\n",
       "                         'class_weight': [{0: 1.0, 1: 3.0}, {0: 1.0, 1: 5.0},\n",
       "                                          {0: 1.0, 1: 7.0}],\n",
       "                         'kernel': ['rbf', 'poly', 'linear']},\n",
       "             scoring='f1', verbose=3)"
      ]
     },
     "execution_count": 50,
     "metadata": {},
     "output_type": "execute_result"
    }
   ],
   "source": [
    "grid = GridSearchCV(svm, space, scoring=\"f1\", verbose=3)\n",
    "grid.fit(X_train, y_train)"
   ]
  },
  {
   "cell_type": "markdown",
   "metadata": {},
   "source": [
    "Use f1 score so that the it is a better metric compare to accuracy score since 90% of our data are marked with NO Heart Disease which will be zero for the y value."
   ]
  },
  {
   "cell_type": "code",
   "execution_count": 51,
   "metadata": {},
   "outputs": [
    {
     "data": {
      "text/plain": [
       "{'C': 1, 'class_weight': {0: 1.0, 1: 5.0}, 'kernel': 'rbf'}"
      ]
     },
     "execution_count": 51,
     "metadata": {},
     "output_type": "execute_result"
    }
   ],
   "source": [
    "grid.best_params_"
   ]
  },
  {
   "cell_type": "code",
   "execution_count": 52,
   "metadata": {},
   "outputs": [
    {
     "data": {
      "text/plain": [
       "0.36670747113800095"
      ]
     },
     "execution_count": 52,
     "metadata": {},
     "output_type": "execute_result"
    }
   ],
   "source": [
    "grid.best_score_"
   ]
  },
  {
   "cell_type": "markdown",
   "metadata": {},
   "source": [
    "Show the best parameter and score result from the grid search"
   ]
  },
  {
   "cell_type": "markdown",
   "metadata": {},
   "source": [
    "#### SVM Result"
   ]
  },
  {
   "cell_type": "code",
   "execution_count": 53,
   "metadata": {},
   "outputs": [
    {
     "name": "stdout",
     "output_type": "stream",
     "text": [
      "              precision    recall  f1-score   support\n",
      "\n",
      "           0       0.93      0.94      0.94     19470\n",
      "           1       0.28      0.23      0.25      1850\n",
      "\n",
      "    accuracy                           0.88     21320\n",
      "   macro avg       0.60      0.59      0.59     21320\n",
      "weighted avg       0.87      0.88      0.88     21320\n",
      "\n"
     ]
    }
   ],
   "source": [
    "svm = SVC(C=1, class_weight={0:1, 1:5}, cache_size=4096)\n",
    "svm.fit(X_train, y_train)\n",
    "y_pred = svm.predict(X_test)\n",
    "test_report = classification_report(y_test, y_pred)\n",
    "print(test_report)"
   ]
  },
  {
   "cell_type": "code",
   "execution_count": 61,
   "metadata": {},
   "outputs": [
    {
     "name": "stdout",
     "output_type": "stream",
     "text": [
      "Train_score: 0.9132719039916992\n",
      "Test_score 0.9126172661781311\n"
     ]
    }
   ],
   "source": [
    "train_score = svm.score(X_train, y_train)\n",
    "test_score = svm.score(X_test,y_test)\n",
    "print(\"Train_score:\", train_score)\n",
    "print(\"Test_score\", test_score)"
   ]
  },
  {
   "cell_type": "markdown",
   "metadata": {},
   "source": [
    "Use the best parameter above to regenerate the model using the full dataset, also print our the scoring on the y_test data."
   ]
  },
  {
   "cell_type": "code",
   "execution_count": 56,
   "metadata": {},
   "outputs": [],
   "source": [
    "svm = SVC(C=1, class_weight={0:1, 1:5}, gamma='scale', cache_size=4096, probability=True)\n",
    "svm.fit(X_train, y_train)\n",
    "y_prob = svm.predict_proba(X_test)\n",
    "y_prob = y_prob[:,1]"
   ]
  },
  {
   "cell_type": "markdown",
   "metadata": {},
   "source": [
    "Regenerate the model with probability prediction on"
   ]
  },
  {
   "cell_type": "code",
   "execution_count": 58,
   "metadata": {},
   "outputs": [
    {
     "data": {
      "image/png": "[encoded data removed]",
      "text/plain": [
       "<Figure size 432x288 with 1 Axes>"
      ]
     },
     "metadata": {},
     "output_type": "display_data"
    },
    {
     "name": "stdout",
     "output_type": "stream",
     "text": [
      "SVM: ROC AUC=0.741\n"
     ]
    }
   ],
   "source": [
    "svm_auc_score = roc_auc_score(y_test, y_prob)\n",
    "svm_fpr, svm_tpr, _ = roc_curve(y_test, y_prob)\n",
    "plt.plot(svm_fpr, svm_tpr, label='SVM')\n",
    "plt.xlabel('False Positive Rate')\n",
    "plt.ylabel('True Positive Rate')\n",
    "plt.legend()\n",
    "plt.show()\n",
    "print('SVM: ROC AUC=%.3f' % (svm_auc_score))"
   ]
  },
  {
   "cell_type": "markdown",
   "metadata": {},
   "source": [
    "ROC graph of the SVM"
   ]
  },
  {
   "cell_type": "markdown",
   "metadata": {},
   "source": [
    "### SVM Explained\n",
    "\n",
    "The time for normal SVM in sklearn take so much time - around 30 minutes for 10,000 row - not even considering our 24 features. So we decided to use the GPU acceleration on the SVM, and CMUL is the package we pick.\n",
    "\n",
    "We only have 1 person with 1 3080 GPU and if we use cv=5 for 1,000 combinations, it literally tooks from morning to midnight. As you can see form the demo, it tooks about 1-2 hours to just run \"Fitting 5 folds for each of 27 candidates, totalling 135 fits\", then 1,000 fits will rake around 15 hours. consider this much work we decided to do only show a section of our work.\n",
    "\n",
    "So the above is the best section of our grid search hyperparameter selection.\n",
    "\n",
    "We spend at least 100 hours on running the gridsearch on the given data set with the following parameters:\n",
    "- C: 0.001, 0.01, 0.1, 1, 10, 100, 1000\n",
    "- Gamma: \"auto\", \"scale\", 1, 0.1, 0.01, 0.001, 0.0001\n",
    "- Model: \"rbf\"(default), \"poly\", \"linear\", \"sigmoid\"\n",
    "- Class Weight: {100:1}, {10:1}, {1:1}, {1:2}, {1:3}, {1:4}, {1:5}, {1:6}, {1:7}, {1:10}, {1:100} (the ratio is the ration of class_0 : class_1 - no : yes)\n",
    "- PCA: 3, 5, 10, 20 (decrease data demension)\n",
    "\n",
    "The process above on grid search gives us the following result:\n",
    "- C: if C is lower than 1, the model basically gives up on the YES-HEART-DISEASE case and accuracy scoure is around 0.91 with f1 score equals to 0. Also any C value larger than 10 will result in f1 score lower than 0.2. Thus we choose 1, 3, and 9 for our search space.\n",
    "- Gamma: really does not matter in this case, and anything not \"auto\" make the model calculation time larger (about 50% more time), but with about 0.001 f1 score improvement. thus the gamma is ignored at the grid search.\n",
    "- Model: from the demo above we can see that it also does not matters a lot, but sigmoid model usually only gives 50% of what other model get (if rbf has score=0.25, the sigmoid will have socre=0.13). Also, polynomial model does not work that well when C value is small or sigma value is not \"auto\". Thus, the Sigmoid is dropped our of the search space.\n",
    "- Class Weight: after run all the above parameters, from {1:1} to {1:10} the f1 score starts from 0.15 raise to about 0.35 ({1:5} ratio) and get back down to 0.2, thus we choose {0:1.0, 1:3.0}, {0:1.0, 1:5.0}, {0:1.0, 1:7.0} for our search space.\n",
    "- PCA: We tried to PCA down some features so that SVM can actually working better with less noise, but it turns our useless, the less the features the worse the score, thus we give up on reducing the demension for the data. But the PCA it self (keep same number of features) does improve the f1 score by around 10% so we kept that.\n",
    "\n",
    "If we trained on accuracy, then the SVM gives pretty good and fast response simply by predicting all the patient does not have heart diease.\n",
    "\n",
    "### Analysis and Conclusion\n",
    "\n",
    "- SVM does not give very good result for this dataset. The main reason is that the dataset is very imbalanced: about 90% of the samples are marked as 0 while 10% are marked as 1. PCA is added to the train and test set try to reduce the noise as wella as the class weight is added to the space to ease out the effects of the inbalanced dataset. But the results shows that the syptom of inbalanced data.\n",
    "\n",
    "- Feature selection has done previously and has been discussed in the decision tree section.\n",
    "\n",
    "- The accuracy score from all of the above parameters are very stable, all around 0.91, which never changed. As we can see in the demo, both the training and testing score is 0.91. Thus we bleive that improving the f1 score on class 1 (have heart disease) is our primal goal, and our best model gives the f1 score for our best model when testing is 0.25, which is not a good score. Still, this may caused by the very imbalanced dataset.\n",
    "\n",
    "- From the ROC curve, we can see that the curve does not show a good patter between TPR and FPR, and the AUC is 0.741, which there still 1/4 of the area need to be obtained to reach the perfect graph for ROC. And becuse if we trained on accuracy, the SVM will give simple result whihc predict all y values are 0 - no heart disease for everyone, which will still gives them a 0.91 high score no matter what parameter we input. Thus for SVM we cannot graph a learning curve.\n",
    "\n",
    "- All in all, the dataset is quiet unbalanced, and the f1 score result has prove that SVM cannot handel this dataset or gives out good predictions."
   ]
  },
  {
   "cell_type": "markdown",
   "metadata": {},
   "source": [
    "## Logistic Regression"
   ]
  },
  {
   "cell_type": "markdown",
   "metadata": {},
   "source": [
    "### Import Packages"
   ]
  },
  {
   "cell_type": "code",
   "execution_count": 57,
   "metadata": {},
   "outputs": [],
   "source": [
    "from sklearn.model_selection import KFold\n",
    "from sklearn.model_selection import cross_val_score\n",
    "from sklearn.linear_model import LogisticRegression\n",
    "from sklearn.model_selection import RepeatedKFold\n",
    "from sklearn.model_selection import GridSearchCV\n",
    "from sklearn.metrics import classification_report\n",
    "from sklearn import metrics\n",
    "from sklearn.metrics import roc_auc_score, roc_curve"
   ]
  },
  {
   "cell_type": "markdown",
   "metadata": {},
   "source": [
    "### Split data"
   ]
  },
  {
   "cell_type": "code",
   "execution_count": 58,
   "metadata": {},
   "outputs": [],
   "source": [
    "result_df = result_df.drop(['Asian','Black','Hispanic','Other','White'], axis = 1)\n",
    "split_data = []\n",
    "for i in range(3):\n",
    "    split_data.append(result_df.sample(result_df.shape[0]//3, replace = False, random_state = 42))"
   ]
  },
  {
   "cell_type": "code",
   "execution_count": 59,
   "metadata": {},
   "outputs": [],
   "source": [
    "X = split_data[0]\n",
    "X = X.drop(['HeartDisease'], axis=1)\n",
    "y = split_data[0]\n",
    "y = y[\"HeartDisease\"]\n",
    "X_train, X_test, y_train, y_test = train_test_split(X, y, test_size=0.33, random_state=42)"
   ]
  },
  {
   "cell_type": "markdown",
   "metadata": {},
   "source": [
    "### First train with default parameters"
   ]
  },
  {
   "cell_type": "markdown",
   "metadata": {},
   "source": [
    "Firstly, we train the logistic regression model with default parameters of L2 penalty term and C value (inverse of regularization strength) of 1, and random state of 0. Then we fit the model using training data."
   ]
  },
  {
   "cell_type": "code",
   "execution_count": 60,
   "metadata": {},
   "outputs": [],
   "source": [
    "clf = LogisticRegression(penalty='l2', C=1.0, random_state=0)\n",
    "clf.fit(X_train, y_train)\n",
    "score_test = clf.score(X_test, y_test)"
   ]
  },
  {
   "cell_type": "markdown",
   "metadata": {},
   "source": [
    "### Take a look at the result"
   ]
  },
  {
   "cell_type": "code",
   "execution_count": 61,
   "metadata": {
    "scrolled": true
   },
   "outputs": [
    {
     "name": "stdout",
     "output_type": "stream",
     "text": [
      "0.9133833646028768\n"
     ]
    }
   ],
   "source": [
    "print(score_test)"
   ]
  },
  {
   "cell_type": "markdown",
   "metadata": {},
   "source": [
    "The mean accuracy of 0.91 shows average performance on predicting the labels of test data of the logistic regression model."
   ]
  },
  {
   "cell_type": "code",
   "execution_count": 62,
   "metadata": {
    "scrolled": false
   },
   "outputs": [
    {
     "name": "stdout",
     "output_type": "stream",
     "text": [
      "              precision    recall  f1-score   support\n",
      "\n",
      "           0       0.92      0.99      0.95     32090\n",
      "           1       0.53      0.10      0.17      3088\n",
      "\n",
      "    accuracy                           0.91     35178\n",
      "   macro avg       0.73      0.55      0.56     35178\n",
      "weighted avg       0.89      0.91      0.89     35178\n",
      "\n"
     ]
    }
   ],
   "source": [
    "y_pred_test = clf.predict(X_test)\n",
    "class_report_test = classification_report(y_test, y_pred_test)\n",
    "print(class_report_test)"
   ]
  },
  {
   "cell_type": "markdown",
   "metadata": {},
   "source": [
    "After we predict the labels of the test data, we check the report of the model's performance on some metrics. The precision, recall, and f1-score of predicting the \"0\" label, which are healthy people, are much higher than predicting the \"1\" label, which are heart disease patients, because there are significantly more healthy people than heart disease patients in the dataset. As a result, the model is much better at predicting the healthy people than heart disease patients."
   ]
  },
  {
   "cell_type": "code",
   "execution_count": 63,
   "metadata": {
    "scrolled": false
   },
   "outputs": [
    {
     "name": "stdout",
     "output_type": "stream",
     "text": [
      "Area under the Receiver Operating Characteristic curve: 0.8369688977890875\n"
     ]
    },
    {
     "data": {
      "image/png": "[encoded data removed]",
      "text/plain": [
       "<Figure size 600x400 with 1 Axes>"
      ]
     },
     "metadata": {
      "needs_background": "light"
     },
     "output_type": "display_data"
    }
   ],
   "source": [
    "scores = clf.predict_proba(X_test)[:,1]\n",
    "fpr, tpr, thresholds = metrics.roc_curve(y_test, scores, pos_label=1)\n",
    "roc_auc = roc_auc_score(y_test, scores)\n",
    "plt.figure(dpi=100)\n",
    "plt.plot(fpr, tpr)\n",
    "plt.title('ROC curve')\n",
    "plt.xlabel('False Positive Rate')\n",
    "plt.ylabel('True Positive Rate')\n",
    "\n",
    "print('Area under the Receiver Operating Characteristic curve:', \n",
    "      roc_auc)"
   ]
  },
  {
   "cell_type": "markdown",
   "metadata": {},
   "source": [
    "We then compute the probability estimate for each class in the model, and calculate the true positive rate, false positive rate, and thresholds using the probability estimate for the positive class. Next, we plot the receiver operating characteristic curve, and compute the area under the ROC curve. We can see that the curve is close to a diagonal line from the bottom left to the top right corners, which means that the logistic regression model has an average performance on the dataset. The area under the curve is not very high either. <br><br>\n",
    "Therefore, we decide to perform k-fold cross validation for further analysis."
   ]
  },
  {
   "cell_type": "markdown",
   "metadata": {},
   "source": [
    "### Apply KFold to check the result"
   ]
  },
  {
   "cell_type": "code",
   "execution_count": 64,
   "metadata": {},
   "outputs": [
    {
     "data": {
      "text/plain": [
       "array([0.91809017, 0.91598992, 0.9133296 , 0.90604873, 0.9108093 ,\n",
       "       0.91669   , 0.91781014, 0.91851022, 0.91192943, 0.91865024])"
      ]
     },
     "execution_count": 64,
     "metadata": {},
     "output_type": "execute_result"
    }
   ],
   "source": [
    "kf = KFold(n_splits=10, shuffle=True)\n",
    "model = LogisticRegression(penalty='l2', C=1.0, random_state=0)\n",
    "scores = cross_val_score(model, X_train, y_train, scoring='accuracy', cv=kf)\n",
    "scores"
   ]
  },
  {
   "cell_type": "markdown",
   "metadata": {},
   "source": [
    "We perform a 10-fold cross validation and evaluate its accuracy score. The scores of all folds have an average at about 0.91, which is not very high, so we perform grid search to find the best parameters."
   ]
  },
  {
   "cell_type": "markdown",
   "metadata": {},
   "source": [
    "### The result doesn't look good, apply GridSearch to find the parameters"
   ]
  },
  {
   "cell_type": "code",
   "execution_count": 43,
   "metadata": {},
   "outputs": [
    {
     "name": "stderr",
     "output_type": "stream",
     "text": [
      "C:\\Users\\shli_\\anaconda3\\lib\\site-packages\\sklearn\\model_selection\\_search.py:918: UserWarning: One or more of the test scores are non-finite: [0.91472417 0.91472977        nan 0.91472697 0.91472697        nan\n",
      "        nan 0.91483898        nan 0.91488939 0.91485858 0.91485858\n",
      " 0.91453654 0.91485858 0.91485858        nan        nan        nan\n",
      "        nan        nan 0.91472417 0.91472977        nan 0.91472977\n",
      " 0.91473257        nan        nan 0.91488379        nan 0.91495379\n",
      " 0.91492019 0.91492299 0.91470176 0.91492299 0.91492299        nan\n",
      "        nan        nan        nan        nan 0.91472417 0.91472977\n",
      "        nan 0.91472977 0.91472417        nan        nan 0.91505181\n",
      "        nan 0.91505741 0.91486418 0.91486138 0.91474097 0.91486418\n",
      " 0.91486418        nan        nan        nan        nan        nan\n",
      " 0.91472417 0.91472977        nan 0.91472697 0.91473537        nan\n",
      "        nan 0.915007          nan 0.9150378  0.91485298 0.91485578\n",
      " 0.91474657 0.91485298 0.91485298        nan        nan        nan\n",
      "        nan        nan 0.91472417 0.91472977        nan 0.91472417\n",
      " 0.91472977        nan        nan 0.914965          nan 0.9149734\n",
      " 0.91480818 0.91480818 0.91475217 0.91480818 0.91480538        nan\n",
      "        nan        nan        nan        nan 0.91472417 0.91472977\n",
      "        nan 0.91472697 0.91472417        nan        nan 0.91491179\n",
      "        nan 0.91494819 0.91474377 0.91474657 0.91472697 0.91474377\n",
      " 0.91474377        nan        nan        nan        nan        nan\n",
      " 0.91472417 0.91472977        nan 0.91472417 0.91472697        nan\n",
      "        nan 0.91477457        nan 0.91477177 0.91474937 0.91474937\n",
      " 0.91476057 0.91475217 0.91475497        nan        nan        nan\n",
      "        nan        nan 0.91472417 0.91472977        nan 0.91472697\n",
      " 0.91473257        nan        nan 0.91490339        nan 0.91488099\n",
      " 0.91476057 0.91476057 0.91472977 0.91476057 0.91476337        nan\n",
      "        nan        nan        nan        nan 0.91472417 0.91472977\n",
      "        nan 0.91472977 0.91472697        nan        nan 0.91483618\n",
      "        nan 0.91481378 0.91475497 0.91475777 0.91476057 0.91475497\n",
      " 0.91475217        nan        nan        nan        nan        nan\n",
      " 0.91472417 0.91472977        nan 0.91472417 0.91472417        nan\n",
      "        nan 0.91480258        nan 0.91481378 0.91475497 0.91475777\n",
      " 0.91476897 0.91475497 0.91476057        nan        nan        nan\n",
      "        nan        nan 0.91472417 0.91472977        nan 0.91472697\n",
      " 0.91473257        nan        nan 0.91478297        nan 0.91478297\n",
      " 0.91474937 0.91474937 0.91476617 0.91475217 0.91475217        nan\n",
      "        nan        nan        nan        nan 0.91472417 0.91472977\n",
      "        nan 0.91472697 0.91472977        nan        nan 0.91476897\n",
      "        nan 0.91476337 0.91474657 0.91475217 0.91475497 0.91474657\n",
      " 0.91474377        nan        nan        nan        nan        nan]\n",
      "  warnings.warn(\n"
     ]
    },
    {
     "name": "stdout",
     "output_type": "stream",
     "text": [
      "Best Score: 0.9150574068888265\n",
      "Best Hyperparameters: {'C': 0.03, 'penalty': 'l1', 'solver': 'saga'}\n"
     ]
    }
   ],
   "source": [
    "model = LogisticRegression()\n",
    "cv = RepeatedKFold(n_splits=5, n_repeats=5, random_state=42)\n",
    "space = dict()\n",
    "space['solver'] = ['newton-cg', 'lbfgs', 'liblinear', 'sag', 'saga']\n",
    "space['penalty'] = ['none', 'l1', 'l2', 'elasticnet']\n",
    "space['C'] = [0.01, 0.02, 0.03, 0.04, 0.05, 0.06, 0.75, 0.1, 0.2, 0.25, 0.5, 1]\n",
    "search = GridSearchCV(model, space, scoring='accuracy', n_jobs=-1, cv=cv)\n",
    "result = search.fit(X_train, y_train)\n",
    "print('Best Score: %s' % result.best_score_)\n",
    "print('Best Hyperparameters: %s' % result.best_params_)"
   ]
  },
  {
   "cell_type": "code",
   "execution_count": 45,
   "metadata": {},
   "outputs": [
    {
     "name": "stdout",
     "output_type": "stream",
     "text": [
      "0.9136676331798284\n"
     ]
    }
   ],
   "source": [
    "clf_best = LogisticRegression(penalty='l1', C=0.03, solver='saga', random_state=0)\n",
    "clf_best.fit(X_train, y_train)\n",
    "score_best = clf_best.score(X_test, y_test)\n",
    "print(score_best)"
   ]
  },
  {
   "cell_type": "markdown",
   "metadata": {},
   "source": [
    "After we ran grid search on different parameters of solvers, penalty terms, and C values, we found that the best model with C value of 0.03, l1 penalty term, and saga solver has the best accuracy score of 0.915 when trained on the training data. Finally, we ran the model using the best parameters we found on the test data, and found a accuracy score of 0.9137, which is slightly higher than the score of 0.9134 of the model with default parameters."
   ]
  },
  {
   "cell_type": "markdown",
   "metadata": {},
   "source": [
    "### Conclusion"
   ]
  },
  {
   "cell_type": "markdown",
   "metadata": {},
   "source": [
    "After performing k-fold cross validation and gird search to find the best parameters, the model does not show a significant improvement in its accuracy score. Therefore, logistic regression might not be a suitable model for predicting heart disease patients in this dataset."
   ]
  },
  {
   "cell_type": "markdown",
   "metadata": {},
   "source": [
    "# Ethics & Privacy"
   ]
  },
  {
   "cell_type": "markdown",
   "metadata": {},
   "source": [
    "The dataset on Kaggle does not have major ethical, privacy, or terms of use issues. The data of heart disease is collected from the Behavioral Risk Factor Surveillance System, which is a telephone survey system that collects people’s health data. It is part of the Centers for Disease Control and Prevention, which is a government agency, so there might not be much ethical concern or biases about how health data is collected. Since the dataset does not include personally identifiable information, it probably has few privacy issues.\n",
    "\n",
    "In order to protect our dataset from ethical and privacy issues, we will compare data from different sources to verify the data is free of biases and ethical concerns\n"
   ]
  },
  {
   "cell_type": "markdown",
   "metadata": {},
   "source": [
    "# Team Expectations "
   ]
  },
  {
   "cell_type": "markdown",
   "metadata": {},
   "source": [
    "* *1) We are expected to attend weekly meeting and be prepared for meeting.*\n",
    "* *2) Everyone is expected to contribute evenly to this project.*\n",
    "* *3) Everyone's idea will be respected by others.*\n",
    "* *4) Finish one's work one day before deadline so that others could proofread everything.*"
   ]
  },
  {
   "cell_type": "markdown",
   "metadata": {},
   "source": [
    "# Project Timeline Proposal"
   ]
  },
  {
   "cell_type": "markdown",
   "metadata": {},
   "source": [
    "| Meeting Date  | Meeting Time| Completed Before Meeting  | Discuss at Meeting |\n",
    "|---|---|---|---|\n",
    "| 4/17  |  10 PM |  Brainstorm topics/datasets (all)  | Determine best form of communication; Discuss and decide on final project topic; discuss hypothesis; begin background research; draft project proposal; Edit, finalize and submit proposal | \n",
    "| 4/24  |  10 AM |  Do background research on topic | Discuss ideal dataset(s) and ethics; Discuss possible models to implement | \n",
    "| 5/1  | 10 AM  | Search for datasets (Beckenbaur)  | Discuss Wrangling and possible analytical approaches; Assign group members to lead each specific part   |\n",
    "| 5/8  | 6 PM  | Import & Wrangle Data ,do some EDA (all) | Review/Edit wrangling/EDA; Discuss Analysis Plan; Finish checkpoint   |\n",
    "| 5/15  | 12 PM  | Finalize wrangling/EDA; Begin programming for project (all) | Discuss/edit project code; Complete project |\n",
    "| 5/22  | 12 PM  | Keep programming for projects and add analysis | Discuss/edit full project |\n",
    "| 5/29  | 8 PM  | Finalize analysis; Draft results/conclusion/discussion (all) | Finalize full project  |\n",
    "| 6/8  | Before 11:59 PM  | NA | Turn in Final Project  |"
   ]
  },
  {
   "cell_type": "markdown",
   "metadata": {},
   "source": [
    "# Footnotes\n",
    "<a name=\"CDC\"></a>1.[^](#admonish): CDC Heart Disease Facts.https://www.cdc.gov/heartdisease/facts.htm<br>\n",
    "<a name=\"BMC\"></a>2.[^](#admonish): BMC Medical Informatics and Decision Makinghttps://bmcmedinformdecismak.biomedcentral.com/articles/10.1186/s12911-020-1023-5<br>\n",
    "<a name=\"Hindawi\"></a>3.[^](#admonish): Prediction of Heart Disease Using a Combination of Machine Learning and Deep Learning https://www.hindawi.com/journals/cin/2021/8387680/<br>\n"
   ]
  }
 ],
 "metadata": {
  "kernelspec": {
   "display_name": "Python 3",
   "language": "python",
   "name": "python3"
  },
  "language_info": {
   "codemirror_mode": {
    "name": "ipython",
    "version": 3
   },
   "file_extension": ".py",
   "mimetype": "text/x-python",
   "name": "python",
   "nbconvert_exporter": "python",
   "pygments_lexer": "ipython3",
   "version": "3.8.8"
  },
  "widgets": {
   "application/vnd.jupyter.widget-state+json": {
    "state": {},
    "version_major": 2,
    "version_minor": 0
   }
  }
 },
 "nbformat": 4,
 "nbformat_minor": 4
}
